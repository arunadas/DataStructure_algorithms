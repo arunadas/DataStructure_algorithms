{
 "cells": [
  {
   "cell_type": "code",
   "execution_count": 75,
   "id": "novel-singles",
   "metadata": {},
   "outputs": [],
   "source": [
    "class Empty(Exception):\n",
    "    \"\"\"Error attempting to access an element from an empty container.\"\"\" \n",
    "    pass\n",
    "\n",
    "class _DoublyLinkedBase:\n",
    "    \"\"\"A base class providing a doubly linked list representation.\"\"\"\n",
    "\n",
    "    #-------------------------- nested Node class --------------------------    \n",
    "    class _Node:\n",
    "        \"\"\"Lightweight, nonpublic class for storing a singly linked node.\"\"\"\n",
    "        __slots__ = '_element' ,'_prev', '_next' #,'_key','_value'\n",
    "        def  __init__(self, element,prev, next):\n",
    "            self._element = element\n",
    "#             if element is not None:\n",
    "#                 self._key = element._key\n",
    "#                 self._value = element._value\n",
    "            self._prev = prev\n",
    "            self._next = next\n",
    "        \n",
    "    #------------------------------- doubly linked methods -------------------------------\n",
    "    def __init__ (self):\n",
    "        \"\"\"Create an empty list.\"\"\"\n",
    "        self._header = self._Node(None,None,None)\n",
    "        self._trailer = self._Node(None,None,None)\n",
    "        self._header._next = self._trailer\n",
    "        self._trailer._prev = self._header\n",
    "        self._size = 0\n",
    "\n",
    "    def __len__ (self):\n",
    "        \"\"\"Return the number of elements in the list.\"\"\"\n",
    "        return self._size\n",
    "\n",
    "    def is_empty(self):\n",
    "        \"\"\"Return True if the list is empty.\"\"\"\n",
    "        return self._size == 0  \n",
    "\n",
    "    def  _insert_between(self, e, predecessor, successor):\n",
    "        \"\"\"Add element e between two existing nodes and return new node\"\"\"\n",
    "        newest = self._Node(e,predecessor, successor)\n",
    "        predecessor._next = newest\n",
    "        successor._prev = newest \n",
    "        self._size += 1\n",
    "        return newest\n",
    "    \n",
    "    def _delete_node(self, node):\n",
    "        \"\"\"Delete nonsentinel node from the list and return its element.\"\"\"\n",
    "        predecessor = node._prev  \n",
    "        successor = node._next\n",
    "        predecessor._next = successor\n",
    "        successor._prev = predecessor\n",
    "        self._size -= 1\n",
    "        element = node._element  # record deleted element\n",
    "        node._prev = node._next = node._element = None \n",
    "        return element\n",
    "\n",
    "    def __str__(self):\n",
    "        cur_size = 0\n",
    "        if self.is_empty():\n",
    "            raise Empty( 'Queue is empty' )\n",
    "        else:\n",
    "            s = '' \n",
    "            head =  self._header\n",
    "            cur_size = self._size\n",
    "            for i in range(1,self._size+1):\n",
    "                s += str(self._header._next._element)\n",
    "                self._header = self._header._next\n",
    "            self._header = head\n",
    "            return s"
   ]
  },
  {
   "cell_type": "code",
   "execution_count": 77,
   "id": "pending-racing",
   "metadata": {},
   "outputs": [],
   "source": [
    "class PositionalList( _DoublyLinkedBase):\n",
    "    \"\"\"A sequential container of elements allowing positional access.\"\"\"\n",
    "    #-------------------------- nested Position class --------------------------\n",
    "    class Position:\n",
    "        \"\"\"An abstraction representing the location of a single element.\"\"\"\n",
    "        def  __init__     (self, container, node):\n",
    "            \"\"\"Constructor should not be invoked by user.\"\"\"\n",
    "            self._container = container\n",
    "            self._node = node\n",
    "        \n",
    "        def element(self):\n",
    "            \"\"\"Return the element stored at this Position.\"\"\"\n",
    "            return self._node._element\n",
    "        \n",
    "#         def getKeyValue(self):\n",
    "#             return self._node._key,self._node._value\n",
    "    \n",
    "        def  __eq__ (self, other):\n",
    "            \"\"\"Return True if other is a Position representing the same location.\"\"\"\n",
    "            return type(other) is type(self) and other._node is self._node\n",
    "        \n",
    "        def  __ne__ (self, other):\n",
    "            \"\"\"Return True if other does not represent the same location.\"\"\"\n",
    "            return not (self == other)\n",
    "        \n",
    "    #------------------------------- utility method -------------------------------\n",
    "    def  _validate(self, p):\n",
    "        \"\"\"Return position s node, or raise appropriate error if invalid.\"\"\"\n",
    "        if not isinstance(p, self.Position):\n",
    "            raise TypeError( 'p must be proper Position type' )\n",
    "        if p._container is not self:\n",
    "            raise ValueError( 'p does not belong to this container' )\n",
    "        if p._node._next is None: # convention for deprecated nodes\n",
    "            raise ValueError( 'p is no longer valid' )\n",
    "        return p._node\n",
    "        \n",
    "    #------------------------------- utility method -------------------------------\n",
    "    def _make_position(self, node):\n",
    "        \"\"\"Return Position instance for given node (or None if sentinel).\"\"\"\n",
    "        if node is self._header or node is self._trailer:\n",
    "            return None                        # boundary violation \n",
    "        else:\n",
    "            return self.Position(self, node)  # legitimate position\n",
    "\n",
    "    #------------------------------- accessors -------------------------------\n",
    "    def first(self):\n",
    "        \"\"\"Return the first Position in the list (or None if list is empty).\"\"\"\n",
    "        return self._make_position(self._header._next) \n",
    "\n",
    "    def last(self):\n",
    "        \"\"\"Return the last Position in the list (or None if list is empty).\"\"\"\n",
    "        return self._make_position(self._trailer._prev)\n",
    "\n",
    "    def before(self, p):\n",
    "        \"\"\"Return the Position just before Position p (or None if p is first).\"\"\"\n",
    "        node = self._validate(p)\n",
    "        return self._make_position(node._prev)\n",
    "        \n",
    "    def after(self, p):\n",
    "        \"\"\"Return the Position just after Position p (or None if p is first).\"\"\"\n",
    "        node = self._validate(p)\n",
    "        return self._make_position(node._next)\n",
    "\n",
    "    def __iter__(self):\n",
    "        \"\"\"Generate a forward iteration of the elements of the list.\"\"\"\n",
    "        cursor = self.first()\n",
    "        while cursor is not None:\n",
    "            yield cursor.element()\n",
    "            cursor = self.after(cursor)\n",
    "                \n",
    "   #------------------------------- mutators -------------------------------\n",
    "    # override inherited version to return Position, rather than Node \n",
    "    def _insert_between(self, e, predecessor, successor):\n",
    "        \"\"\"Add element between existing nodes and return new Position.\"\"\"\n",
    "        node = super()._insert_between(e, predecessor, successor)\n",
    "        return self._make_position(node)  \n",
    "\n",
    "    def add_first(self, e):\n",
    "        \"\"\"Insert element e at the front of the list and return new Position.\"\"\"\n",
    "        return self._insert_between(e, self._header, self._header._next)\n",
    "\n",
    "    def add_last(self, e):\n",
    "        \"\"\"Insert element e at the back of the list and return new Position.\"\"\"\n",
    "        return self._insert_between(e, self._trailer._prev, self._trailer)\n",
    "        \n",
    "    def add_before(self,p, e):\n",
    "        \"\"\"Insert element e into list before Position p and return new Position.\"\"\"\n",
    "        original = self._validate(p)\n",
    "        return self._insert_between(e, original._prev, original)\n",
    "\n",
    "    def add_after(self,p, e):\n",
    "        \"\"\"Insert element e into list after Position p and return new Position.\"\"\"\n",
    "        original = self._validate(p)\n",
    "        return self._insert_between(e, original, original._next)\n",
    "\n",
    "    def delete(self,p):\n",
    "        \"\"\"Remove and return the element at Position p.\"\"\"\n",
    "        original = self._validate(p)\n",
    "        return self._delete_node(original)\n",
    "\n",
    "    def replace(self,p, e):\n",
    "        \"\"\"Replace the element at Position p with e.\n",
    "\n",
    "         Return the element formerly at Position p.\n",
    "        \"\"\"\n",
    "        original = self._validate(p)\n",
    "        old_value = original._element\n",
    "        original._element = e\n",
    "        return old_value\n",
    "\n"
   ]
  },
  {
   "cell_type": "code",
   "execution_count": 109,
   "id": "prostate-apparel",
   "metadata": {},
   "outputs": [],
   "source": [
    "class PriorityQueueBase:\n",
    "    \"\"\"Abstract base class for a priority queue.\"\"\"\n",
    "\n",
    "    class _Item:\n",
    "        \"\"\"Lightweight composite to store priority queue items.\"\"\"\n",
    "        __slots__ = '_key' , '_value'\n",
    "\n",
    "\n",
    "        def   __init__ (self, k, v):\n",
    "            self._key = k\n",
    "            self._value = v\n",
    "\n",
    "        def   __lt__ (self, other):\n",
    "            return self._key < other._key\n",
    "        \n",
    "        def __gt__(self,other):\n",
    "            return self._key > other._key\n",
    "    \n",
    "    def is_empty(self):\n",
    "        \"\"\"Return True if the priority queue is empty.\"\"\"\n",
    "        return len(self) == 0"
   ]
  },
  {
   "cell_type": "code",
   "execution_count": 78,
   "id": "capable-hampton",
   "metadata": {},
   "outputs": [
    {
     "data": {
      "text/plain": [
       "[(5, 'A'), (9, 'C'), (3, 'B'), (7, 'D')]"
      ]
     },
     "execution_count": 78,
     "metadata": {},
     "output_type": "execute_result"
    }
   ],
   "source": [
    "class UnsortedPriorityQueue(PriorityQueueBase): # base class defines Item\n",
    "    \"\"\"A min-oriented priority queue implemented with an unsorted list\"\"\"\n",
    "    \n",
    "    def _find_min(self): # nonpublic utility\n",
    "        \"\"\"Return Position of item with minimum key.\"\"\"\n",
    "        if self.is_empty(): # is empty inherited from base class\n",
    "            raise Empty( 'Priority queue is empty' ) \n",
    "        small = self._data.first()\n",
    "        walk = self._data.after(small)\n",
    "        while walk is not None:\n",
    "            if walk.element() < small.element():\n",
    "                small = walk\n",
    "            walk = self._data.after(walk)\n",
    "        return small\n",
    "    \n",
    "    def __init__(self):\n",
    "        \"\"\"Create a new empty Priority Queue.\"\"\"\n",
    "        self._data = PositionalList()\n",
    "        \n",
    "    def __len__(self):\n",
    "        \"\"\"Return the number of items in the priority queue.\"\"\"\n",
    "        return len(self._data)\n",
    "    \n",
    "    def add(self, key, value):\n",
    "        \"\"\"Add a key-value pair.\"\"\"\n",
    "        self._data.add_last(self._Item(key, value))\n",
    "\n",
    "    def min(self):\n",
    "        \"\"\"Return but do not remove (k,v) tuple with minimum key.\"\"\"\n",
    "        p = self._find_min()\n",
    "        item = p.element()\n",
    "        return (item._key, item._value)\n",
    "\n",
    "    def remove_min(self):\n",
    "        \"\"\"Remove and return (k,v) tuple with minimum key.\"\"\"\n",
    "        p = self._find_min()\n",
    "        item = self._data.delete(p)\n",
    "        return (item._key, item._value)\n",
    "    \n",
    "    def printQue(self): # nonpublic utility\n",
    "        \"\"\"Print priority Queue value\"\"\"\n",
    "        if self.is_empty(): # is empty inherited from base class\n",
    "            raise Empty( 'Priority queue is empty' ) \n",
    "        d = []\n",
    "        first = self._data.first()\n",
    "        item1 = first.element()\n",
    "        d.append((item1._key,item1._value))\n",
    "        #d.append(first.getKeyValue())\n",
    "        second = self._data.after(first)\n",
    "        \n",
    "        while second is not None:\n",
    "            #d.append(second.getKeyValue())\n",
    "            item2 = second.element()\n",
    "            d.append((item2._key,item2._value))\n",
    "            second = self._data.after(second)\n",
    "                \n",
    "        return d    \n",
    "        \n",
    "\n",
    "UPQ = UnsortedPriorityQueue() \n",
    "UPQ.add(5,'A')\n",
    "UPQ.add(9,'C')\n",
    "UPQ.add(3,'B')\n",
    "UPQ.add(7,'D')\n",
    "UPQ.printQue()\n",
    "#UPQ.min()\n",
    "# UPQ.remove_min()\n",
    "# UPQ.remove_min()\n",
    "# len(UPQ)\n",
    "# UPQ.remove_min()\n",
    "# UPQ.remove_min()\n",
    "# UPQ.is_empty()\n",
    "# #UPQ.remove_min()"
   ]
  },
  {
   "cell_type": "code",
   "execution_count": 79,
   "id": "bored-orientation",
   "metadata": {},
   "outputs": [
    {
     "data": {
      "text/plain": [
       "[(3, 'B'), (5, 'A'), (7, 'D'), (9, 'C')]"
      ]
     },
     "execution_count": 79,
     "metadata": {},
     "output_type": "execute_result"
    }
   ],
   "source": [
    "class SortedPriorityQueue(PriorityQueueBase): # base class defines Item\n",
    "    \"\"\"A min-oriented priority queue implemented with a sorted list\"\"\"\n",
    "    \n",
    "    \n",
    "    def __init__(self):\n",
    "        \"\"\"Create a new empty Priority Queue.\"\"\"\n",
    "        self._data = PositionalList()\n",
    "        \n",
    "    def __len__(self):\n",
    "        \"\"\"Return the number of items in the priority queue.\"\"\"\n",
    "        return len(self._data)\n",
    "    \n",
    "    def add(self, key, value):\n",
    "        \"\"\"Add a key-value pair.\"\"\"\n",
    "        newest = self._Item(key, value)\n",
    "        walk = self._data.last()\n",
    "        while walk is not None and newest < walk.element():\n",
    "            walk = self._data.before(walk)\n",
    "        if walk is None:\n",
    "            self._data.add_first(newest)\n",
    "        else:\n",
    "            self._data.add_after(walk, newest)\n",
    "        \n",
    "\n",
    "    def min(self):\n",
    "        \"\"\"Return but do not remove (k,v) tuple with minimum key.\"\"\"\n",
    "        if self.is_empty(): # is empty inherited from base class\n",
    "            raise Empty( 'Priority queue is empty' )\n",
    "        p = self._data.first()\n",
    "        item = p.element()\n",
    "        return (item._key, item._value)\n",
    "\n",
    "    def remove_min(self):\n",
    "        \"\"\"Remove and return (k,v) tuple with minimum key.\"\"\"\n",
    "        if self.is_empty(): # is empty inherited from base class\n",
    "            raise Empty( 'Priority queue is empty' )\n",
    "        item = self._data.delete(self._data.first())\n",
    "        return (item._key, item._value)\n",
    "    \n",
    "    def printQue(self): # nonpublic utility\n",
    "        \"\"\"Print priority Queue value\"\"\"\n",
    "        if self.is_empty(): # is empty inherited from base class\n",
    "            raise Empty( 'Priority queue is empty' ) \n",
    "        d = []\n",
    "        first = self._data.first()\n",
    "        item1 = first.element()\n",
    "        d.append((item1._key,item1._value))\n",
    "        #d.append(first.getKeyValue())\n",
    "        second = self._data.after(first)\n",
    "        \n",
    "        while second is not None:\n",
    "            #d.append(second.getKeyValue())\n",
    "            item2 = second.element()\n",
    "            d.append((item2._key,item2._value))\n",
    "            second = self._data.after(second)\n",
    "                \n",
    "        return d\n",
    "    \n",
    "SPQ = SortedPriorityQueue() \n",
    "SPQ.add(5,'A')\n",
    "SPQ.add(9,'C')\n",
    "SPQ.add(3,'B')\n",
    "SPQ.add(7,'D')\n",
    "SPQ.printQue()    "
   ]
  },
  {
   "attachments": {
    "image.png": {
     "image/png": "[encoded data removed]"
    }
   },
   "cell_type": "markdown",
   "id": "orange-candidate",
   "metadata": {},
   "source": [
    "###### \n",
    "![image.png](attachment:image.png)"
   ]
  },
  {
   "cell_type": "code",
   "execution_count": 106,
   "id": "romantic-muscle",
   "metadata": {},
   "outputs": [
    {
     "name": "stdout",
     "output_type": "stream",
     "text": [
      "[(1, 'J'), (3, 'B'), (2, 'B'), (9, 'C'), (4, 'C'), (5, 'A'), (7, 'D')]\n",
      "(1, 'J')\n",
      "7\n",
      "[(2, 'B'), (3, 'B'), (5, 'A'), (9, 'C'), (4, 'C'), (7, 'D')]\n"
     ]
    }
   ],
   "source": [
    "class HeapPriorityQueue(PriorityQueueBase):\n",
    "    \"\"\"A min-oriented priority queue implemented with a binary heap.\"\"\"\n",
    "    #------------------------------ nonpublic behaviors ------------------------------ \n",
    "    def  _parent(self, j):\n",
    "        return (j-1) // 2\n",
    "    \n",
    "    def  _left(self, j):\n",
    "        return 2*j +1\n",
    "        \n",
    "    def  _right(self, j):\n",
    "        return 2*j +2\n",
    "    \n",
    "    def _has_left(self, j):                      # index beyond end of list?\n",
    "        return self._left(j) < len(self._data)\n",
    "    \n",
    "    def _has_right(self, j):                      # index beyond end of list?\n",
    "        return self._right(j) < len(self._data)\n",
    "    \n",
    "    def  _swap(self, i, j):\n",
    "        self._data[i], self._data[j] = self._data[j], self._data[i]\n",
    "        \n",
    "    def _upheap(self, j):\n",
    "        parent = self._parent(j)\n",
    "        if j > 0 and self._data[j] < self._data[parent]:\n",
    "            self._swap(j, parent) \n",
    "            self._upheap(parent)           # recur at position of parent\n",
    "            \n",
    "    def _downheap(self, j):\n",
    "        if self._has_left(j):\n",
    "            left = self._left(j) \n",
    "            small_child = left             # although right may be smaller\n",
    "            if self._has_right(j):\n",
    "                right = self._right(j)\n",
    "                if self._data[right] < self._data[left]:\n",
    "                    small_child = right\n",
    "            if self._data[small_child] < self._data[j]:\n",
    "                self._swap(j, small_child)\n",
    "                self._downheap(small_child) \n",
    "                \n",
    "                \n",
    "    #------------------------------ public behaviors ------------------------------\n",
    "    def __init__(self):\n",
    "        \"\"\"Create a new empty Priority Queue.\"\"\" \n",
    "        self._data = [ ]\n",
    "\n",
    "    def __len__ (self):\n",
    "        \"\"\"Return the number of items in the priority queue.\"\"\"\n",
    "        return len(self._data)\n",
    "\n",
    "    def add(self, key, value):\n",
    "        \"\"\"Add a key-value pair to the priority queue.\"\"\"\n",
    "        self._data.append(self._Item(key, value))\n",
    "        self._upheap(len(self._data) - 1)      # upheap newly added position\n",
    "\n",
    "    def min(self):\n",
    "        \"\"\"Return but do not remove (k,v) tuple with minimum key.\n",
    "           Raise Empty exception if empty. \"\"\"\n",
    "        if self.is_empty():\n",
    "            raise Empty( 'Priority queue is empty.')\n",
    "        item = self._data[0]\n",
    "        return (item._key, item._value)\n",
    "\n",
    "    def remove_min(self):\n",
    "        \"\"\"Remove and return (k,v) tuple with minimum key.\n",
    "         Raise Empty exception if empty. \"\"\"\n",
    "        if self.is_empty():\n",
    "            raise Empty( 'Priority queue is empty.' )\n",
    "        self._swap(0, len(self._data) - 1)           # put minimum item at the end\n",
    "        item = self._data.pop( )                      # and remove it from the list;\n",
    "        self._downheap(0)                              # then fix new root\n",
    "        return (item._key, item._value)\n",
    "    \n",
    "    def printHeap(self):\n",
    "        d = []\n",
    "        for i in range(len(self._data)):\n",
    "            item = self._data[i]\n",
    "            d.append(( item._key, item._value))\n",
    "        return d \n",
    "\n",
    "HPQ = HeapPriorityQueue() \n",
    "HPQ.add(5,'A')\n",
    "HPQ.add(9,'C')\n",
    "HPQ.add(3,'B')\n",
    "HPQ.add(4,'C')\n",
    "HPQ.add(1,'J')\n",
    "HPQ.add(2,'B')\n",
    "HPQ.add(7,'D')\n",
    "print(HPQ.printHeap())\n",
    "print(HPQ.min())\n",
    "print(len(HPQ))\n",
    "HPQ.remove_min()\n",
    "print(HPQ.printHeap())"
   ]
  },
  {
   "attachments": {
    "image.png": {
     "image/png": "[encoded data removed]"
    }
   },
   "cell_type": "markdown",
   "id": "removed-saver",
   "metadata": {},
   "source": [
    "![image.png](attachment:image.png)"
   ]
  },
  {
   "cell_type": "code",
   "execution_count": 88,
   "id": "three-mounting",
   "metadata": {},
   "outputs": [
    {
     "data": {
      "text/plain": [
       "'\\nO(1) time to remove smallest element from heap\\n'"
      ]
     },
     "execution_count": 88,
     "metadata": {},
     "output_type": "execute_result"
    }
   ],
   "source": [
    "#---------R-9.1------------------\n",
    "\"\"\"\n",
    "O(log n) time to remove smallest element from heap\n",
    "\"\"\""
   ]
  },
  {
   "cell_type": "code",
   "execution_count": 89,
   "id": "structured-target",
   "metadata": {},
   "outputs": [
    {
     "data": {
      "text/plain": [
       "' T is heap when\\np is the root of T , f(p)=0\\nleft child of position q , f(p) = 2f(q)+1\\nright child of position q, f(p) = 2f(q)+2\\n'"
      ]
     },
     "execution_count": 89,
     "metadata": {},
     "output_type": "execute_result"
    }
   ],
   "source": [
    "#---------R-9.2------------------\n",
    "\"\"\" T is heap when\n",
    "p is the root of T , f(p)=0\n",
    "left child of position q , f(p) = 2f(q)+1\n",
    "right child of position q, f(p) = 2f(q)+2\n",
    "\"\"\""
   ]
  },
  {
   "cell_type": "code",
   "execution_count": 94,
   "id": "premium-sally",
   "metadata": {},
   "outputs": [
    {
     "data": {
      "text/plain": [
       "[(7, 'F'), (8, 'G')]"
      ]
     },
     "execution_count": 94,
     "metadata": {},
     "output_type": "execute_result"
    }
   ],
   "source": [
    "#---------R-9.3------------------\n",
    "UPQ = UnsortedPriorityQueue() \n",
    "UPQ.add(5,'A')\n",
    "UPQ.add(4,'B')\n",
    "UPQ.add(7,'F')\n",
    "UPQ.add(1,'D')\n",
    "UPQ.printQue()\n",
    "#UPQ.min()\n",
    "UPQ.remove_min()\n",
    "UPQ.add(3,'J')\n",
    "UPQ.add(6,'L')\n",
    "UPQ.printQue()\n",
    "UPQ.remove_min()\n",
    "UPQ.remove_min()\n",
    "UPQ.printQue()\n",
    "UPQ.add(8,'G')\n",
    "# len(UPQ)\n",
    "UPQ.remove_min()\n",
    "UPQ.add(2,'H')    \n",
    "UPQ.remove_min()\n",
    "UPQ.remove_min()\n",
    "UPQ.printQue()"
   ]
  },
  {
   "cell_type": "code",
   "execution_count": 95,
   "id": "hired-density",
   "metadata": {},
   "outputs": [
    {
     "data": {
      "text/plain": [
       "' priority queue ADT can perform both functions.\\n1. Add element with timestamp as key to add to priority queue\\n2. Use remove_min on timestamp as key to remove min.\\n'"
      ]
     },
     "execution_count": 95,
     "metadata": {},
     "output_type": "execute_result"
    }
   ],
   "source": [
    "#---------R-9.4------------------\n",
    "\"\"\" priority queue ADT can perform both functions.\n",
    "1. Add element with timestamp as key to add to priority queue\n",
    "2. Use remove_min on timestamp as key to remove min.\n",
    "\"\"\""
   ]
  },
  {
   "cell_type": "code",
   "execution_count": 99,
   "id": "aggregate-excitement",
   "metadata": {},
   "outputs": [
    {
     "data": {
      "text/plain": [
       "(1, 'D')"
      ]
     },
     "execution_count": 99,
     "metadata": {},
     "output_type": "execute_result"
    }
   ],
   "source": [
    "#---------R-9.5------------------\n",
    "\"\"\"\n",
    "min method to run o(1), min element must be present in first position,\n",
    "def add(self, key, value):\n",
    "        'Add a key-value pair.'\n",
    "        self._data.add_last(self._Item(key, value))\n",
    "        \n",
    "        add method will have to find min element and add accordingly.\n",
    "\"\"\"\n",
    "class min_unsorted(UnsortedPriorityQueue):\n",
    "    def add(self, key, value):\n",
    "        \"\"\"Add a key-value pair.\"\"\"\n",
    "        newest = self._Item(key, value)\n",
    "        walk = self._data.last()\n",
    "        while walk is not None and newest < walk.element():\n",
    "            walk = self._data.before(walk)\n",
    "        if walk is None:\n",
    "            self._data.add_first(newest)\n",
    "        else:\n",
    "            self._data.add_after(walk, newest)\n",
    "            \n",
    "    def min(self):\n",
    "        \"\"\"Return but do not remove (k,v) tuple with minimum key.\"\"\"\n",
    "        if self.is_empty(): # is empty inherited from base class\n",
    "            raise Empty( 'Priority queue is empty' )\n",
    "        p = self._data.first()\n",
    "        item = p.element()\n",
    "        return (item._key, item._value)\n",
    "    \n",
    "UPQ = min_unsorted() \n",
    "UPQ.add(5,'A')\n",
    "UPQ.add(4,'B')\n",
    "UPQ.add(7,'F')\n",
    "UPQ.add(1,'D')\n",
    "UPQ.printQue() \n",
    "UPQ.min()"
   ]
  },
  {
   "cell_type": "code",
   "execution_count": 101,
   "id": "communist-plastic",
   "metadata": {},
   "outputs": [
    {
     "data": {
      "text/plain": [
       "[(4, 'B'), (5, 'A'), (7, 'F')]"
      ]
     },
     "execution_count": 101,
     "metadata": {},
     "output_type": "execute_result"
    }
   ],
   "source": [
    "#---------R-9.6------------------\n",
    "class min_unsorted2(min_unsorted):\n",
    "    def remove_min(self):\n",
    "        \"\"\"Remove and return (k,v) tuple with minimum key.\"\"\"\n",
    "        if self.is_empty(): # is empty inherited from base class\n",
    "            raise Empty( 'Priority queue is empty' )\n",
    "        item = self._data.delete(self._data.first())\n",
    "        return (item._key, item._value)\n",
    "\n",
    "UPQ = min_unsorted() \n",
    "UPQ.add(5,'A')\n",
    "UPQ.add(4,'B')\n",
    "UPQ.add(7,'F')\n",
    "UPQ.add(1,'D')\n",
    "UPQ.printQue() \n",
    "UPQ.min()  \n",
    "UPQ.remove_min()\n",
    "UPQ.printQue()"
   ]
  },
  {
   "cell_type": "code",
   "execution_count": 112,
   "id": "inclusive-direction",
   "metadata": {},
   "outputs": [
    {
     "data": {
      "text/plain": [
       "'\\n(22,15,36,44,10,3,9,13,29,25)\\nunsorted list as selection sort of remove_min()\\n\\ninsert o(1) -- (22,15,36,44,10,3,9,13,29,25)\\nselection sort o(n)\\n\\n(22,15,36,44,10,3,9,13,29,25)\\n(22,15,36,44,10,9,13,29,25)  -- 3\\n(22,15,36,44,10,13,29,25)  -- 3,9\\n(22,15,36,44,13,29,25)  -- 3,9,10\\n(22,15,36,44,29,25)  -- 3,9,10,13\\n(36,44,29,25)  -- 3,9,10,13,15,22\\n(36,44,29)  -- 3,9,10,13,15,22,25\\n(36,44)  -- 3,9,10,13,15,22,25,29\\n(44)  -- 3,9,10,13,15,22,25,29,36\\n()  -- 3,9,10,13,15,22,25,29,36,44\\n\\n'"
      ]
     },
     "execution_count": 112,
     "metadata": {},
     "output_type": "execute_result"
    }
   ],
   "source": [
    "#---------R-9.7------------------\n",
    "\"\"\"\n",
    "(22,15,36,44,10,3,9,13,29,25)\n",
    "unsorted list as selection sort of remove_min()\n",
    "\n",
    "insert o(1) -- (22,15,36,44,10,3,9,13,29,25)\n",
    "selection sort o(n)\n",
    "\n",
    "(22,15,36,44,10,3,9,13,29,25)\n",
    "(22,15,36,44,10,9,13,29,25)  -- 3\n",
    "(22,15,36,44,10,13,29,25)  -- 3,9\n",
    "(22,15,36,44,13,29,25)  -- 3,9,10\n",
    "(22,15,36,44,29,25)  -- 3,9,10,13\n",
    "(36,44,29,25)  -- 3,9,10,13,15,22\n",
    "(36,44,29)  -- 3,9,10,13,15,22,25\n",
    "(36,44)  -- 3,9,10,13,15,22,25,29\n",
    "(44)  -- 3,9,10,13,15,22,25,29,36\n",
    "()  -- 3,9,10,13,15,22,25,29,36,44\n",
    "\n",
    "\"\"\"\n"
   ]
  },
  {
   "cell_type": "code",
   "execution_count": 113,
   "id": "civic-right",
   "metadata": {},
   "outputs": [
    {
     "data": {
      "text/plain": [
       "'\\n(22,15,36,44,10,3,9,13,29,25)\\nsorted list as insert sort of remove_min()\\n\\ninsert sort o(n) -- 3,9,10,13,15,22,25,29,36,44\\n22 \\n15,22 --15\\n15,22,36 --36\\n15,22,36,44 --44\\n10,15,22,36,44 --10\\n3,10,15,22,36,44 --3\\n3,9,10,15,22,36,44 --9\\n3,9,13,10,15,22,36,44 --13\\n3,9,13,10,15,22,29,36,44 --29\\n3,9,13,10,15,22,25,29,36,44 --25\\n'"
      ]
     },
     "execution_count": 113,
     "metadata": {},
     "output_type": "execute_result"
    }
   ],
   "source": [
    "#---------R-9.8------------------\n",
    "\"\"\"\n",
    "(22,15,36,44,10,3,9,13,29,25)\n",
    "sorted list as insert sort of remove_min()\n",
    "\n",
    "insert sort o(n) -- 3,9,10,13,15,22,25,29,36,44\n",
    "22 \n",
    "15,22 --15\n",
    "15,22,36 --36\n",
    "15,22,36,44 --44\n",
    "10,15,22,36,44 --10\n",
    "3,10,15,22,36,44 --3\n",
    "3,9,10,15,22,36,44 --9\n",
    "3,9,13,10,15,22,36,44 --13\n",
    "3,9,13,10,15,22,29,36,44 --29\n",
    "3,9,13,10,15,22,25,29,36,44 --25\n",
    "\"\"\""
   ]
  },
  {
   "cell_type": "code",
   "execution_count": 104,
   "id": "fundamental-malta",
   "metadata": {},
   "outputs": [
    {
     "data": {
      "text/plain": [
       "' n(n+1)/2 ~ n^2\\n'"
      ]
     },
     "execution_count": 104,
     "metadata": {},
     "output_type": "execute_result"
    }
   ],
   "source": [
    "#---------R-9.9------------------\n",
    "\"\"\" n(n+1)/2 ~ n^2\n",
    "\"\"\""
   ]
  },
  {
   "cell_type": "code",
   "execution_count": 107,
   "id": "serious-location",
   "metadata": {},
   "outputs": [
    {
     "data": {
      "text/plain": [
       "'At which positions of a heap might the third smallest key be stored?\\n\\n2nd or 3rd positions\\n'"
      ]
     },
     "execution_count": 107,
     "metadata": {},
     "output_type": "execute_result"
    }
   ],
   "source": [
    "#---------R-9.10------------------\n",
    "\"\"\"At which positions of a heap might the third smallest key be stored?\n",
    "\n",
    "right child of 1st level, 0 level being the root \n",
    "\"\"\""
   ]
  },
  {
   "cell_type": "code",
   "execution_count": 108,
   "id": "separated-nature",
   "metadata": {},
   "outputs": [
    {
     "data": {
      "text/plain": [
       "'At which positions of a heap might the largest key be stored?\\n\\nnth node at n level of the heap\\n'"
      ]
     },
     "execution_count": 108,
     "metadata": {},
     "output_type": "execute_result"
    }
   ],
   "source": [
    "#---------R-9.11------------------\n",
    "\"\"\"At which positions of a heap might the largest key be stored?\n",
    "\n",
    "nth node at n level of the heap\n",
    "\"\"\""
   ]
  },
  {
   "cell_type": "code",
   "execution_count": 111,
   "id": "pointed-interstate",
   "metadata": {},
   "outputs": [
    {
     "data": {
      "text/plain": [
       "[(9, 'C'), (7, 'D'), (5, 'A'), (3, 'B')]"
      ]
     },
     "execution_count": 111,
     "metadata": {},
     "output_type": "execute_result"
    }
   ],
   "source": [
    "#---------R-9.12------------------\n",
    "class maxPriorityQueue(PriorityQueueBase): # base class defines Item\n",
    "    \"\"\"A min-oriented priority queue implemented with a sorted list\"\"\"\n",
    "    \n",
    "    \n",
    "    def __init__(self):\n",
    "        \"\"\"Create a new empty Priority Queue.\"\"\"\n",
    "        self._data = PositionalList()\n",
    "        \n",
    "    def __len__(self):\n",
    "        \"\"\"Return the number of items in the priority queue.\"\"\"\n",
    "        return len(self._data)\n",
    "    \n",
    "    def add(self, key, value):\n",
    "        \"\"\"Add a key-value pair.\"\"\"\n",
    "        newest = self._Item(key, value)\n",
    "        walk = self._data.last()\n",
    "        while walk is not None and newest > walk.element():\n",
    "            walk = self._data.before(walk)\n",
    "        if walk is None:\n",
    "            self._data.add_first(newest)\n",
    "        else:\n",
    "            self._data.add_after(walk, newest)\n",
    "        \n",
    "\n",
    "    def min(self):\n",
    "        \"\"\"Return but do not remove (k,v) tuple with minimum key.\"\"\"\n",
    "        if self.is_empty(): # is empty inherited from base class\n",
    "            raise Empty( 'Priority queue is empty' )\n",
    "        p = self._data.first()\n",
    "        item = p.element()\n",
    "        return (item._key, item._value)\n",
    "\n",
    "    def remove_min(self):\n",
    "        \"\"\"Remove and return (k,v) tuple with minimum key.\"\"\"\n",
    "        if self.is_empty(): # is empty inherited from base class\n",
    "            raise Empty( 'Priority queue is empty' )\n",
    "        item = self._data.delete(self._data.first())\n",
    "        return (item._key, item._value)\n",
    "    \n",
    "    def printQue(self): # nonpublic utility\n",
    "        \"\"\"Print priority Queue value\"\"\"\n",
    "        if self.is_empty(): # is empty inherited from base class\n",
    "            raise Empty( 'Priority queue is empty' ) \n",
    "        d = []\n",
    "        first = self._data.first()\n",
    "        item1 = first.element()\n",
    "        d.append((item1._key,item1._value))\n",
    "        #d.append(first.getKeyValue())\n",
    "        second = self._data.after(first)\n",
    "        \n",
    "        while second is not None:\n",
    "            #d.append(second.getKeyValue())\n",
    "            item2 = second.element()\n",
    "            d.append((item2._key,item2._value))\n",
    "            second = self._data.after(second)\n",
    "                \n",
    "        return d\n",
    "    \n",
    "SPQ = maxPriorityQueue() \n",
    "SPQ.add(5,'A')\n",
    "SPQ.add(9,'C')\n",
    "SPQ.add(3,'B')\n",
    "SPQ.add(7,'D')\n",
    "SPQ.printQue()    "
   ]
  },
  {
   "cell_type": "code",
   "execution_count": 115,
   "id": "finnish-cattle",
   "metadata": {},
   "outputs": [
    {
     "data": {
      "text/plain": [
       "' inplace sort heat sort algorith (2,5,16,4,10,23,39,18,26,15).\\nphase 1 construct heap \\n  [2,5,16,4,10,23,39,18,26,15]\\n  [2,5,39,4,10,23,16,18,26,15]\\n  [39,5,2,4,10,23,16,18,26,15]\\n  [39,5,23,26,15,2,16,18,4,10]\\n  [39,26,23,5,15,2,16,18,4,10]\\n  [39,26,23,18,15,2,16,5,4,10]\\n  \\nphase 2 sort algorith      sorted\\n  [10,26,23,18,15,2,16,5,4|39]\\n  [26,10,23,18,15,2,16,5,4|39]\\n  [26,18,23,10,15,2,16,5,4|39]\\n  [4,18,23,10,15,2,16,5|26,39]\\n  [23,18,4,10,15,2,16,5|26,39] \\n  [23,18,16,10,15,2,4,5|26,39] \\n  [5,18,16,10,15,2,4|23,26,39]\\n  [18,5,16,10,15,2,4|23,26,39]\\n  [18,15,16,10,5,2,4|23,26,39]\\n  [4,15,16,10,5,2|18,23,26,39]\\n  [16,15,4,10,5,2|18,23,26,39]\\n  [2,15,4,10,5|16,18,23,26,39]\\n  [15,2,4,10,5|16,18,23,26,39]\\n  [15,10,4,2,5|16,18,23,26,39]\\n  [5,10,4,2|15,16,18,23,26,39]\\n  [10,5,4,2|15,16,18,23,26,39]\\n  [2,5,4|10,15,16,18,23,26,39]\\n  [5,2,4|10,15,16,18,23,26,39]\\n  [2,4|5,10,15,16,18,23,26,39]\\n  [4,2|5,10,15,16,18,23,26,39]\\n  [2|4,5,10,15,16,18,23,26,39]\\n  [2,4,5,10,15,16,18,23,26,39]\\n  \\n'"
      ]
     },
     "execution_count": 115,
     "metadata": {},
     "output_type": "execute_result"
    }
   ],
   "source": [
    "#---------R-9.13------------------\n",
    "\"\"\"ascending order : Max heap\n",
    "desending order : Min heap  \"\"\"  \n",
    "\"\"\" inplace sort heat sort algorith (2,5,16,4,10,23,39,18,26,15).\n",
    "phase 1 construct heap \n",
    "  [2,5,16,4,10,23,39,18,26,15]\n",
    "  [2,5,39,4,10,23,16,18,26,15]\n",
    "  [39,5,2,4,10,23,16,18,26,15]\n",
    "  [39,5,23,26,15,2,16,18,4,10]\n",
    "  [39,26,23,5,15,2,16,18,4,10]\n",
    "  [39,26,23,18,15,2,16,5,4,10]\n",
    "  \n",
    "phase 2 sort algorith      sorted\n",
    "  [10,26,23,18,15,2,16,5,4|39]\n",
    "  [26,10,23,18,15,2,16,5,4|39]\n",
    "  [26,18,23,10,15,2,16,5,4|39]\n",
    "  [4,18,23,10,15,2,16,5|26,39]\n",
    "  [23,18,4,10,15,2,16,5|26,39] \n",
    "  [23,18,16,10,15,2,4,5|26,39] \n",
    "  [5,18,16,10,15,2,4|23,26,39]\n",
    "  [18,5,16,10,15,2,4|23,26,39]\n",
    "  [18,15,16,10,5,2,4|23,26,39]\n",
    "  [4,15,16,10,5,2|18,23,26,39]\n",
    "  [16,15,4,10,5,2|18,23,26,39]\n",
    "  [2,15,4,10,5|16,18,23,26,39]\n",
    "  [15,2,4,10,5|16,18,23,26,39]\n",
    "  [15,10,4,2,5|16,18,23,26,39]\n",
    "  [5,10,4,2|15,16,18,23,26,39]\n",
    "  [10,5,4,2|15,16,18,23,26,39]\n",
    "  [2,5,4|10,15,16,18,23,26,39]\n",
    "  [5,2,4|10,15,16,18,23,26,39]\n",
    "  [2,4|5,10,15,16,18,23,26,39]\n",
    "  [4,2|5,10,15,16,18,23,26,39]\n",
    "  [2|4,5,10,15,16,18,23,26,39]\n",
    "  [2,4,5,10,15,16,18,23,26,39]\n",
    "  \n",
    "\"\"\""
   ]
  },
  {
   "cell_type": "code",
   "execution_count": 116,
   "id": "corrected-mambo",
   "metadata": {},
   "outputs": [
    {
     "data": {
      "text/plain": [
       "'\\nyes its a heap because it satisfy\\nf(p)=0\\nf(p)= 2f(q)+1\\nf(p)=2f(q)+2\\n\\n'"
      ]
     },
     "execution_count": 116,
     "metadata": {},
     "output_type": "execute_result"
    }
   ],
   "source": [
    "#---------R-9.14------------------\n",
    "\"\"\"\n",
    "yes its not a heap because it doesn't satisfy min, max criteria with the parent level\n",
    "f(p)=0\n",
    "f(p)= 2f(q)+1\n",
    "f(p)=2f(q)+2\n",
    "\n",
    "\"\"\""
   ]
  },
  {
   "cell_type": "code",
   "execution_count": 117,
   "id": "changed-newsletter",
   "metadata": {},
   "outputs": [
    {
     "data": {
      "text/plain": [
       "'\\nbecause the way heaps are constructed , it will always have a left child \\nwith \\nf(p)=0\\nf(p)= 2f(q)+1\\nf(p)=2f(q)+2\\n'"
      ]
     },
     "execution_count": 117,
     "metadata": {},
     "output_type": "execute_result"
    }
   ],
   "source": [
    "#---------R-9.15------------------\n",
    "\"\"\"\n",
    "because the way heaps are constructed , it will always have a left child \n",
    "with \n",
    "f(p)=0\n",
    "f(p)= 2f(q)+1\n",
    "f(p)=2f(q)+2\n",
    "\"\"\""
   ]
  },
  {
   "cell_type": "code",
   "execution_count": 118,
   "id": "involved-tracker",
   "metadata": {},
   "outputs": [
    {
     "data": {
      "text/plain": [
       "'    heap H with 7 entities\\n                (1)\\n              /                 (2)     (3)\\n           /   \\\\   /             (4)  (5)(6)  (7)\\n          \\n        preorder - 1,2,4,5 ,3,6,7\\n        postorder- 2,4,5,3,6,7,1\\n        inorder - 2,4,5,1,3,6,7\\n        \\n        hence not in increasing or decreaing order\\n'"
      ]
     },
     "execution_count": 118,
     "metadata": {},
     "output_type": "execute_result"
    }
   ],
   "source": [
    "#---------R-9.16------------------\n",
    "\n",
    "\"\"\"    heap H with 7 entities\n",
    "                (1)\n",
    "              /     \\\n",
    "            (2)     (3)\n",
    "           /   \\   /   \\\n",
    "          (4)  (5)(6)  (7)\n",
    "          \n",
    "        preorder - 1,2,4,5 ,3,6,7\n",
    "        postorder- 2,4,5,3,6,7,1\n",
    "        inorder - 2,4,5,1,3,6,7\n",
    "        \n",
    "        hence not in increasing or decreaing order\n",
    "\"\"\""
   ]
  },
  {
   "cell_type": "code",
   "execution_count": 119,
   "id": "ambient-salad",
   "metadata": {},
   "outputs": [
    {
     "data": {
      "text/plain": [
       "'[1,2,3,4,5,6,7,8,9,10,11,12,13,14,15]\\n    0,1,2,3,4,5,6,7,8,9,10,11,12,13,14\\n                                   \\n                                       (1)\\n                                 /                                           (2)           (3)\\n                               /. \\\\.       /                                    (4) (5)     (6)     (7)\\n                             / \\\\  / \\\\    / \\\\       /                           (8)(9) (10)(11)(12)(13)(14)(15)\\n                          \\n                          \\n           preorder - 1,2,4,5,8,9,10,11,3,6,7,12,13,14,15\\n                      0,1,3,4,7,8,9,10,2,5,6,11,12,13,14\\n           inorder - 2,4,5,8,9,10,11,1,3,6,7,12,13,14,15\\n                     1,3,4,7,8,9,10,0,2,5,6,11,12,13,14\\n           postorder - 2,4,5,8,9,10,11,3,6,7,12,13,14,15,1\\n                      1,3,4,7,8,9,10,2,5,6,11,12,13,14,0\\n    \\n'"
      ]
     },
     "execution_count": 119,
     "metadata": {},
     "output_type": "execute_result"
    }
   ],
   "source": [
    "#---------R-9.17------------------\n",
    "\"\"\"[1,2,3,4,5,6,7,8,9,10,11,12,13,14,15]\n",
    "    0,1,2,3,4,5,6,7,8,9,10,11,12,13,14\n",
    "                                   \n",
    "                                       (1)\n",
    "                                 /           \\\n",
    "                                (2)           (3)\n",
    "                               /. \\.       /      \\\n",
    "                              (4) (5)     (6)     (7)\n",
    "                             / \\  / \\    / \\       / \\\n",
    "                          (8)(9) (10)(11)(12)(13)(14)(15)\n",
    "                          \n",
    "                          \n",
    "           preorder - 1,2,4,5,8,9,10,11,3,6,7,12,13,14,15\n",
    "                      0,1,3,4,7,8,9,10,2,5,6,11,12,13,14\n",
    "           inorder - 2,4,5,8,9,10,11,1,3,6,7,12,13,14,15\n",
    "                     1,3,4,7,8,9,10,0,2,5,6,11,12,13,14\n",
    "           postorder - 2,4,5,8,9,10,11,3,6,7,12,13,14,15,1\n",
    "                      1,3,4,7,8,9,10,2,5,6,11,12,13,14,0\n",
    "    \n",
    "\"\"\""
   ]
  },
  {
   "cell_type": "code",
   "execution_count": 120,
   "id": "partial-palestine",
   "metadata": {},
   "outputs": [
    {
     "data": {
      "text/plain": [
       "\"\\n∑𝑖=1𝑛−1lg(𝑛−𝑖)=lg((𝑛−1)!)=Θ(𝑛lg𝑛)\\n\\nBy the way, building a simple binary heap only takes  𝑂(𝑛)  time.\\n\\nConstruction:  𝑂(𝑛) , you have to do this only once.\\n\\nRemoving an element  𝑂(log(𝑘))  if you have k elements in heap.\\n\\nRemoving n elements\\n\\n𝑂(log(𝑛)+log(𝑛−1)+log(𝑛−2)+....+log(1))=𝑂(log(𝑛!))=𝑂(𝑛log(𝑛)) \\n\\nLast reduction is called Stirling's approximation.\\n\\nSo total time\\n𝑇(𝑛)=𝑂(𝑛)+𝑂(𝑛log(𝑛))=𝑂(𝑛log(𝑛))\""
      ]
     },
     "execution_count": 120,
     "metadata": {},
     "output_type": "execute_result"
    }
   ],
   "source": [
    "#---------R-9.18------------------\n",
    "\"\"\"\n",
    "∑𝑖=1𝑛−1lg(𝑛−𝑖)=lg((𝑛−1)!)=Θ(𝑛lg𝑛)\n",
    "\n",
    "By the way, building a simple binary heap only takes  𝑂(𝑛)  time.\n",
    "\n",
    "Construction:  𝑂(𝑛) , you have to do this only once.\n",
    "\n",
    "Removing an element  𝑂(log(𝑘))  if you have k elements in heap.\n",
    "\n",
    "Removing n elements\n",
    "\n",
    "𝑂(log(𝑛)+log(𝑛−1)+log(𝑛−2)+....+log(1))=𝑂(log(𝑛!))=𝑂(𝑛log(𝑛)) \n",
    "\n",
    "Last reduction is called Stirling's approximation.\n",
    "\n",
    "So total time\n",
    "𝑇(𝑛)=𝑂(𝑛)+𝑂(𝑛log(𝑛))=𝑂(𝑛log(𝑛))\"\"\""
   ]
  },
  {
   "cell_type": "code",
   "execution_count": 121,
   "id": "official-applicant",
   "metadata": {},
   "outputs": [
    {
     "data": {
      "text/plain": [
       "'    heap H with 7 entities\\n                (1)\\n              /                 (2)     (3)\\n           /   \\\\   /             (4)  (5)(6)  (7)\\n          \\n        preorder - 1,2,4,5 ,3,6,7'"
      ]
     },
     "execution_count": 121,
     "metadata": {},
     "output_type": "execute_result"
    }
   ],
   "source": [
    "#---------R-9.19------------------\n",
    "\n",
    "\"\"\"    heap H with 7 entities\n",
    "                (1)\n",
    "              /     \\\n",
    "            (2)     (3)\n",
    "           /   \\   /   \\\n",
    "          (4)  (5)(6)  (7)\n",
    "          \n",
    "        preorder - 1,2,4,5 ,3,6,7\"\"\""
   ]
  },
  {
   "cell_type": "code",
   "execution_count": 122,
   "id": "immediate-paraguay",
   "metadata": {},
   "outputs": [
    {
     "data": {
      "text/plain": [
       "'    heap H with 7 entities\\n                (1)\\n              /                 (2)     (3)\\n           /   \\\\   /             (4)  (5)(6)  (7)\\n          \\n        postorder- 2,4,5,3,6,7,1'"
      ]
     },
     "execution_count": 122,
     "metadata": {},
     "output_type": "execute_result"
    }
   ],
   "source": [
    "#---------R-9.20------------------\n",
    "\n",
    "\"\"\"    heap H with 7 entities\n",
    "                (1)\n",
    "              /     \\\n",
    "            (2)     (3)\n",
    "           /   \\   /   \\\n",
    "          (4)  (5)(6)  (7)\n",
    "          \n",
    "        postorder- 2,4,5,3,6,7,1\"\"\""
   ]
  },
  {
   "cell_type": "code",
   "execution_count": 124,
   "id": "military-rally",
   "metadata": {},
   "outputs": [
    {
     "data": {
      "text/plain": [
       "'removing 16,X will be O(1) operation with no bubbbling (up or down)\\nbecause heap is still balanced, element is removed with locator\\n'"
      ]
     },
     "execution_count": 124,
     "metadata": {},
     "output_type": "execute_result"
    }
   ],
   "source": [
    "#---------R-9.21------------------\n",
    "\"\"\"removing 16,X will be O(1) operation with no bubbbling (up or down)\n",
    "because heap is still balanced, element is removed with locator\n",
    "\"\"\""
   ]
  },
  {
   "cell_type": "code",
   "execution_count": null,
   "id": "subtle-imaging",
   "metadata": {},
   "outputs": [],
   "source": [
    "#---------R-9.21------------------\n",
    "\"\"\" swap 5,a with 18 will be o(1), since locator is there.\n",
    "9 will be swap with 18 and 12 will be swap with 18\n",
    "\"\"\""
   ]
  },
  {
   "cell_type": "code",
   "execution_count": 123,
   "id": "municipal-horse",
   "metadata": {},
   "outputs": [
    {
     "data": {
      "text/plain": [
       "'\\n [9,7,5,2,6,4]                   (9)\\n                                 /                                 (7) (5)\\n                               /  \\\\ /\\n                            (2)  (6)(4)\\n                            \\n            sorted \\n [4,7,5,2,6|9]\\n                                 (4)          \\n                                 /                                 (7) (5)\\n                               /  \\\\ \\n                            (2)  (6)   \\n                            \\n                                 (7)          \\n  [7,4,5,2,6|9]                  /                                 (4) (5)\\n                               /  \\\\ \\n                            (2)  (6)\\n                            \\n                                 (7)          \\n  [7,6,5,2,4|9]                  /                                 (6) (5)\\n                               /  \\\\ \\n                            (2)  (4) \\n                            \\n                                 (4)          \\n                                 /  [4,6,5,2|7,9]                 (6) (5)\\n                               /  \\n                            (2)   \\n                            \\n\\n\\n [6,4,5,2|7,9]                \\n                              (6)\\n                              /                              (4) (5)\\n                            /\\n                          (2)\\n\\n[2,4,5|6,7,9]\\n                              (2)\\n                              /                              (4) (5)\\n                             \\n [5,4,2|6,7,9]                            \\n                              (5)\\n                              /                              (4) (2)\\n                             \\n  [4,2|5,6,7,9]                           \\n                             \\n                             (2)\\n                              / \\n                             (4) \\n                       \\n   [2,4|5,6,7,9]                    \\n                             (4)\\n                              / \\n                             (2)\\n    [2|4,5,6,7,9]                         \\n                             (2)\\n                             \\n     \\n     [2,4,5,6,7,9]          ()\\n                             \\n'"
      ]
     },
     "execution_count": 123,
     "metadata": {},
     "output_type": "execute_result"
    }
   ],
   "source": [
    "#---------R-9.25------------------\n",
    "\"\"\"\n",
    " [9,7,5,2,6,4]                   (9)\n",
    "                                 / \\\n",
    "                                (7) (5)\n",
    "                               /  \\ /\n",
    "                            (2)  (6)(4)\n",
    "                            \n",
    "            sorted \n",
    " [4,7,5,2,6|9]\n",
    "                                 (4)          \n",
    "                                 / \\\n",
    "                                (7) (5)\n",
    "                               /  \\ \n",
    "                            (2)  (6)   \n",
    "                            \n",
    "                                 (7)          \n",
    "  [7,4,5,2,6|9]                  / \\\n",
    "                                (4) (5)\n",
    "                               /  \\ \n",
    "                            (2)  (6)\n",
    "                            \n",
    "                                 (7)          \n",
    "  [7,6,5,2,4|9]                  / \\\n",
    "                                (6) (5)\n",
    "                               /  \\ \n",
    "                            (2)  (4) \n",
    "                            \n",
    "                                 (4)          \n",
    "                                 / \\\n",
    " [4,6,5,2|7,9]                 (6) (5)\n",
    "                               /  \n",
    "                            (2)   \n",
    "                            \n",
    "\n",
    "\n",
    " [6,4,5,2|7,9]                \n",
    "                              (6)\n",
    "                              / \\\n",
    "                             (4) (5)\n",
    "                            /\n",
    "                          (2)\n",
    "\n",
    "[2,4,5|6,7,9]\n",
    "                              (2)\n",
    "                              / \\\n",
    "                             (4) (5)\n",
    "                             \n",
    " [5,4,2|6,7,9]                            \n",
    "                              (5)\n",
    "                              / \\\n",
    "                             (4) (2)\n",
    "                             \n",
    "  [4,2|5,6,7,9]                           \n",
    "                             \n",
    "                             (2)\n",
    "                              / \n",
    "                             (4) \n",
    "                       \n",
    "   [2,4|5,6,7,9]                    \n",
    "                             (4)\n",
    "                              / \n",
    "                             (2)\n",
    "    [2|4,5,6,7,9]                         \n",
    "                             (2)\n",
    "                             \n",
    "     \n",
    "     [2,4,5,6,7,9]          ()\n",
    "                             \n",
    "\"\"\""
   ]
  }
 ],
 "metadata": {
  "kernelspec": {
   "display_name": "Python 3",
   "language": "python",
   "name": "python3"
  },
  "language_info": {
   "codemirror_mode": {
    "name": "ipython",
    "version": 3
   },
   "file_extension": ".py",
   "mimetype": "text/x-python",
   "name": "python",
   "nbconvert_exporter": "python",
   "pygments_lexer": "ipython3",
   "version": "3.7.4"
  }
 },
 "nbformat": 4,
 "nbformat_minor": 5
}
