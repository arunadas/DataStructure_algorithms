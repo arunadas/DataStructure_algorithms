{
 "cells": [
  {
   "cell_type": "code",
   "execution_count": 3,
   "id": "wooden-minutes",
   "metadata": {},
   "outputs": [],
   "source": [
    "class Empty(Exception):\n",
    "    \"\"\"Error attempting to access an element from an empty container.\"\"\" \n",
    "    pass"
   ]
  },
  {
   "cell_type": "code",
   "execution_count": 4,
   "id": "neural-questionnaire",
   "metadata": {},
   "outputs": [
    {
     "name": "stdout",
     "output_type": "stream",
     "text": [
      "True\n"
     ]
    }
   ],
   "source": [
    "def is_matched_html(raw):\n",
    "    \"\"\"Return True if all HTML tags are properly match; False otherwise.\"\"\"\n",
    "    S = ArrayStack()\n",
    "    j = raw.find( '<' )   # find first ’<’ character (if any)\n",
    "    while j != -1:\n",
    "        k = raw.find( '>', j+1)  # find next ’>’ character\n",
    "        if k == -1:\n",
    "            return False\n",
    "        tag = raw[j+1:k]\n",
    "        if not tag.startswith( '/' ):\n",
    "            S.push(tag)\n",
    "        else:\n",
    "            if S.is_empty():\n",
    "                return False\n",
    "            if tag[1:] != S.pop( ):\n",
    "                return False\n",
    "        j = raw.find( '<' , k+1)\n",
    "    return S.is_empty( )\n",
    "\n",
    "raw=\"\"\"<body>\n",
    "<center>\n",
    "<h1> The Little Boat </h1>\n",
    "</center>\n",
    "<p> The storm tossed the little\n",
    "boat like a cheap sneaker in an\n",
    "old washing machine. The three\n",
    "drunken fishermen were used to\n",
    "such treatment, of course, but\n",
    "not the tree salesman, who even as\n",
    "a stowaway now felt that he\n",
    "had overpaid for the voyage. </p><ol>\n",
    "<li> Will the salesman die? </li>\n",
    "<li> What color is the boat? </li>\n",
    "<li> And what about Naomi? </li>\n",
    "</ol>\n",
    "</body>\"\"\"\n",
    "print(is_matched_html(raw))"
   ]
  },
  {
   "cell_type": "code",
   "execution_count": 40,
   "id": "bulgarian-decline",
   "metadata": {},
   "outputs": [
    {
     "name": "stdout",
     "output_type": "stream",
     "text": [
      "['5', '3']\n",
      "['5', '2', '8']\n",
      "['5', '9', '1']\n",
      "['5']\n"
     ]
    }
   ],
   "source": [
    "#----------------R-6.1---------\n",
    "\n",
    "class ArrayStack:\n",
    "    \"\"\"LIFO Stack implementation using a Python list as underlying storage.\"\"\"\n",
    "    def __init__(self):\n",
    "        \"\"\"Create an empty stack.\"\"\" \n",
    "        self._data = [ ]\n",
    "    # nonpublic list instance \n",
    "    \"\"\"Return the number of elements in the stack.\"\"\"\n",
    "    def __len__(self): \n",
    "        return len(self._data)\n",
    "     \n",
    "    def is_empty(self):\n",
    "        \"\"\"Return True if the stack is empty.\"\"\"\n",
    "        return len(self._data) == 0\n",
    "    \n",
    "    def push(self, e):\n",
    "        \"\"\"Add element e to the top of the stack.\"\"\"\n",
    "        self._data.append(e) # new item stored at end of list\n",
    "\n",
    "    def top(self):\n",
    "        \"\"\"Return (but do not remove) the element at the top of the stack.\n",
    "          Raise Empty exception if the stack is empty. \"\"\"\n",
    "        if self.is_empty():\n",
    "            raise Empty( 'Stack is empty' )\n",
    "        return self._data[-1]  # the last item in the list\n",
    "\n",
    "    def pop(self):\n",
    "        \"\"\"Remove and return the element from the top of the stack (i.e., LIFO).\n",
    "          Raise Empty exception if the stack is empty. \"\"\"\n",
    "        if self.is_empty():\n",
    "                raise Empty( 'Stack is empty' )\n",
    "        return self._data.pop( )\n",
    "    \n",
    "    def full_pop(self):\n",
    "        ans = []\n",
    "        while not self.is_empty():\n",
    "            ans.append(self.pop())\n",
    "        return ans\n",
    "    \n",
    "    def __str__(self):\n",
    "        l=[]\n",
    "        if len(self._data) == 0:\n",
    "            print('Stack is empty')\n",
    "        else:\n",
    "            for i in range(len(self._data)):\n",
    "                  l += str(self._data[i])\n",
    "        return str(l) \n",
    "    \n",
    "S =  ArrayStack() \n",
    "S.push(5)\n",
    "S.push(3)\n",
    "print(S)\n",
    "S.pop()\n",
    "S.push(2)\n",
    "S.push(8)\n",
    "print(S)\n",
    "S.pop()\n",
    "S.pop()\n",
    "S.push(9)\n",
    "S.push(1)\n",
    "print(S)\n",
    "S.pop()\n",
    "S.push(7)\n",
    "S.push(6)\n",
    "S.pop()\n",
    "S.pop()\n",
    "S.push(4)\n",
    "S.pop()\n",
    "S.pop()\n",
    "print(S)\n"
   ]
  },
  {
   "cell_type": "code",
   "execution_count": 31,
   "id": "blank-brazil",
   "metadata": {},
   "outputs": [
    {
     "data": {
      "text/plain": [
       "' 25-7 = 18 , as top just give reference of top element doesnt do any operation'"
      ]
     },
     "execution_count": 31,
     "metadata": {},
     "output_type": "execute_result"
    }
   ],
   "source": [
    "#----------------R-6.2---------\n",
    "\"\"\" 25-7 = 18 , as top just give reference of top element doesnt do any operation\"\"\""
   ]
  },
  {
   "cell_type": "code",
   "execution_count": 39,
   "id": "expanded-hartford",
   "metadata": {},
   "outputs": [
    {
     "name": "stdout",
     "output_type": "stream",
     "text": [
      "['5', '3', '9', '1']\n",
      "Stack is empty\n",
      "[]\n",
      "['1', '9', '3', '5']\n"
     ]
    }
   ],
   "source": [
    "#----------------R-6.3---------\n",
    "def transfer(S,T):\n",
    "    for i in range(len(S)):\n",
    "        T.push(S.pop())\n",
    "    return T\n",
    "\n",
    "S =  ArrayStack() \n",
    "S.push(5)\n",
    "S.push(3)\n",
    "S.push(9)\n",
    "S.push(1)\n",
    "print(S)\n",
    "T = ArrayStack()\n",
    "print(T)\n",
    "print(transfer(S,T))"
   ]
  },
  {
   "cell_type": "code",
   "execution_count": 52,
   "id": "statewide-norfolk",
   "metadata": {},
   "outputs": [
    {
     "name": "stdout",
     "output_type": "stream",
     "text": [
      "S2 = ['0', '1', '2', '3', '4', '5', '6', '7', '8', '9']\n",
      "removed stack S2: [9, 8, 7, 6, 5, 4, 3, 2, 1, 0]\n",
      "S2 = Stack is empty\n",
      "[]\n"
     ]
    }
   ],
   "source": [
    "#----------------R-6.4---------\n",
    "        \n",
    "# O(n) for outputs in order\n",
    "class R2Stack(ArrayStack):\n",
    "    def _full_pop_r(self, results, counter):\n",
    "        if self.is_empty():\n",
    "            return None\n",
    "        else:\n",
    "            results[counter] = self.pop()\n",
    "            counter += 1\n",
    "            self._full_pop_r(results, counter)\n",
    "        \n",
    "    \n",
    "    \n",
    "    def full_pop(self): #override the Stack.full_pop method\n",
    "        results = [None]*len(self)\n",
    "        counter = 0\n",
    "        self._full_pop_r(results, counter)\n",
    "        \n",
    "        return results\n",
    "    \n",
    "    \n",
    "    \n",
    "S2 = R2Stack()\n",
    "for i in range(10):S2.push(i) \n",
    "print('S2 =',S2)    \n",
    "print('removed stack S2:', S2.full_pop()) \n",
    "print('S2 =',S2)"
   ]
  },
  {
   "cell_type": "code",
   "execution_count": 54,
   "id": "accompanied-portrait",
   "metadata": {},
   "outputs": [
    {
     "name": "stdout",
     "output_type": "stream",
     "text": [
      "[4, 3, 2, 1, 0]\n"
     ]
    }
   ],
   "source": [
    "#----------------R-6.5---------\n",
    "def reverse_list(S):\n",
    "    result = []\n",
    "    for i in range(5):\n",
    "        S.push(i)\n",
    "    for j in range(len(S)):\n",
    "        result.append(S.pop())\n",
    "    return result    \n",
    "\n",
    "S = ArrayStack()\n",
    "print(reverse_list(S))    "
   ]
  },
  {
   "cell_type": "code",
   "execution_count": 13,
   "id": "minute-arizona",
   "metadata": {},
   "outputs": [
    {
     "name": "stdout",
     "output_type": "stream",
     "text": [
      "False\n"
     ]
    }
   ],
   "source": [
    "#----------------R-6.6---------\n",
    "\n",
    "def is_matched(expr):\n",
    "    \"\"\"Return True if all delimiters are properly match; False otherwise.\"\"\"\n",
    "    lefty = '({['               # opening delimiters\n",
    "    righty = ')}]'              # respective closing delims\n",
    "    S = ArrayStack()\n",
    "    for c in expr:\n",
    "        if c in lefty:\n",
    "            S.push(c)           # push left delimiter on stack\n",
    "        elif c in righty:\n",
    "            if S.is_empty( ):\n",
    "                return False    # nothing to match with\n",
    "            if righty.index(c) != lefty.index(S.pop( )):\n",
    "                return False    # mismatched\n",
    "    return S.is_empty( ) # were all symbols matched?\n",
    "print(is_matched('[((5+x)-(y+z)]]'))\n",
    "\n",
    "\"\"\"righty.index(c) != lefty.index(S.pop( )): is recursive call when it for index of the right \n",
    "close type bracket with left index stack elements for sequencing. if its match the != result in false and pointer \n",
    "goes back recursively. when mismatched its true and return false which breaks the logic and result in false\n",
    "\"\"\""
   ]
  },
  {
   "cell_type": "code",
   "execution_count": 82,
   "id": "level-increase",
   "metadata": {},
   "outputs": [
    {
     "name": "stdout",
     "output_type": "stream",
     "text": [
      "['5', '3', '7', '1', '6']\n",
      "5\n"
     ]
    },
    {
     "data": {
      "text/plain": [
       "3"
      ]
     },
     "execution_count": 82,
     "metadata": {},
     "output_type": "execute_result"
    }
   ],
   "source": [
    "class ArrayQueue:\n",
    "    \"\"\"FIFO queue implementation using a Python list as underlying storage.\"\"\"\n",
    "    DEFAULT_CAPACITY = 10 # moderate capacity for all new queues\n",
    "    def __init__ (self):\n",
    "        \"\"\"Create an empty queue.\"\"\"\n",
    "        self._data = [None] *  ArrayQueue.DEFAULT_CAPACITY\n",
    "        self._size = 0\n",
    "        self._front = 0\n",
    "        \n",
    "    def __len__(self):\n",
    "        \"\"\"Return the number of elements in the queue.\"\"\" \n",
    "        return self._size \n",
    "    \n",
    "    def is_empty(self):\n",
    "        \"\"\"Return True if the queue is empty.\"\"\" \n",
    "        return self._size == 0\n",
    "    \n",
    "    def first(self):\n",
    "        \"\"\"Return (but do not remove) the element at the front of the queue.\n",
    "          Raise Empty exception if the queue is empty. \"\"\"\n",
    "        if self.is_empty():\n",
    "            raise Empty( 'Queue is empty' ) \n",
    "            return self._data[self._front]\n",
    "        \n",
    "    def dequeue(self):\n",
    "        \"\"\"Remove and return the first element of the queue (i.e., FIFO).\n",
    "                     Raise Empty exception if the queue is empty. \"\"\"\n",
    "        if self.is_empty():\n",
    "            raise Empty( 'Queue is empty' )\n",
    "        answer = self._data[self._front]\n",
    "        self._data[self._front] = None\n",
    "        self._front = (self._front + 1) % len(self._data) \n",
    "        self._size -= 1\n",
    "        if 0 < self._size < len(self._data) // 4:   #shrinking underlying array reduce array size \n",
    "            self._resize(len(self._data) // 2)     #to half when elements stored is short of 1/4 of capacity\n",
    "        return answer  \n",
    "    \n",
    "    \n",
    "    def enqueue(self, e):\n",
    "        \"\"\"Add an element to the back of queue.\"\"\" \n",
    "        if self._size == len(self._data):\n",
    "            self._resize(2 *  len(self._data)) # double the array size \n",
    "        avail = (self._front + self._size) % len(self._data)\n",
    "        self._data[avail] = e\n",
    "        self._size += 1\n",
    "        \n",
    "    def  _resize(self, cap): # we assume cap >= len(self)\n",
    "        \"\"\"Resize to a new list of capacity >= len(self).\"\"\"\n",
    "        old = self._data\n",
    "        self._data = [None] * cap\n",
    "        walk = self._front\n",
    "        for k in range(self._size):\n",
    "            self._data[k] = old[walk]\n",
    "            walk = (1 + walk) % len(old)\n",
    "        self._front = 0\n",
    "    \n",
    "    def __str__(self):\n",
    "        result = []\n",
    "        if(self._size == 0):\n",
    "            print('No element present in the queue')\n",
    "        else:\n",
    "            for i in range(self._size):\n",
    "                result += str(self._data[i])\n",
    "        return str(result)        \n",
    "                \n",
    "Q = ArrayQueue()\n",
    "Q.enqueue(5)\n",
    "Q.enqueue(3)\n",
    "Q.enqueue(7)\n",
    "Q.enqueue(1)\n",
    "Q.enqueue(6)\n",
    "print(Q)\n",
    "print(len(Q))\n",
    "Q.dequeue()\n",
    "Q.enqueue(8)\n",
    "Q.enqueue(9)\n",
    "Q.dequeue()                "
   ]
  },
  {
   "cell_type": "code",
   "execution_count": 64,
   "id": "close-editor",
   "metadata": {},
   "outputs": [
    {
     "name": "stdout",
     "output_type": "stream",
     "text": [
      "['5', '3']\n",
      "['3', '2', '8']\n",
      "['N', 'o', 'n', 'e']\n",
      "['N', 'o', 'n', 'e', 'N', 'o', 'n', 'e', '8']\n",
      "['7', '6', 'N', 'o', 'n', 'e', '9']\n",
      "['7', '6']\n",
      "['N', 'o', 'n', 'e']\n",
      "1\n"
     ]
    }
   ],
   "source": [
    "#----------------R-6.7---------\n",
    "\"\"\" enqueue(5) - [5]\n",
    ", enqueue(3) - [5,3]\n",
    "dequeue() - 5.  [3]\n",
    "enqueue(2) - [3,2]\n",
    "enqueue(8) - [3,2,8]\n",
    "dequeue()  - 3\n",
    "dequeue() - 2\n",
    "enqueue(9) - [8,9]\n",
    "enqueue(1)- [8,9,1]\n",
    "dequeue() - 8\n",
    "enqueue(7) -[9,1,7]\n",
    "enqueue(6) -[9,1,7,6]\n",
    "dequeue() - 9\n",
    "dequeue() - 1\n",
    "enqueue(4) - [7,6,4]\n",
    "dequeue() 7\n",
    "dequeue() - 6\n",
    "\"\"\"\n",
    "\n",
    "Q = ArrayQueue()\n",
    "Q.enqueue(5)\n",
    "Q.enqueue(3)\n",
    "print(Q)\n",
    "Q.dequeue()\n",
    "Q.enqueue(2)\n",
    "Q.enqueue(8)\n",
    "print(Q)\n",
    "Q.dequeue()\n",
    "Q.dequeue()\n",
    "print(Q)\n",
    "Q.enqueue(9)\n",
    "Q.enqueue(1)\n",
    "print(Q)\n",
    "Q.dequeue()\n",
    "Q.enqueue(7)\n",
    "Q.enqueue(6)\n",
    "print(Q)\n",
    "Q.dequeue()\n",
    "Q.dequeue()\n",
    "print(Q)\n",
    "Q.enqueue(1)\n",
    "Q.dequeue()\n",
    "Q.dequeue()\n",
    "\n",
    "print(Q)\n",
    "\n",
    "print(len(Q))\n",
    "\n"
   ]
  },
  {
   "cell_type": "code",
   "execution_count": null,
   "id": "julian-tribe",
   "metadata": {},
   "outputs": [],
   "source": [
    "#----------------R-6.8---------\n",
    "\"\"\" 32-10 = 22\"\"\""
   ]
  },
  {
   "cell_type": "code",
   "execution_count": 65,
   "id": "casual-antarctica",
   "metadata": {},
   "outputs": [
    {
     "data": {
      "text/plain": [
       "'_front = 10'"
      ]
     },
     "execution_count": 65,
     "metadata": {},
     "output_type": "execute_result"
    }
   ],
   "source": [
    "#----------------R-6.9---------\n",
    "'_front = 10'"
   ]
  },
  {
   "cell_type": "code",
   "execution_count": 67,
   "id": "pointed-deputy",
   "metadata": {},
   "outputs": [
    {
     "data": {
      "text/plain": [
       "' using walk reassigns front value to 0 index as in \\nreset otherwise it would have copy fron nth index as old value which would have being very inefficient'"
      ]
     },
     "execution_count": 67,
     "metadata": {},
     "output_type": "execute_result"
    }
   ],
   "source": [
    "#----------------R-6.10---------\n",
    "\"\"\" using walk reassigns front value to 0 index as in \n",
    "reset otherwise it would have copy fron nth index as old value which would have being very inefficient\"\"\""
   ]
  },
  {
   "cell_type": "code",
   "execution_count": 69,
   "id": "irish-textbook",
   "metadata": {},
   "outputs": [
    {
     "data": {
      "text/plain": [
       "9"
      ]
     },
     "execution_count": 69,
     "metadata": {},
     "output_type": "execute_result"
    }
   ],
   "source": [
    "#--------------R6-11---------------------------\n",
    "\"\"\"\n",
    "In our ADT, we want the following behaviours:\n",
    "\n",
    "enqueue\n",
    "dequeue\n",
    "first\n",
    "is_empty\n",
    "len\n",
    "\"\"\"\n",
    "\n",
    "\n",
    "import collections\n",
    "\n",
    "class Queue():\n",
    "    def __init__(self):\n",
    "        self._data = collections.deque()\n",
    "        self._size = 0       \n",
    "        \n",
    "    def __len__(self):\n",
    "        return self._size\n",
    "    \n",
    "    def first(self):\n",
    "        return self._data[0]\n",
    "        \n",
    "    def enqueue(self, value):\n",
    "        self._size += 1\n",
    "        self._data.append(value)  #Note we append here to add an element to the end of the queue\n",
    "        \n",
    "    def is_empty(self):\n",
    "        return self._size == 0\n",
    "    \n",
    "    def dequeue(self):\n",
    "        if self.is_empty():\n",
    "            raise ValueError('Queue is empty')\n",
    "        else:\n",
    "            ans = self._data.popleft()\n",
    "            self._size -= 1\n",
    "            return ans\n",
    "           \n",
    "        \n",
    "dq =   Queue()\n",
    "dq.enqueue(9)\n",
    "dq.enqueue(2)\n",
    "dq.dequeue()\n"
   ]
  },
  {
   "cell_type": "code",
   "execution_count": 71,
   "id": "restricted-windsor",
   "metadata": {},
   "outputs": [
    {
     "data": {
      "text/plain": [
       "'add_first(4) - [4]\\nadd_last(8) -   [4,8]\\nadd_last(9) - [4,8,9]\\nadd_first(5) - [5,4,8,9]\\nback()  -  9 [5,4,8,9]\\ndelete_first() - 5 [4,8,9]\\ndelete_last() -9 [4,8]\\nadd_last(7) - [4,8,7]\\nfirst() - 4  [4,8,7]\\nlast() - 7 [4,8,7]\\nadd_last(6)- [4,8,7,6]\\ndelete_first() - 4 [8,7,6]\\ndelete_first() - 8 [7,6]'"
      ]
     },
     "execution_count": 71,
     "metadata": {},
     "output_type": "execute_result"
    }
   ],
   "source": [
    "#--------------R6-12---------------------------\n",
    "\"\"\"add_first(4) - [4]\n",
    "add_last(8) -   [4,8]\n",
    "add_last(9) - [4,8,9]\n",
    "add_first(5) - [5,4,8,9]\n",
    "back()  -  9 [5,4,8,9]\n",
    "delete_first() - 5 [4,8,9]\n",
    "delete_last() -9 [4,8]\n",
    "add_last(7) - [4,8,7]\n",
    "first() - 4  [4,8,7]\n",
    "last() - 7 [4,8,7]\n",
    "add_last(6)- [4,8,7,6]\n",
    "delete_first() - 4 [8,7,6]\n",
    "delete_first() - 8 [7,6]\"\"\""
   ]
  },
  {
   "cell_type": "code",
   "execution_count": 79,
   "id": "mediterranean-validity",
   "metadata": {},
   "outputs": [
    {
     "name": "stdout",
     "output_type": "stream",
     "text": [
      "deque([1, 2, 3, 4, 5, 6, 7, 8])\n"
     ]
    }
   ],
   "source": [
    "#--------------R6-13---------------------------\n",
    "def copy(D,Q):\n",
    "    for i in range(len(D)):\n",
    "        Q.enqueue(D.popleft())\n",
    "    for j in range(len(Q)):\n",
    "        D.append(Q.dequeue())\n",
    "    return D\n",
    "\n",
    "D = collections.deque()\n",
    "for i in range(1,9):\n",
    "    D.append(i)\n",
    "Q = ArrayQueue()  \n",
    "\n",
    "print(copy(D,Q))"
   ]
  },
  {
   "cell_type": "code",
   "execution_count": 81,
   "id": "dressed-motion",
   "metadata": {},
   "outputs": [
    {
     "name": "stdout",
     "output_type": "stream",
     "text": [
      "deque([1, 2, 3, 4, 5, 6, 7, 8])\n"
     ]
    }
   ],
   "source": [
    "#--------------R6-13---------------------------\n",
    "def copy2(D,S):\n",
    "    for i in range(len(D)):\n",
    "        S.push(D.pop())\n",
    "    for j in range(len(S)):\n",
    "        D.append(S.pop())\n",
    "    return D\n",
    "\n",
    "D = collections.deque()\n",
    "for i in range(1,9):\n",
    "    D.append(i)\n",
    "S = ArrayStack()  \n",
    "\n",
    "print(copy2(D,S))"
   ]
  },
  {
   "cell_type": "code",
   "execution_count": 138,
   "id": "amateur-spine",
   "metadata": {},
   "outputs": [
    {
     "name": "stdout",
     "output_type": "stream",
     "text": [
      "[9, 1, None, None, None]\n",
      "[5, 9, 1, None, None]\n",
      "[3, 5, 9, 1, 4, 2, None, None, None, None]\n",
      "[None, 5, 9, 1, 4, None, None, None, None, None]\n",
      "[None, None, 9, 1, 4, None, None, None, None, None]\n"
     ]
    }
   ],
   "source": [
    "# implement dqueue\n",
    "class ArrayDeque:\n",
    "    \"\"\"FIFO queue implementation using a Python list as underlying storage.\"\"\"\n",
    "    DEFAULT_CAPACITY = 5 # moderate capacity for all new queues\n",
    "    def __init__ (self):\n",
    "        \"\"\"Create an empty queue.\"\"\"\n",
    "        self._data = [None] *  ArrayDeque.DEFAULT_CAPACITY\n",
    "        self._size = 0\n",
    "        self._front = 0\n",
    "        \n",
    "    def __len__(self):\n",
    "        \"\"\"Return the number of elements in the queue.\"\"\" \n",
    "        return self._size \n",
    "    \n",
    "    def is_empty(self):\n",
    "        \"\"\"Return True if the queue is empty.\"\"\" \n",
    "        return self._size == 0\n",
    "    \n",
    "    def first(self):\n",
    "        \"\"\"Return (but do not remove) the element at the front of the queue.\n",
    "          Raise Empty exception if the queue is empty. \"\"\"\n",
    "        if self.is_empty():\n",
    "            raise Empty( 'Queue is empty' ) \n",
    "            return self._data[self._front]\n",
    "        \n",
    "    def last(self):\n",
    "        \"\"\"Return (but do not remove) the element at the front of the queue.\n",
    "          Raise Empty exception if the queue is empty. \"\"\"\n",
    "        if self.is_empty():\n",
    "            raise Empty( 'Queue is empty' ) \n",
    "            return self._data[-1]\n",
    "        \n",
    "    def delete_first(self):\n",
    "        \"\"\"Remove and return the first element of the queue (i.e., FIFO).\n",
    "                     Raise Empty exception if the queue is empty. \"\"\"\n",
    "        if self.is_empty():\n",
    "            raise Empty( 'Queue is empty' )\n",
    "        answer = self._data[self._front]\n",
    "        self._data[self._front] = None\n",
    "        self._front = (self._front + 1) % len(self._data) \n",
    "        self._size -= 1\n",
    "        if 0 < self._size < len(self._data) // 4:   #shrinking underlying array reduce array size \n",
    "            self._resize(len(self._data) // 2)     #to half when elements stored is short of 1/4 of capacity\n",
    "        return answer \n",
    "    \n",
    "    def delete_last(self):\n",
    "        \"\"\"Remove and return the first element of the queue (i.e., FIFO).\n",
    "                     Raise Empty exception if the queue is empty. \"\"\"\n",
    "        if self.is_empty():\n",
    "            raise Empty( 'Queue is empty' )\n",
    "        avail = (self._front + self._size) % len(self._data)\n",
    "        answer = self._data[avail-1]\n",
    "        self._data[avail-1] = None \n",
    "        self._size -= 1    #to half when elements stored is short of 1/4 of capacity\n",
    "        if 0 < self._size < len(self._data) // 4:   #shrinking underlying array reduce array size \n",
    "            self._resize(len(self._data) // 2)\n",
    "        return answer\n",
    "    \n",
    "    \n",
    "    def add_last(self, e):\n",
    "        \"\"\"Add an element to the back of queue.\"\"\" \n",
    "        if self._size == len(self._data):\n",
    "            self._resize(2 *  len(self._data)) # double the array size \n",
    "        avail = (self._front + self._size) % len(self._data)\n",
    "        self._data[avail] = e\n",
    "        self._size += 1\n",
    "        \n",
    "    def add_first(self, e):\n",
    "        \"\"\"Add an element to the back of queue.\"\"\"\n",
    "        if self._size == len(self._data):\n",
    "            self._resize(2 *  len(self._data)) # double the array size\n",
    "        old = self._data\n",
    "        self._data = [None] * len(old)\n",
    "        self._data[0] = e\n",
    "        walk = self._front\n",
    "        for k in range(1,self._size+1):\n",
    "            self._data[k] = old[walk]\n",
    "            walk = (1 + walk) % len(old)\n",
    "        self._front = 0    \n",
    "        self._size += 1  \n",
    "        \n",
    "    def  _resize(self, cap): # we assume cap >= len(self)\n",
    "        \"\"\"Resize to a new list of capacity >= len(self).\"\"\"\n",
    "        old = self._data\n",
    "        self._data = [None] * cap\n",
    "        walk = self._front\n",
    "        for k in range(self._size):\n",
    "            self._data[k] = old[walk]\n",
    "            walk = (1 + walk) % len(old)\n",
    "        self._front = 0\n",
    "        \n",
    "    def __str__(self):\n",
    "        result = []\n",
    "        if(self._size == 0):\n",
    "            print('No element present in the queue')\n",
    "        else:\n",
    "            result = (dq._data)\n",
    "        return str(result)    \n",
    "           \n",
    "        \n",
    "dq =  ArrayDeque()\n",
    "dq.add_last(9)\n",
    "dq.add_last(1)\n",
    "print(dq)\n",
    "dq.add_first(5)\n",
    "print(dq)\n",
    "dq.add_last(4)\n",
    "dq.add_last(2)\n",
    "dq.add_first(3)\n",
    "# print(len(dq))\n",
    "#print(dq._data)\n",
    "print(dq)\n",
    "dq.delete_first()\n",
    "dq.delete_last()\n",
    "print(dq)\n",
    "dq.delete_first()\n",
    "print(dq)"
   ]
  }
 ],
 "metadata": {
  "kernelspec": {
   "display_name": "Python 3",
   "language": "python",
   "name": "python3"
  },
  "language_info": {
   "codemirror_mode": {
    "name": "ipython",
    "version": 3
   },
   "file_extension": ".py",
   "mimetype": "text/x-python",
   "name": "python",
   "nbconvert_exporter": "python",
   "pygments_lexer": "ipython3",
   "version": "3.7.4"
  }
 },
 "nbformat": 4,
 "nbformat_minor": 5
}
