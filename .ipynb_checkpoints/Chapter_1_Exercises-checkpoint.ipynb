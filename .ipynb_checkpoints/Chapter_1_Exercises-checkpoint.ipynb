{
 "cells": [
  {
   "cell_type": "code",
   "execution_count": 25,
   "id": "muslim-expense",
   "metadata": {},
   "outputs": [
    {
     "name": "stdout",
     "output_type": "stream",
     "text": [
      "True\n",
      "False\n",
      "False\n",
      "False\n",
      "True\n"
     ]
    }
   ],
   "source": [
    "#--------R-1.1-----------\n",
    "def is_multiple(n,m):\n",
    "    if m == 0:\n",
    "        return False\n",
    "    return ( n%m == 0 )\n",
    "\n",
    "#test\n",
    "print(is_multiple(8,2))\n",
    "print(is_multiple(9,2))\n",
    "print(is_multiple(13,4))\n",
    "print(is_multiple(58,7))\n",
    "print(is_multiple(84,4))"
   ]
  },
  {
   "cell_type": "code",
   "execution_count": 54,
   "id": "indie-strength",
   "metadata": {},
   "outputs": [
    {
     "name": "stdout",
     "output_type": "stream",
     "text": [
      "even\n",
      "odd\n",
      "odd\n",
      "odd\n",
      "#######\n",
      "True\n",
      "False\n",
      "False\n",
      "False\n"
     ]
    }
   ],
   "source": [
    "#--------R-1.2-----------\n",
    "def is_even(k:int):\n",
    "    if (k & 1) == 0:\n",
    "        return 'even'\n",
    "    return 'odd'\n",
    "\n",
    "print(is_even(2))\n",
    "print(is_even(7))\n",
    "print(is_even(21))\n",
    "print(is_even(521))\n",
    "\n",
    "print('#######')\n",
    "\n",
    "def is_even(k:int):\n",
    "    return (k & 1 == 0 )\n",
    "\n",
    "print(is_even(2))\n",
    "print(is_even(7))\n",
    "print(is_even(21))\n",
    "print(is_even(521))"
   ]
  },
  {
   "cell_type": "code",
   "execution_count": 74,
   "id": "harmful-sympathy",
   "metadata": {},
   "outputs": [
    {
     "name": "stdout",
     "output_type": "stream",
     "text": [
      "(1, 4)\n",
      "(3, 4434)\n",
      "(23, 98)\n",
      "(1, 9)\n",
      "(1, 1)\n"
     ]
    }
   ],
   "source": [
    "#--------R-1.3-----------\n",
    "def minmax(data):\n",
    "    #assuming data is sorted and unique\n",
    "    min = data[0]\n",
    "    max = data[-1]\n",
    "    for i in range(0,len(data)):\n",
    "        if data[i] < min:\n",
    "            min = data[i] \n",
    "        elif data[i] > max:\n",
    "            max = data[i]\n",
    "    return min,max\n",
    "\n",
    "print(minmax([3,4,1]))\n",
    "print(minmax([13,44,21,876,90,43,17,3,654,4434]))\n",
    "print(minmax([30,74,81,54,34,23,98,76,45]))\n",
    "print(minmax([9,8,6,4,1]))\n",
    "print(minmax([1]))\n",
    "        \n"
   ]
  },
  {
   "cell_type": "code",
   "execution_count": null,
   "id": "regional-hunger",
   "metadata": {},
   "outputs": [],
   "source": []
  }
 ],
 "metadata": {
  "kernelspec": {
   "display_name": "Python 3",
   "language": "python",
   "name": "python3"
  },
  "language_info": {
   "codemirror_mode": {
    "name": "ipython",
    "version": 3
   },
   "file_extension": ".py",
   "mimetype": "text/x-python",
   "name": "python",
   "nbconvert_exporter": "python",
   "pygments_lexer": "ipython3",
   "version": "3.7.4"
  }
 },
 "nbformat": 4,
 "nbformat_minor": 5
}
