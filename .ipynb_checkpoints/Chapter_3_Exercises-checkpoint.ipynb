{
 "cells": [
  {
   "cell_type": "code",
   "execution_count": 17,
   "id": "adjacent-distributor",
   "metadata": {},
   "outputs": [
    {
     "data": {
      "image/png": "[encoded data removed]",
      "text/plain": [
       "<Figure size 432x288 with 1 Axes>"
      ]
     },
     "metadata": {
      "needs_background": "light"
     },
     "output_type": "display_data"
    }
   ],
   "source": [
    "#-----------R3-1-----------------\n",
    "import matplotlib.pyplot as plt\n",
    "import numpy as np\n",
    "import math\n",
    "%matplotlib inline\n",
    "#from decimal import Decimal\n",
    "from matplotlib.legend_handler import HandlerLineCollection, HandlerTuple\n",
    "\n",
    "x = [10**i for i in range(10)]\n",
    "\n",
    "funcs = [lambda x: 8*x,\n",
    "        lambda x: 4*x*math.log(x),\n",
    "        lambda x: 2*x**2,\n",
    "        lambda x: x**3,\n",
    "       # lambda x: Decimal(pow(2,x))    #Note, this is too time consuming to compute\n",
    "        ]\n",
    "\n",
    "ys = [list(map(func, x)) for func in funcs]\n",
    "\n",
    "#for func in funcs:\n",
    "#    ys.append(list(map(func, x)))\n",
    "\n",
    "leg=['8*x','4*x*math.log(x)','2*x**2','x**3']\n",
    "#gf=['r--','bs','g^','r--']\n",
    "for i in range(4):\n",
    "    for y in ys:\n",
    "        plt.legend(plt.plot(x, y),(leg), loc='upper left', shadow=True, mode=\"expand\")\n",
    "plt.yscale('log')\n",
    "plt.xscale('log')"
   ]
  },
  {
   "cell_type": "code",
   "execution_count": 22,
   "id": "stopped-evolution",
   "metadata": {},
   "outputs": [
    {
     "data": {
      "text/plain": [
       "'The answer is approximately 1.5 from the intersection between the graphs'"
      ]
     },
     "execution_count": 22,
     "metadata": {},
     "output_type": "execute_result"
    },
    {
     "data": {
      "image/png": "[encoded data removed]",
      "text/plain": [
       "<Figure size 432x288 with 1 Axes>"
      ]
     },
     "metadata": {
      "needs_background": "light"
     },
     "output_type": "display_data"
    }
   ],
   "source": [
    "#-------------R3-2-------------------\n",
    "\"\"\"\n",
    "A is better than B for n greater than n when 8nlogn = 2n^2, or 4logn = n\n",
    "\n",
    "\"\"\"\n",
    "\n",
    "x = [x/100 for x in range(1,500) ]\n",
    "\n",
    "y1=list(map(lambda x: 4*math.log(x),x))\n",
    "y2=x\n",
    "plt.plot(x,y1)\n",
    "plt.plot(x,y2)\n",
    "\n",
    "\n",
    "\"\"\"The answer is approximately 1.5 from the intersection between the graphs\"\"\"\n"
   ]
  },
  {
   "cell_type": "code",
   "execution_count": 23,
   "id": "postal-finger",
   "metadata": {},
   "outputs": [
    {
     "data": {
      "text/plain": [
       "'\\n40n^2 = 2n^3 when n = 20, which means n0 = 20\\n\\n'"
      ]
     },
     "execution_count": 23,
     "metadata": {},
     "output_type": "execute_result"
    }
   ],
   "source": [
    "#-------------R3-3--------------\n",
    "\"\"\"\n",
    "40n^2 = 2n^3 when n = 20, which means n0 = 20\n",
    "\n",
    "\"\"\""
   ]
  },
  {
   "cell_type": "code",
   "execution_count": 24,
   "id": "internal-hearing",
   "metadata": {},
   "outputs": [
    {
     "data": {
      "text/plain": [
       "'\\nA constant function is plotted the same on each scale\\n\\n'"
      ]
     },
     "execution_count": 24,
     "metadata": {},
     "output_type": "execute_result"
    }
   ],
   "source": [
    "#-------------R3-4--------------\n",
    "\"\"\"\n",
    "A constant function is plotted the same on each scale\n",
    "\n",
    "\"\"\""
   ]
  },
  {
   "cell_type": "code",
   "execution_count": 25,
   "id": "general-ivory",
   "metadata": {},
   "outputs": [
    {
     "data": {
      "text/plain": [
       "' if y=n^c log(y)=clon(n) y=mx on log scale'"
      ]
     },
     "execution_count": 25,
     "metadata": {},
     "output_type": "execute_result"
    }
   ],
   "source": [
    "#-------------R3-5--------------\n",
    "\"\"\" if y=n^c log(y)=clon(n) y=mx on log scale\"\"\""
   ]
  },
  {
   "cell_type": "code",
   "execution_count": 26,
   "id": "commercial-bullet",
   "metadata": {},
   "outputs": [
    {
     "data": {
      "text/plain": [
       "'\\nThe sum is twice the sum of all the numbers from 0 to n, which is 2*(n+1)(n)/2 = (n+1)(n)\\n'"
      ]
     },
     "execution_count": 26,
     "metadata": {},
     "output_type": "execute_result"
    }
   ],
   "source": [
    "#-----------R3-6------------------\n",
    "\"\"\"\n",
    "The sum is twice the sum of all the numbers from 0 to n, which is 2*(n+1)(n)/2 = (n+1)(n)\n",
    "\"\"\""
   ]
  },
  {
   "cell_type": "code",
   "execution_count": 27,
   "id": "valuable-practitioner",
   "metadata": {},
   "outputs": [
    {
     "data": {
      "text/plain": [
       "'\\nIf the worst case runtime is O(f(n)), then there is a constant c such that cf(n)>worst_case for n>n0\\n\\nSince the worst case is always >= to all other cases, (worst case runtime >= g(n)), then cf(n)>=worst_case>= all other cases A\\n\\nSince a>=b and b>=c, then a>=c, which means that c (the algorithm A) is O(f(n))\\n\\n'"
      ]
     },
     "execution_count": 27,
     "metadata": {},
     "output_type": "execute_result"
    }
   ],
   "source": [
    "#--------------R3-7----------------\n",
    "\"\"\"\n",
    "If the worst case runtime is O(f(n)), then there is a constant c such that cf(n)>worst_case for n>n0\n",
    "\n",
    "Since the worst case is always >= to all other cases, (worst case runtime >= g(n)), then cf(n)>=worst_case>= all other cases A\n",
    "\n",
    "Since a>=b and b>=c, then a>=c, which means that c (the algorithm A) is O(f(n))\n",
    "\n",
    "\"\"\""
   ]
  },
  {
   "cell_type": "code",
   "execution_count": 28,
   "id": "corresponding-federal",
   "metadata": {},
   "outputs": [
    {
     "data": {
      "text/plain": [
       "'\\nIn increasing order or asymptotic growth rate...\\n\\nconstant (2^10)\\n\\nn (2^log(n) = n)\\nn (3n + 100logn) (<- this grows at a faster rate than the one before because 3>1)\\nn (4n) <- 4>3 and the 100logn term will eventually become relatively trivial at high n\\nnlogn (nlogn)\\nnlogn (4nlogn + 2n) <- Grows quicker because of the constant\\nn^2 (n^2 + 10)\\nn^3 (n^3)\\n2^n (2^n)\\n\\n'"
      ]
     },
     "execution_count": 28,
     "metadata": {},
     "output_type": "execute_result"
    }
   ],
   "source": [
    "#--------------R3-8----------------------\n",
    "\"\"\"\n",
    "In increasing order or asymptotic growth rate...\n",
    "\n",
    "constant (2^10)\n",
    "\n",
    "n (2^log(n) = n)\n",
    "n (3n + 100logn) (<- this grows at a faster rate than the one before because 3>1)\n",
    "n (4n) <- 4>3 and the 100logn term will eventually become relatively trivial at high n\n",
    "nlogn (nlogn)\n",
    "nlogn (4nlogn + 2n) <- Grows quicker because of the constant\n",
    "n^2 (n^2 + 10)\n",
    "n^3 (n^3)\n",
    "2^n (2^n)\n",
    "\n",
    "\"\"\""
   ]
  },
  {
   "cell_type": "code",
   "execution_count": 29,
   "id": "educational-quarter",
   "metadata": {},
   "outputs": [
    {
     "data": {
      "text/plain": [
       "\"\\nif d(n) is O(f(n)), there is a constant such that d(n) <= cf(n) for every n>n0.\\n\\nif we multiply d(n) by a, we get (ad(n)) <= acf(n) = c'f(n)\\n\\nEssentially, the new constant will be c_old * a, which still maintains the original condition of O notation, which \\nwill be true when n>a*n0\\n\""
      ]
     },
     "execution_count": 29,
     "metadata": {},
     "output_type": "execute_result"
    }
   ],
   "source": [
    "#------------R3-9------------------\n",
    "\"\"\"\n",
    "if d(n) is O(f(n)), there is a constant such that d(n) <= cf(n) for every n>n0.\n",
    "\n",
    "if we multiply d(n) by a, we get (ad(n)) <= acf(n) = c'f(n)\n",
    "\n",
    "Essentially, the new constant will be c_old * a, which still maintains the original condition of O notation, which \n",
    "will be true when n>a*n0\n",
    "\"\"\""
   ]
  },
  {
   "cell_type": "code",
   "execution_count": 30,
   "id": "moral-fraction",
   "metadata": {},
   "outputs": [
    {
     "data": {
      "text/plain": [
       "\"\\nIf d(n) is O(f(n)) and e(n) is O(g(n)), then d(n)<= cf(n) for n_f>n_f0 and e(n)<= dg(n) for n_e>n_e0\\n\\nas a result, d(n)e(n) <= (cf(n))*(dg(n)) and n_f*n_e > n_f0*n_e0\\n\\nwhich means that there is a new n' = n_f*n_e and and n0' = n_f0*n_e0, and a c' = c*d such that \\nd(n)e(n) <= c'(f(n)g(n)) for n'>n0', which means that d(n)e(n) is O(f(n)g(n))\\n\\n\\n\""
      ]
     },
     "execution_count": 30,
     "metadata": {},
     "output_type": "execute_result"
    }
   ],
   "source": [
    "#-----------R-3-10-----------------------\n",
    "\"\"\"\n",
    "If d(n) is O(f(n)) and e(n) is O(g(n)), then d(n)<= cf(n) for n_f>n_f0 and e(n)<= dg(n) for n_e>n_e0\n",
    "\n",
    "as a result, d(n)e(n) <= (cf(n))*(dg(n)) and n_f*n_e > n_f0*n_e0\n",
    "\n",
    "which means that there is a new n' = n_f*n_e and and n0' = n_f0*n_e0, and a c' = c*d such that \n",
    "d(n)e(n) <= c'(f(n)g(n)) for n'>n0', which means that d(n)e(n) is O(f(n)g(n))\n",
    "\n",
    "\n",
    "\"\"\""
   ]
  },
  {
   "cell_type": "code",
   "execution_count": 32,
   "id": "brief-intermediate",
   "metadata": {},
   "outputs": [
    {
     "data": {
      "text/plain": [
       "\"\\nLike before, if d(n) is O(f(n)) and e(n) is O(g(n)), then d(n)<= cf(n) for n_f>n_f0 and e(n)<= dg(n) for n_e>n_e0\\n\\nThat means that d(n) + e(n) <= (cf(n)) + (dg(n)) and n > n_f0+n_e0\\n\\nwhich means that there is a new n' = n_f+n_e and and n0' = n_f0+n_e0, such that:\\n\\nd(n) + e(n) <= cf(n) + dg(n) for n>n0'; however, this still does not satisfy O notation.  \\n\\nWe can absorb c and d into their functions such that  d(n) + e(n) <= f(cn) + g(dn) \\n\\nTo absorb c, we note that n'' = cn', so n' = n''/c, which means that n''/c >= n0''/c\\n\\nsimilarly for d, n''/cd >= n0''/cd\\n\\nTherefore there are new values of n0 such that \\n\\nd(n) + e(n) <= (f(n)+d(n)) for n>= n0'', which satisfies O(f(n) + d(n)) conditions\\n\\n\\n\""
      ]
     },
     "execution_count": 32,
     "metadata": {},
     "output_type": "execute_result"
    }
   ],
   "source": [
    "#-----------R-3-11-----------------------\n",
    "\"\"\"\n",
    "Like before, if d(n) is O(f(n)) and e(n) is O(g(n)), then d(n)<= cf(n) for n_f>n_f0 and e(n)<= dg(n) for n_e>n_e0\n",
    "\n",
    "That means that d(n) + e(n) <= (cf(n)) + (dg(n)) and n > n_f0+n_e0\n",
    "\n",
    "which means that there is a new n' = n_f+n_e and and n0' = n_f0+n_e0, such that:\n",
    "\n",
    "d(n) + e(n) <= cf(n) + dg(n) for n>n0'; however, this still does not satisfy O notation.  \n",
    "\n",
    "We can absorb c and d into their functions such that  d(n) + e(n) <= f(cn) + g(dn) \n",
    "\n",
    "To absorb c, we note that n'' = cn', so n' = n''/c, which means that n''/c >= n0''/c\n",
    "\n",
    "similarly for d, n''/cd >= n0''/cd\n",
    "\n",
    "Therefore there are new values of n0 such that \n",
    "\n",
    "d(n) + e(n) <= (f(n)+d(n)) for n>= n0'', which satisfies O(f(n) + d(n)) conditions\n",
    "\n",
    "\n",
    "\"\"\""
   ]
  },
  {
   "cell_type": "code",
   "execution_count": 33,
   "id": "critical-receipt",
   "metadata": {},
   "outputs": [
    {
     "data": {
      "text/plain": [
       "\"\\nThe key point here is that just because something is O(n) doesn't mean that is has to be that function\\nFor example, f(n) = 5 is O(n) is mathematically true, although it is poor form to say so\\n\\nTherefore, if we have d(n) = n and e(n) = n with f(n) = n and g(n) = n, then we satisfy\\nd(n) <= C(f(n)) for n>=0, and e(n) <= C2(g(n)) for n>=0\\n\\nf(n)-g(n) = 0 and d(n) -e(n) = n\\n\\nThere is no value for n>0 such that 0>=n, which means that d(n) -e(n) is not O(f(n)-g(n))\\n\""
      ]
     },
     "execution_count": 33,
     "metadata": {},
     "output_type": "execute_result"
    }
   ],
   "source": [
    "#-----------R-3-12-----------------------\n",
    "\"\"\"\n",
    "The key point here is that just because something is O(n) doesn't mean that is has to be that function\n",
    "For example, f(n) = 5 is O(n) is mathematically true, although it is poor form to say so\n",
    "\n",
    "Therefore, if we have d(n) = n and e(n) = n with f(n) = n and g(n) = n, then we satisfy\n",
    "d(n) <= C(f(n)) for n>=0, and e(n) <= C2(g(n)) for n>=0\n",
    "\n",
    "f(n)-g(n) = 0 and d(n) -e(n) = n\n",
    "\n",
    "There is no value for n>0 such that 0>=n, which means that d(n) -e(n) is not O(f(n)-g(n))\n",
    "\"\"\""
   ]
  },
  {
   "cell_type": "code",
   "execution_count": 34,
   "id": "saving-expansion",
   "metadata": {},
   "outputs": [
    {
     "data": {
      "text/plain": [
       "'\\nBy definition, if y is the output of max{f(n), g(n)}, then by definition\\ny>=f(n) and y>=g(n), which means that 2y>=f(n) + g(n)\\nThat means that f(n) + g(n) <= 2(max{f(n), g(n)}) for every n>n0=0,\\nwhich satisfies our requirements for O\\n\\n'"
      ]
     },
     "execution_count": 34,
     "metadata": {},
     "output_type": "execute_result"
    }
   ],
   "source": [
    "#------------R3-14---------------------\n",
    "\"\"\"\n",
    "By definition, if y is the output of max{f(n), g(n)}, then by definition\n",
    "y>=f(n) and y>=g(n), which means that 2y>=f(n) + g(n)\n",
    "That means that f(n) + g(n) <= 2(max{f(n), g(n)}) for every n>n0=0,\n",
    "which satisfies our requirements for O\n",
    "\n",
    "\"\"\""
   ]
  },
  {
   "cell_type": "code",
   "execution_count": 36,
   "id": "illegal-objective",
   "metadata": {},
   "outputs": [
    {
     "data": {
      "text/plain": [
       "'\\nfor f(n) to be O(g(n)), f(n)<=Cg(n) for all n>n0\\ng(n)>=cf(n)---> g(n)--omega(f(n))'"
      ]
     },
     "execution_count": 36,
     "metadata": {},
     "output_type": "execute_result"
    }
   ],
   "source": [
    "#----------R3-15-------------------\n",
    "\"\"\"\n",
    "for f(n) to be O(g(n)), f(n)<=Cg(n) for all n>n0\n",
    "g(n)>=cf(n)---> g(n)--omega(f(n))\"\"\""
   ]
  },
  {
   "cell_type": "code",
   "execution_count": 37,
   "id": "democratic-crossing",
   "metadata": {},
   "outputs": [
    {
     "data": {
      "text/plain": [
       "\"\\nIt has been shown earlier that a polynomial is O(n^d), where d is its highest order\\n\\nTherefore, f(n) <= f'(n), where f'(n) = Cn^d\\n\\nif we take the logarithm of this function, we get log(cn^d) = log(c) + dlog(n)\\n\\nWe can ignore the constant term, which means that log(f(n)) <= dlog(n), which means that\\nlog(f(n)) is O(log(n)) for a polynomial\\n\\n\""
      ]
     },
     "execution_count": 37,
     "metadata": {},
     "output_type": "execute_result"
    }
   ],
   "source": [
    "#--------------R3-16---------------------------\n",
    "\"\"\"\n",
    "It has been shown earlier that a polynomial is O(n^d), where d is its highest order\n",
    "\n",
    "Therefore, f(n) <= f'(n), where f'(n) = Cn^d\n",
    "\n",
    "if we take the logarithm of this function, we get log(cn^d) = log(c) + dlog(n)\n",
    "\n",
    "We can ignore the constant term, which means that log(f(n)) <= dlog(n), which means that\n",
    "log(f(n)) is O(log(n)) for a polynomial\n",
    "\n",
    "\"\"\""
   ]
  },
  {
   "cell_type": "code",
   "execution_count": 38,
   "id": "african-essay",
   "metadata": {},
   "outputs": [
    {
     "data": {
      "text/plain": [
       "'\\nIf you expand out the function, you get n^5 + ax^4 + .... + 1,\\nwhich is < (1+a+a2...+1)n^5 for all n>n0.\\n\\nTherefore, it is O(n^5)\\n\\n'"
      ]
     },
     "execution_count": 38,
     "metadata": {},
     "output_type": "execute_result"
    }
   ],
   "source": [
    "#--------------R3-17----------------------------\n",
    "\"\"\"\n",
    "If you expand out the function, you get n^5 + ax^4 + .... + 1,\n",
    "which is < (1+a+a2...+1)n^5 for all n>n0.\n",
    "\n",
    "Therefore, it is O(n^5)\n",
    "\n",
    "\"\"\""
   ]
  },
  {
   "cell_type": "code",
   "execution_count": 39,
   "id": "leading-courtesy",
   "metadata": {},
   "outputs": [
    {
     "data": {
      "text/plain": [
       "'\\nFrom the power rules, 2^(n+1) = (2)(2^n), which means there is a constant C=2 such that\\n2^(n+1) <= Cf(n) for n>n0, where f(n) = 2^n\\n\\nTherefor 2^(n+1) is O(2^n)\\n\\n'"
      ]
     },
     "execution_count": 39,
     "metadata": {},
     "output_type": "execute_result"
    }
   ],
   "source": [
    "#------------R3-18-------------------------\n",
    "\"\"\"\n",
    "From the power rules, 2^(n+1) = (2)(2^n), which means there is a constant C=2 such that\n",
    "2^(n+1) <= Cf(n) for n>n0, where f(n) = 2^n\n",
    "\n",
    "Therefor 2^(n+1) is O(2^n)\n",
    "\n",
    "\"\"\""
   ]
  },
  {
   "cell_type": "code",
   "execution_count": 40,
   "id": "confident-state",
   "metadata": {},
   "outputs": [
    {
     "data": {
      "text/plain": [
       "'\\nWe have shown previously that if d(n) is O(f(n)) and e(n) is O(g(n)), then \\nd(n)e(n) is O(f(n)g(n)).\\n\\nIf we set d(n) = n and e(n) = 1, with f(n) = n and g(n) = log(n), then \\n(n)(1) is O(nlog(n)), satisfying our requirements.\\n\\n\\n\\n'"
      ]
     },
     "execution_count": 40,
     "metadata": {},
     "output_type": "execute_result"
    }
   ],
   "source": [
    "#-----------R3-19-----------------------\n",
    "\"\"\"\n",
    "We have shown previously that if d(n) is O(f(n)) and e(n) is O(g(n)), then \n",
    "d(n)e(n) is O(f(n)g(n)).\n",
    "\n",
    "If we set d(n) = n and e(n) = 1, with f(n) = n and g(n) = log(n), then \n",
    "(n)(1) is O(nlog(n)), satisfying our requirements.\n",
    "\n",
    "\n",
    "\n",
    "\"\"\""
   ]
  },
  {
   "cell_type": "code",
   "execution_count": 41,
   "id": "relevant-princeton",
   "metadata": {},
   "outputs": [
    {
     "data": {
      "text/plain": [
       "'\\nLike in the previous exercise, log(n) is O(n) and n is O(n), so\\nnlogn is O(n^2) and therefore (n^2) is T(nlogn) for n>n0\\n\\n\\n'"
      ]
     },
     "execution_count": 41,
     "metadata": {},
     "output_type": "execute_result"
    }
   ],
   "source": [
    "#------------R3-20---------------------\n",
    "\"\"\"\n",
    "Like in the previous exercise, log(n) is O(n) and n is O(n), so\n",
    "nlogn is O(n^2) and therefore (n^2) is T(nlogn) for n>n0\n",
    "\n",
    "\n",
    "\"\"\""
   ]
  },
  {
   "cell_type": "code",
   "execution_count": 42,
   "id": "spiritual-nomination",
   "metadata": {},
   "outputs": [
    {
     "data": {
      "text/plain": [
       "'\\nAs before, 1 is O(log(n)) for n>n0 (where n0>2 since log(1)=0)\\n\\nTherefore (n)*(1) is O(log(n)*n) and n is O(nlogn)\\n\\n'"
      ]
     },
     "execution_count": 42,
     "metadata": {},
     "output_type": "execute_result"
    }
   ],
   "source": [
    "#---------R3-21-------------------\n",
    "\"\"\"\n",
    "As before, 1 is O(log(n)) for n>n0 (where n0>2 since log(1)=0)\n",
    "\n",
    "Therefore (n)*(1) is O(log(n)*n) and n is O(nlogn)\n",
    "\n",
    "\"\"\""
   ]
  },
  {
   "cell_type": "code",
   "execution_count": 43,
   "id": "organic-arizona",
   "metadata": {},
   "outputs": [
    {
     "data": {
      "text/plain": [
       "'\\nf(n) <= ceil(f(n)) for all n>0, but ceil(f(n)) <= f(n) + 1.\\n\\nWe have shown that O(f(n) + g(n)) = O(max(f(n), g(n)),\\nif f(n) is f(n) and g(n) is 1, then O(f(n) + g(n)) is O(max(f(n), 1)), which will be \\n\\nf(n) for a specific range n>n0\\n\\nTherefore, ceil(f(n)) is O(f(n))\\n\\n\\n'"
      ]
     },
     "execution_count": 43,
     "metadata": {},
     "output_type": "execute_result"
    }
   ],
   "source": [
    "#------------R3-22-----------------------\n",
    "\"\"\"\n",
    "f(n) <= ceil(f(n)) for all n>0, but ceil(f(n)) <= f(n) + 1.\n",
    "\n",
    "We have shown that O(f(n) + g(n)) = O(max(f(n), g(n)),\n",
    "if f(n) is f(n) and g(n) is 1, then O(f(n) + g(n)) is O(max(f(n), 1)), which will be \n",
    "\n",
    "f(n) for a specific range n>n0\n",
    "\n",
    "Therefore, ceil(f(n)) is O(f(n))\n",
    "\n",
    "\n",
    "\"\"\""
   ]
  },
  {
   "cell_type": "code",
   "execution_count": 46,
   "id": "nuclear-custom",
   "metadata": {},
   "outputs": [
    {
     "data": {
      "text/plain": [
       "'O(n)'"
      ]
     },
     "execution_count": 46,
     "metadata": {},
     "output_type": "execute_result"
    }
   ],
   "source": [
    "#------------R3-23-----------------------\n",
    "def example1(S):\n",
    "    \"\"\"Return the sum of the elements in sequence S.\"\"\"\n",
    "    n = len(S) #O(1)\n",
    "    total = 0   \n",
    "    for j in range(n): # O(n)\n",
    "        total += S[j] #  O(n)\n",
    "    return total\n",
    "    \n",
    "\"O(n)\"   "
   ]
  },
  {
   "cell_type": "code",
   "execution_count": 47,
   "id": "written-poultry",
   "metadata": {},
   "outputs": [
    {
     "data": {
      "text/plain": [
       "'O(n)'"
      ]
     },
     "execution_count": 47,
     "metadata": {},
     "output_type": "execute_result"
    }
   ],
   "source": [
    "#------------R3-24-----------------------\n",
    "def example2(S):\n",
    "    \"\"\"Return the sum of the elements with even index in sequence S.\"\"\"\n",
    "    n = len(S)  # O(1)\n",
    "    total = 0\n",
    "    for j in range(0, n, 2): # O(n/2)--> O(n)\n",
    "        total += S[j] # O(n)\n",
    "    return total\n",
    "\"O(n)\""
   ]
  },
  {
   "cell_type": "code",
   "execution_count": 48,
   "id": "diverse-stand",
   "metadata": {},
   "outputs": [
    {
     "data": {
      "text/plain": [
       "'O(n^2)'"
      ]
     },
     "execution_count": 48,
     "metadata": {},
     "output_type": "execute_result"
    }
   ],
   "source": [
    "#------------R3-25-----------------------\n",
    "def example3(S):\n",
    "    \"\"\"Return the sum of the prefix sums of sequence S.\"\"\"\n",
    "    n = len(S)  # O(1)\n",
    "    total = 0\n",
    "    for j in range(n): # O(n)\n",
    "        for k in range(1+j):   #O(n^2)\n",
    "            total += S[k]\n",
    "    return total\n",
    "\"O(n^2)\""
   ]
  },
  {
   "cell_type": "code",
   "execution_count": 49,
   "id": "tired-petroleum",
   "metadata": {},
   "outputs": [
    {
     "data": {
      "text/plain": [
       "' O(n)'"
      ]
     },
     "execution_count": 49,
     "metadata": {},
     "output_type": "execute_result"
    }
   ],
   "source": [
    "#------------R3-26-----------------------\n",
    "def example4(S):\n",
    "    \"\"\"Return the sum of the prefix sums of sequence S.\"\"\"\n",
    "    n = len(S)     # O(1)\n",
    "    prefix = 0\n",
    "    total = 0\n",
    "    for j in range(n): # O(n)\n",
    "        prefix += S[j]\n",
    "        total += prefix \n",
    "    return total\n",
    "\" O(n)\""
   ]
  },
  {
   "cell_type": "code",
   "execution_count": 61,
   "id": "ignored-camera",
   "metadata": {},
   "outputs": [
    {
     "data": {
      "text/plain": [
       "'O(n^3)'"
      ]
     },
     "execution_count": 61,
     "metadata": {},
     "output_type": "execute_result"
    }
   ],
   "source": [
    "#------------R3-27-----------------------\n",
    "def example5(A, B):\n",
    "    \"\"\"Return the number of elements in B equal to the sum of prefix sums in A.\"\"\"\n",
    "    n = len(A)    # O(1)\n",
    "    count = 0\n",
    "    for i in range(n):  # O(n)\n",
    "        total = 0\n",
    "        for j in range(n):  # O(n)\n",
    "            for k in range(1+j): # O(n)\n",
    "                total += A[k]\n",
    "        if B[i] == total:  # O(n)\n",
    "            count += 1\n",
    "    return count \n",
    "\"O(n^3)\""
   ]
  },
  {
   "cell_type": "code",
   "execution_count": 52,
   "id": "loving-endorsement",
   "metadata": {},
   "outputs": [
    {
     "data": {
      "text/html": [
       "<div>\n",
       "<style scoped>\n",
       "    .dataframe tbody tr th:only-of-type {\n",
       "        vertical-align: middle;\n",
       "    }\n",
       "\n",
       "    .dataframe tbody tr th {\n",
       "        vertical-align: top;\n",
       "    }\n",
       "\n",
       "    .dataframe thead th {\n",
       "        text-align: right;\n",
       "    }\n",
       "</style>\n",
       "<table border=\"1\" class=\"dataframe\">\n",
       "  <thead>\n",
       "    <tr style=\"text-align: right;\">\n",
       "      <th></th>\n",
       "      <th>seconds</th>\n",
       "      <th>hours</th>\n",
       "    </tr>\n",
       "  </thead>\n",
       "  <tbody>\n",
       "    <tr>\n",
       "      <th>logn</th>\n",
       "      <td>inf</td>\n",
       "      <td>NaN</td>\n",
       "    </tr>\n",
       "    <tr>\n",
       "      <th>n</th>\n",
       "      <td>10000000.0</td>\n",
       "      <td>36000000000.0</td>\n",
       "    </tr>\n",
       "    <tr>\n",
       "      <th>nlogn</th>\n",
       "      <td>87847</td>\n",
       "      <td>316249200</td>\n",
       "    </tr>\n",
       "    <tr>\n",
       "      <th>n2</th>\n",
       "      <td>3162.27766</td>\n",
       "      <td>189736.65961</td>\n",
       "    </tr>\n",
       "    <tr>\n",
       "      <th>2n</th>\n",
       "      <td>23.253497</td>\n",
       "      <td>35.067278</td>\n",
       "    </tr>\n",
       "  </tbody>\n",
       "</table>\n",
       "</div>"
      ],
      "text/plain": [
       "          seconds          hours\n",
       "logn          inf            NaN\n",
       "n      10000000.0  36000000000.0\n",
       "nlogn       87847      316249200\n",
       "n2     3162.27766   189736.65961\n",
       "2n      23.253497      35.067278"
      ]
     },
     "execution_count": 52,
     "metadata": {},
     "output_type": "execute_result"
    }
   ],
   "source": [
    "#------------R3-28--------------\n",
    "import pandas as pd\n",
    "import math\n",
    "\n",
    "second = 10e6\n",
    "rel_lengths = [1, 60*60]\n",
    "\n",
    "x=[second*x for x in rel_lengths]\n",
    "\n",
    "functions = [lambda x: 0,\n",
    "            lambda x: x,\n",
    "            lambda x: 0,\n",
    "            lambda x : x**(0.5),\n",
    "            lambda x: math.log(x, 2)]\n",
    "\n",
    "names = ['logn', 'n', 'nlogn', 'n2', '2n']\n",
    "\n",
    "df = pd.DataFrame(columns = ['seconds','hours'])\n",
    "\n",
    "for i in range(len(functions)):\n",
    "    inp=list(map(functions[i],x))\n",
    "    df.loc[names[i]] = inp\n",
    "\n",
    "df.loc[names[0]] = [10e3000, np.nan]\n",
    "df.loc[names[2]] = [87847*x for x in rel_lengths]\n",
    "df"
   ]
  },
  {
   "cell_type": "code",
   "execution_count": 53,
   "id": "centered-decision",
   "metadata": {},
   "outputs": [
    {
     "data": {
      "text/plain": [
       "'O(nlogn)'"
      ]
     },
     "execution_count": 53,
     "metadata": {},
     "output_type": "execute_result"
    }
   ],
   "source": [
    "#------------R3-29--------------\n",
    "\"O(nlogn)\""
   ]
  },
  {
   "cell_type": "code",
   "execution_count": 55,
   "id": "floating-stations",
   "metadata": {},
   "outputs": [
    {
     "data": {
      "text/plain": [
       "'O(nlogn)'"
      ]
     },
     "execution_count": 55,
     "metadata": {},
     "output_type": "execute_result"
    }
   ],
   "source": [
    "#------------R3-30--------------\n",
    "\"\"\"log(n) element chosen with operation of O(n)\"\"\"\n",
    "'O(nlogn)'"
   ]
  },
  {
   "cell_type": "code",
   "execution_count": 56,
   "id": "coated-dream",
   "metadata": {},
   "outputs": [
    {
     "data": {
      "text/plain": [
       "'\\nYou are doing O(n) and O(logn), which is overall O(n)\\n\\nIf all entries are odd, your best case is O(logn)\\n\\nWorst case in O(n) if they are all even\\n\\n'"
      ]
     },
     "execution_count": 56,
     "metadata": {},
     "output_type": "execute_result"
    }
   ],
   "source": [
    "#------------R3-31----------------\n",
    "\"\"\"\n",
    "You are doing O(n) and O(logn), which is overall O(n)\n",
    "\n",
    "If all entries are odd, your best case is O(logn)\n",
    "\n",
    "Worst case in O(n) if they are all even\n",
    "\n",
    "\"\"\""
   ]
  },
  {
   "cell_type": "code",
   "execution_count": 57,
   "id": "adequate-component",
   "metadata": {},
   "outputs": [
    {
     "data": {
      "text/plain": [
       "'O(n)'"
      ]
     },
     "execution_count": 57,
     "metadata": {},
     "output_type": "execute_result"
    }
   ],
   "source": [
    "#--------------R3-32---------------\n",
    "'O(n)'"
   ]
  },
  {
   "cell_type": "code",
   "execution_count": 58,
   "id": "delayed-queensland",
   "metadata": {},
   "outputs": [
    {
     "name": "stdout",
     "output_type": "stream",
     "text": [
      "15.05149978319906\n"
     ]
    }
   ],
   "source": [
    "#--------------R3-33------------------\n",
    "\"\"\"\n",
    "O notation means that there is a constant C such that f(n) < Cg(n)\n",
    "\n",
    "Therefore, if Al's algorithms performs better than A(nlogn) and Bob's algoriothm performs better that B(n^2), \n",
    "we can solve for the value where Anlogn = Bn^2, which we know is true when n=100.  This means that \n",
    "(A/B) = (100)/(log(100)) = 15.05 (see below)\n",
    "\n",
    "That means that Al's runtime on a single iteration is 15 times slower, but since he performs fewer operations overall, he\n",
    "starts to perform better at large values of n\n",
    "\n",
    "\"\"\"\n",
    "import math\n",
    "print(100/math.log(100, 2))"
   ]
  },
  {
   "cell_type": "code",
   "execution_count": 59,
   "id": "plastic-panic",
   "metadata": {},
   "outputs": [
    {
     "data": {
      "text/plain": [
       "'\\nIf you are visiting a new restaurant, the chance that you will enjoy the meal is 1/j, where j is the total number of \\nrestaurants that  you have visited so far (including that one)\\n\\nTherefore, the expected number of meals you will enjoy is the sum of (1/j) for j=1-number_of_restaurant\\n\\nFrom calculus, the integral of 1/x is ln(x), so for 10,000 meals, the average will be ln(10,000) - ln(1) = 9.2 restaurants\\n\\n'"
      ]
     },
     "execution_count": 59,
     "metadata": {},
     "output_type": "execute_result"
    }
   ],
   "source": [
    "#-------------R3-34----------------------\n",
    "\"\"\"\n",
    "If you are visiting a new restaurant, the chance that you will enjoy the meal is 1/j, where j is the total number of \n",
    "restaurants that  you have visited so far (including that one)\n",
    "\n",
    "Therefore, the expected number of meals you will enjoy is the sum of (1/j) for j=1-number_of_restaurant\n",
    "\n",
    "From calculus, the integral of 1/x is ln(x), so for 10,000 meals, the average will be ln(10,000) - ln(1) = 9.2 restaurants\n",
    "\n",
    "\"\"\""
   ]
  },
  {
   "cell_type": "markdown",
   "id": "willing-receiver",
   "metadata": {},
   "source": [
    "## Creativity"
   ]
  },
  {
   "cell_type": "code",
   "execution_count": 62,
   "id": "attended-balloon",
   "metadata": {},
   "outputs": [
    {
     "data": {
      "text/plain": [
       "'\\nIf you sort each set, it will take O(nlogn)*3 time, which is still O(nlogn).\\n\\nOnce you have the sequences sorted, you can move along each sequence with indices i, j and k.  \\nAt each iteration, either choose the biggest value from the current positions, or repeat the process with the \\nremaining two indices until they are all equal or greater to that biggest value and start again.  At each step, check\\nif the values are the same and return False if they are.  If you make it to the end, return true\\n\\nSince you are traversing each index once, this part will be done in O(n) time, so the overall is \\nO(nlogn + n), which is O(nlogn) still\\n\\n\\n'"
      ]
     },
     "execution_count": 62,
     "metadata": {},
     "output_type": "execute_result"
    }
   ],
   "source": [
    "#----------C3-35--------------\n",
    "\"\"\"\n",
    "If you sort each set, it will take O(nlogn)*3 time, which is still O(nlogn).\n",
    "\n",
    "Once you have the sequences sorted, you can move along each sequence with indices i, j and k.  \n",
    "At each iteration, either choose the biggest value from the current positions, or repeat the process with the \n",
    "remaining two indices until they are all equal or greater to that biggest value and start again.  At each step, check\n",
    "if the values are the same and return False if they are.  If you make it to the end, return true\n",
    "\n",
    "Since you are traversing each index once, this part will be done in O(n) time, so the overall is \n",
    "O(nlogn + n), which is O(nlogn) still\n",
    "\n",
    "\n",
    "\"\"\"                "
   ]
  },
  {
   "cell_type": "code",
   "execution_count": null,
   "id": "short-cooperation",
   "metadata": {},
   "outputs": [],
   "source": []
  }
 ],
 "metadata": {
  "kernelspec": {
   "display_name": "Python 3",
   "language": "python",
   "name": "python3"
  },
  "language_info": {
   "codemirror_mode": {
    "name": "ipython",
    "version": 3
   },
   "file_extension": ".py",
   "mimetype": "text/x-python",
   "name": "python",
   "nbconvert_exporter": "python",
   "pygments_lexer": "ipython3",
   "version": "3.7.4"
  }
 },
 "nbformat": 4,
 "nbformat_minor": 5
}
