{
 "cells": [
  {
   "cell_type": "code",
   "execution_count": 76,
   "id": "outstanding-journalist",
   "metadata": {},
   "outputs": [
    {
     "name": "stdout",
     "output_type": "stream",
     "text": [
      "[1, 2, 5, 7, 8]\n"
     ]
    }
   ],
   "source": [
    "def insertion_sort(A):\n",
    "    for k in range(1,len(A)):\n",
    "        cur = A[k]\n",
    "        j = k\n",
    "        while j > 0 and A[j-1]>cur:\n",
    "            A[j] = A[j-1]\n",
    "            j -= 1\n",
    "            A[j] = cur\n",
    "    return A    \n",
    "\n",
    "A = [5,7,2,8,1]        \n",
    "print(insertion_sort(A))        "
   ]
  },
  {
   "cell_type": "code",
   "execution_count": 13,
   "id": "macro-raising",
   "metadata": {},
   "outputs": [
    {
     "name": "stdout",
     "output_type": "stream",
     "text": [
      "S1 : [2, 5, 8, 11, 12, 14, 15]\n",
      "S2 : [3, 9, 10, 18, 19, 22, 25]\n",
      "S1 : [2, 5, 8]\n",
      "S2 : [11, 12, 14, 15]\n",
      "S1 : [2]\n",
      "S2 : [5, 8]\n",
      "S1 : [5]\n",
      "S2 : [8]\n",
      "S1 and S2 before merge [5] [8]\n",
      "S1 and S2 before merge [2] [5, 8]\n",
      "S1 : [11, 12]\n",
      "S2 : [14, 15]\n",
      "S1 : [11]\n",
      "S2 : [12]\n",
      "S1 and S2 before merge [11] [12]\n",
      "S1 : [14]\n",
      "S2 : [15]\n",
      "S1 and S2 before merge [14] [15]\n",
      "S1 and S2 before merge [11, 12] [14, 15]\n",
      "S1 and S2 before merge [2, 5, 8] [11, 12, 14, 15]\n",
      "S1 : [3, 9, 10]\n",
      "S2 : [18, 19, 22, 25]\n",
      "S1 : [3]\n",
      "S2 : [9, 10]\n",
      "S1 : [9]\n",
      "S2 : [10]\n",
      "S1 and S2 before merge [9] [10]\n",
      "S1 and S2 before merge [3] [9, 10]\n",
      "S1 : [18, 19]\n",
      "S2 : [22, 25]\n",
      "S1 : [18]\n",
      "S2 : [19]\n",
      "S1 and S2 before merge [18] [19]\n",
      "S1 : [22]\n",
      "S2 : [25]\n",
      "S1 and S2 before merge [22] [25]\n",
      "S1 and S2 before merge [18, 19] [22, 25]\n",
      "S1 and S2 before merge [3, 9, 10] [18, 19, 22, 25]\n",
      "S1 and S2 before merge [2, 5, 8, 11, 12, 14, 15] [3, 9, 10, 18, 19, 22, 25]\n"
     ]
    },
    {
     "data": {
      "text/plain": [
       "[2, 3, 5, 8, 9, 10, 11, 12, 14, 15, 18, 19, 22, 25]"
      ]
     },
     "execution_count": 13,
     "metadata": {},
     "output_type": "execute_result"
    }
   ],
   "source": [
    "#array based\n",
    "def merge(S1, S2, S):\n",
    "    \"\"\"Merge two sorted Python lists S1 and S2 into properly sized list S.\"\"\" \n",
    "    i=j=0\n",
    "    while i + j < len(S):\n",
    "        if j == len(S2) or (i < len(S1) and S1[i] < S2[j]):\n",
    "            S[i+j] = S1[i] # copy ith element of S1 as next item of S \n",
    "            i += 1\n",
    "        else:\n",
    "            S[i+j] = S2[j] # copy jth element of S2 as next item of S \n",
    "            j += 1\n",
    "\n",
    "def merge_sort(S):\n",
    "    \"\"\"Sort the elements of Python list S using the merge-sort algorithm.\"\"\" \n",
    "    n = len(S)\n",
    "    if n < 2:\n",
    "        return  # list is already sorted\n",
    "    # divide\n",
    "    mid = n // 2\n",
    "    S1 = S[0:mid]  # copy of first half\n",
    "    print(\"S1 :\", S1)\n",
    "    S2 = S[mid:n]  # copy of second half\n",
    "    print(\"S2 :\",S2)\n",
    "    # conquer (with recursion) \n",
    "    merge_sort(S1)    # sort copy of first half\n",
    "    merge_sort(S2)    # sort copy of second half\n",
    "    # merge results\n",
    "    print(\"S1 and S2 before merge\", S1,S2)\n",
    "    merge(S1, S2, S)    # merge sorted halves back into S \n",
    "    return S\n",
    "\n",
    "    \n",
    "S=[2,5,8,11,12,14,15,3,9,10,18,19,22,25] \n",
    "#S=[2,5,8,15,22]\n",
    "\n",
    "\n",
    "merge_sort(S)\n",
    "\n",
    "   \n",
    "            "
   ]
  },
  {
   "cell_type": "code",
   "execution_count": 14,
   "id": "stupid-lambda",
   "metadata": {},
   "outputs": [
    {
     "data": {
      "text/plain": [
       "'running time of merge sort of  S of size n in O(nlogn)'"
      ]
     },
     "execution_count": 14,
     "metadata": {},
     "output_type": "execute_result"
    }
   ],
   "source": [
    "\"running time of merge sort of  S of size n in O(nlogn)\""
   ]
  },
  {
   "cell_type": "code",
   "execution_count": 80,
   "id": "worldwide-canvas",
   "metadata": {},
   "outputs": [
    {
     "name": "stdout",
     "output_type": "stream",
     "text": [
      "01234\n",
      "234\n"
     ]
    }
   ],
   "source": [
    "class Empty(Exception):\n",
    "    pass\n",
    "\n",
    "class LinkedQueue:\n",
    "    \"\"\"FIFO Queue implementation using a singly linked list for storage.\"\"\"\n",
    "\n",
    "    #-------------------------- nested Node class --------------------------    \n",
    "    class _Node:\n",
    "        \"\"\"Lightweight, nonpublic class for storing a singly linked node.\"\"\"\n",
    "        __slots__ = '_element' , '_next'\n",
    "        def  __init__(self, element, next):\n",
    "            self._element = element\n",
    "            self._next = next\n",
    "        \n",
    "    #------------------------------- queue methods -------------------------------\n",
    "    def __init__ (self):\n",
    "        \"\"\"Create an empty queue.\"\"\"\n",
    "        self._head = None\n",
    "        self._tail = None\n",
    "        self._size = 0\n",
    "\n",
    "    def __len__ (self):\n",
    "        \"\"\"Return the number of elements in the queue.\"\"\"\n",
    "        return self._size\n",
    "\n",
    "    def is_empty(self):\n",
    "        \"\"\"Return True if the queue is empty.\"\"\"\n",
    "        return self._size == 0\n",
    "\n",
    "    def enqueue(self, e):\n",
    "        \"\"\"Add element e to the back of the queue.\"\"\"\n",
    "        newest = self._Node(e, None)\n",
    "        if self.is_empty():\n",
    "            self._head = newest\n",
    "        else:\n",
    "            self._tail._next = newest\n",
    "        self._tail = newest # create and link a new node \n",
    "        self._size += 1\n",
    "    \n",
    "    def first(self):\n",
    "        \"\"\"Return (but do not remove) the element at the first of the queue.\n",
    "        Raise Empty exception if the queue is empty. \"\"\"\n",
    "        if self.is_empty():\n",
    "            raise Empty( 'Queue is empty' )\n",
    "        return self._head._element  \n",
    "\n",
    "    def dequeue(self):\n",
    "        \"\"\"Remove and return the element from the first of the queue (i.e., FIFO).\n",
    "        Raise Empty exception if the queue is empty.\"\"\"\n",
    "        if self.is_empty():\n",
    "            raise Empty( 'queue is empty' )\n",
    "        answer = self._head._element  \n",
    "        self._head = self._head._next\n",
    "        self._size -= 1\n",
    "        return answer\n",
    "\n",
    "    def __str__(self):\n",
    "        cur_size = 0\n",
    "        if self.is_empty():\n",
    "            raise Empty( 'Queue is empty' )\n",
    "        else:\n",
    "            s = '' \n",
    "            head =  self._head\n",
    "            cur_size = self._size\n",
    "            while cur_size is not 0:\n",
    "                s += str(self._head._element)\n",
    "                self._head = self._head._next\n",
    "                cur_size -= 1\n",
    "            self._head = head\n",
    "            return s\n",
    "        \n",
    "LQ = LinkedQueue()\n",
    "for i in range(5): LQ.enqueue(i)\n",
    "print(LQ)    \n",
    "len(LQ)\n",
    "LQ.first()\n",
    "LQ.dequeue()\n",
    "LQ.dequeue()\n",
    "print(LQ)        "
   ]
  },
  {
   "cell_type": "code",
   "execution_count": 60,
   "id": "extreme-oxide",
   "metadata": {},
   "outputs": [
    {
     "name": "stdout",
     "output_type": "stream",
     "text": [
      "2221585\n",
      "2581522\n"
     ]
    }
   ],
   "source": [
    "#using linked queue\n",
    "def merge(S1, S2, S):\n",
    "    \"\"\"Merge two sorted Python lists S1 and S2 into properly sized list S.\"\"\" \n",
    "    while not S1.is_empty() and not S2.is_empty():\n",
    "        if S1.first()<S2.first():\n",
    "            S.enqueue(S1.dequeue())\n",
    "        else:\n",
    "            S.enqueue(S2.dequeue())\n",
    "    while not S1.is_empty():\n",
    "        S.enqueue(S1.dequeue()) \n",
    "    while not S2.is_empty():\n",
    "        S.enqueue(S2.dequeue())    \n",
    "\n",
    "def merge_sort(S):\n",
    "    \"\"\"Sort the elements of Python list S using the merge-sort algorithm.\"\"\" \n",
    "    n = len(S)\n",
    "    if n < 2:\n",
    "        return  # list is already sorted\n",
    "    # divide\n",
    "    mid = n // 2\n",
    "    S1 = LinkedQueue()  \n",
    "    S2 = LinkedQueue()\n",
    "    while len(S1)<n//2:\n",
    "        S1.enqueue(S.dequeue())\n",
    "    while not S.is_empty():\n",
    "        S2.enqueue(S.dequeue())\n",
    "    merge_sort(S1)    # sort copy of first half\n",
    "    merge_sort(S2)    # sort copy of second half\n",
    "    # merge results\n",
    "\n",
    "    merge(S1, S2, S)    # merge sorted halves back into S \n",
    "    return S\n",
    "\n",
    "    \n",
    "S=LinkedQueue() \n",
    "S.enqueue(2)\n",
    "S.enqueue(22)\n",
    "S.enqueue(15)\n",
    "S.enqueue(8)\n",
    "S.enqueue(5)\n",
    "print(S)\n",
    "#S=[2,5,8,15,22]\n",
    "\n",
    "\n",
    "print(merge_sort(S))\n",
    "\n",
    "   \n",
    "            "
   ]
  },
  {
   "cell_type": "code",
   "execution_count": 66,
   "id": "compact-plastic",
   "metadata": {},
   "outputs": [
    {
     "name": "stdout",
     "output_type": "stream",
     "text": [
      "[2, 5, 6, 22, 15, 8]\n"
     ]
    }
   ],
   "source": [
    "#array based non recursive bottom up\n",
    "import math\n",
    "def merge(src, result, start, inc):\n",
    "    \"\"\"Merge src[start:start+inc] and src[start+inc:start+2 inc] into result.\"\"\"\n",
    "    end1 = start+inc                             # boundary for run 1\n",
    "    end2 = min(start+2 * inc, len(src))            # boundary for run 2\n",
    "    x, y, z = start, start+inc, start            # index into run 1, run 2, result\n",
    "    while x < end1 and y < end2:\n",
    "        if src[x] < src[y]:\n",
    "            result[z] = src[x]; x += 1           # copy from run 1 and increment x\n",
    "        else:\n",
    "            result[z] = src[y]; y += 1           # copy from run 2 and increment y\n",
    "        z += 1     # increment z to reflect new result\n",
    "    if x < end1:\n",
    "        result[z:end2] = src[x:end1]               # copy remainder of run 1 to output\n",
    "    \n",
    "    elif y < end2:\n",
    "        result[z:end2] = src[y:end2]               # copy remainder of run 2 to output\n",
    "    \n",
    "def merge_sort(S):\n",
    "    \"\"\"Sort the elements of Python list S using the merge-sort algorithm.\"\"\"\n",
    "    n = len(S)\n",
    "    logn = math.ceil(math.log(n,2))\n",
    "    src, dest = S, [None] *  n\n",
    "    for i in (2 ** k for k in range(logn)):\n",
    "        for j in range(0, n, 2*i):\n",
    "            merge(src, dest, j, i)\n",
    "    src, dest = dest, src \n",
    "    if S is not src:\n",
    "        S[0:n] = src[0:n]\n",
    "    return S    \n",
    "\n",
    "S=[2,22,15,8,5,6] \n",
    "print(merge_sort(S))            "
   ]
  },
  {
   "cell_type": "code",
   "execution_count": 82,
   "id": "vocal-obligation",
   "metadata": {},
   "outputs": [
    {
     "name": "stdout",
     "output_type": "stream",
     "text": [
      "2221585\n",
      "2581522\n"
     ]
    }
   ],
   "source": [
    "def quick_sort(S):\n",
    "    \"\"\"Sort the elements of queue S using the quick-sort algorithm.\"\"\" \n",
    "    n = len(S)\n",
    "    if n < 2:\n",
    "        return\n",
    "    # divide\n",
    "    p = S.first( )\n",
    "    L = LinkedQueue()\n",
    "    E = LinkedQueue()\n",
    "    G = LinkedQueue() \n",
    "    while not S.is_empty():\n",
    "        if S.first( ) < p:\n",
    "            L.enqueue(S.dequeue( ))\n",
    "        elif p < S.first():\n",
    "            G.enqueue(S.dequeue( ))\n",
    "        else:\n",
    "            E.enqueue(S.dequeue( ))\n",
    "    # conquer (with recursion)\n",
    "    quick_sort(L)\n",
    "    quick_sort(G)\n",
    "    # concatenate results \n",
    "    while not L.is_empty():\n",
    "        S.enqueue(L.dequeue( )) \n",
    "    while not E.is_empty():\n",
    "        S.enqueue(E.dequeue( )) \n",
    "    while not G.is_empty():\n",
    "        S.enqueue(G.dequeue( ))\n",
    "    return S    \n",
    "        \n",
    "S=LinkedQueue() \n",
    "S.enqueue(2)\n",
    "S.enqueue(22)\n",
    "S.enqueue(15)\n",
    "S.enqueue(8)\n",
    "S.enqueue(5)\n",
    "print(S)\n",
    "#S=[2,5,8,15,22]\n",
    "\n",
    "\n",
    "print(quick_sort(S))        "
   ]
  },
  {
   "cell_type": "code",
   "execution_count": 88,
   "id": "steady-mainstream",
   "metadata": {},
   "outputs": [
    {
     "name": "stdout",
     "output_type": "stream",
     "text": [
      "[1, 2, 3, 5, 7, 8]\n"
     ]
    }
   ],
   "source": [
    "\n",
    "def inplace_quick_sort(S, a, b):\n",
    "    \"\"\"Sort the list from S[a] to S[b] inclusive using the quick-sort algorithm.\"\"\"\n",
    "    if a >= b:   # range is trivially sorted\n",
    "        return \n",
    "    pivot = S[b]    # last element of range is pivot\n",
    "    left = a     # will scan rightward\n",
    "    right = b-1   # will scan leftward\n",
    "    while left <= right:\n",
    "    # scan until reaching value equal or larger than pivot (or right marker)\n",
    "        while left <= right and S[left] < pivot: \n",
    "            left += 1\n",
    "        # scan until reaching value equal or smaller than pivot (or left marker)\n",
    "        while left <= right and pivot < S[right]: \n",
    "            right -= 1\n",
    "        if left <= right:    # scans did not strictly cross \n",
    "            S[left], S[right] = S[right], S[left] # swap values\n",
    "            left, right = left + 1, right - 1    # shrink range\n",
    "    \n",
    "    \n",
    "    # put pivot into its final place (currently marked by left index)\n",
    "    S[left], S[b] = S[b], S[left]\n",
    "    # make recursive calls\n",
    "    inplace_quick_sort(S, a, left - 1)\n",
    "    inplace_quick_sort(S, left + 1, b)\n",
    "    return S\n",
    "\n",
    "S = [3,5,7,2,8,1]\n",
    "a=0\n",
    "b=5\n",
    "print( inplace_quick_sort(S,a,b)) "
   ]
  },
  {
   "cell_type": "code",
   "execution_count": 89,
   "id": "strategic-journey",
   "metadata": {},
   "outputs": [
    {
     "name": "stdout",
     "output_type": "stream",
     "text": [
      "2\n"
     ]
    }
   ],
   "source": [
    "import random\n",
    "def quick_select(S, k):\n",
    "    \"\"\"Return the kth smallest element of list S, for k from 1 to len(S).\"\"\"\n",
    "    if len(S) == 1:\n",
    "        return S[0]\n",
    "    pivot = random.choice(S)\n",
    "    L = [x for x in S if x < pivot]\n",
    "    E = [x for x in S if x == pivot] \n",
    "    G = [x for x in S if pivot < x] \n",
    "    if k <= len(L):\n",
    "        return quick_select(L, k) \n",
    "    elif k <= len(L) + len(E):\n",
    "        return pivot\n",
    "    else:\n",
    "        j = k - len(L) - len(E)\n",
    "        return quick_select(G, j)\n",
    "\n",
    "S = [3,5,7,2]\n",
    "a=1\n",
    "\n",
    "print( quick_select(S,a))"
   ]
  },
  {
   "cell_type": "code",
   "execution_count": null,
   "id": "considered-nursery",
   "metadata": {},
   "outputs": [],
   "source": []
  }
 ],
 "metadata": {
  "kernelspec": {
   "display_name": "Python 3",
   "language": "python",
   "name": "python3"
  },
  "language_info": {
   "codemirror_mode": {
    "name": "ipython",
    "version": 3
   },
   "file_extension": ".py",
   "mimetype": "text/x-python",
   "name": "python",
   "nbconvert_exporter": "python",
   "pygments_lexer": "ipython3",
   "version": "3.7.4"
  }
 },
 "nbformat": 4,
 "nbformat_minor": 5
}
