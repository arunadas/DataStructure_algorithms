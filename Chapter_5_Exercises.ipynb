{
 "cells": [
  {
   "cell_type": "code",
   "execution_count": 158,
   "id": "southwest-hobby",
   "metadata": {},
   "outputs": [
    {
     "data": {
      "text/plain": [
       "4"
      ]
     },
     "execution_count": 158,
     "metadata": {},
     "output_type": "execute_result"
    }
   ],
   "source": [
    "import ctypes\n",
    "\n",
    "class DynamicArray:\n",
    "    \"\"\"A dynamic array class akin to a simplified Python list.\"\"\"\n",
    "    \n",
    "    def __init__(self):\n",
    "        \"\"\"Create an empty array.\"\"\"\n",
    "        self._n = 0      # count actual elements\n",
    "        self._capacity = 1  # default array capacity\n",
    "        self._A = self._make_array(self._capacity) # low-level array\n",
    "         \n",
    "    def __len__(self):\n",
    "        \"\"\"Return number of elements stored in the array.\"\"\"\n",
    "        return self._n\n",
    "    \n",
    "    def __getitem__(self, k):\n",
    "        \"\"\"Return element at index k.\"\"\"\n",
    "        if not 0<=k<self._n:\n",
    "            raise IndexError( 'invalid index' )\n",
    "        return self._A[k]\n",
    "    \n",
    "    def append(self, obj):\n",
    "        \"\"\"Add object to end of the array.\"\"\"\n",
    "        if self._n == self._capacity:\n",
    "            self._resize(2  * self._capacity)\n",
    "        self._A[self._n] = obj\n",
    "        self._n += 1\n",
    "    \n",
    "    def  _resize(self, c):\n",
    "        \"\"\"Resize internal array to capacity c.\"\"\"\n",
    "        B = self._make_array(c)\n",
    "        for k in range(self._n):\n",
    "            B[k] = self._A[k]\n",
    "        self._A = B\n",
    "        self._capacity = c\n",
    "        \n",
    "        \n",
    "    def insert(self, k, value):\n",
    "        \"\"\"Insert value at index k, shifting subsequent values rightward.\"\"\" # (for simplicity, we assume 0 <= k <= n in this verion)\n",
    "        if self._n == self._capacity:\n",
    "            self._resize(2 *  self._capacity)\n",
    "            for j in range(self._n, k, -1):\n",
    "                self._A[j] = self._A[j-1]\n",
    "                self._A[k] = value\n",
    "                self._n += 1\n",
    "                \n",
    "    def remove(self, value):\n",
    "        \"\"\"Remove first occurrence of value (or raise ValueError).\"\"\"\n",
    "         # note: we do not consider shrinking the dynamic array in this version\n",
    "        for k in range(self._n):\n",
    "            if self._A[k] == value:     # found a match!\n",
    "                for j in range(k, self._n - 1):  # shift others to fill gap\n",
    "                    self._A[j] = self._A[j+1]\n",
    "                self._A[self._n - 1] = None # help garbage collection \n",
    "                self._n -= 1  # we have one less item\n",
    "                return                   # exit immediately\n",
    "        raise ValueError( 'value not found' ) # only reached if no match\n",
    "   \n",
    "    \n",
    "    def _make_array(self, c):\n",
    "        \"\"\"Return new array with capacity c.\"\"\"\n",
    "        return (c *  ctypes.py_object)( )\n",
    "    \n",
    "da = DynamicArray()    \n",
    "da.insert(0,1)\n",
    "da.append(2)\n",
    "da.append(4)\n",
    "da.__getitem__(1)\n",
    "#print(da)"
   ]
  },
  {
   "cell_type": "code",
   "execution_count": 25,
   "id": "rubber-ghost",
   "metadata": {},
   "outputs": [
    {
     "name": "stdout",
     "output_type": "stream",
     "text": [
      "Aruna 87\n"
     ]
    }
   ],
   "source": [
    "class GameEntry:\n",
    "    \"\"\"Represents one entry of a list of high scores.\"\"\"\n",
    "    def  __init__ (self, name, score):\n",
    "        self._name = name\n",
    "        self._score = score\n",
    "    \n",
    "    def get_name(self):\n",
    "        return self._name\n",
    "    \n",
    "    def get_score(self):\n",
    "        return self._score\n",
    "    \n",
    "    def __str__ (self):\n",
    "        return '({0}, {1})' .format(self._name, self._score)\n",
    "    \n",
    "print('Aruna', 87)    "
   ]
  },
  {
   "cell_type": "code",
   "execution_count": 80,
   "id": "productive-louisiana",
   "metadata": {},
   "outputs": [
    {
     "name": "stdout",
     "output_type": "stream",
     "text": [
      "(pau, 95)\n",
      "(paul, 89)\n",
      "(ar, 78)\n"
     ]
    }
   ],
   "source": [
    "class Scoreboard:\n",
    "    \"\"\"Fixed-length sequence of high scores in nondecreasing order.\"\"\"\n",
    "    def   __init__(self, capacity=3):\n",
    "        \"\"\"Initialize scoreboard with given maximum capacity.\n",
    "        All entries are initially None.\n",
    "        \"\"\"\n",
    "        self._board = [None] * capacity  # reserve space for future scores\n",
    "        self._n = 0  # number of actual entries\n",
    "    def  __getitem__(self, k): \n",
    "        \"\"\"Return entry at index k.\"\"\" \n",
    "        return self._board[k]\n",
    " \n",
    "    def __str__ (self):\n",
    "        \"\"\"Return string representation of the high score list.\"\"\"\n",
    "        return '\\n'.join(str(self._board[j]) for j in range(self._n))\n",
    "\n",
    "    def add(self, entry:GameEntry):\n",
    "\n",
    "        \"\"\"Consider adding entry to high scores.\"\"\" \n",
    "        score = entry.get_score()\n",
    "\n",
    "        # Does new entry qualify as a high score?\n",
    "        # answer is yes if board not full or score is higher than last entry\n",
    "\n",
    "        good = self._n < len(self._board) or score > self._board[-1].get_score()\n",
    "        if good:\n",
    "            if self._n < len(self._board): # no score drops from list\n",
    "                self._n += 1               # so overall number increases\n",
    "        # shift lower scores rightward to make room for new entry\n",
    "            j=self._n-1\n",
    "            while j > 0 and self._board[j-1].get_score() < score:\n",
    "                self._board[j] = self._board[j-1]\n",
    "                j -= 1\n",
    "            self._board[j] = entry\n",
    "\n",
    "#score = [('paul',89),('pa',98),('ul',59)] \n",
    "# for name,score in score:\n",
    "#     print(g(name,score))\n",
    "\n",
    "s= Scoreboard()\n",
    "s.add(GameEntry('paul',89))\n",
    "s.add(GameEntry('pa',76))\n",
    "s.add(GameEntry('pau',95))\n",
    "s.add(GameEntry('ar',75))\n",
    "s.add(GameEntry('ar',78))\n",
    "print(s)"
   ]
  },
  {
   "cell_type": "code",
   "execution_count": 58,
   "id": "changing-disorder",
   "metadata": {},
   "outputs": [
    {
     "name": "stdout",
     "output_type": "stream",
     "text": [
      "[1, 2, 3, 4, 5, 6]\n"
     ]
    }
   ],
   "source": [
    "def insertion_sort(A):\n",
    "    \"\"\"Sort list of comparable elements into nondecreasing order.\"\"\"\n",
    "    for k in range(1, len(A)):  # from 1 to n-1\n",
    "        cur = A[k]    # current element to be inserted\n",
    "        j=k              # find correct index j for current\n",
    "        while j > 0 and A[j-1] > cur: # element A[j-1] must be after current\n",
    "            A[j] = A[j-1]\n",
    "            j -= 1\n",
    "            A[j] = cur  # cur is now in the right place\n",
    "\n",
    "    return A\n",
    "\n",
    "\n",
    "A=[3,5,6,2,4,1]\n",
    "print(insertion_sort(A))\n"
   ]
  },
  {
   "cell_type": "code",
   "execution_count": 81,
   "id": "focused-remains",
   "metadata": {},
   "outputs": [
    {
     "name": "stdout",
     "output_type": "stream",
     "text": [
      "Secret:  WKH HDJOH LV LQ SODB; PHHW DW MRH V.\n",
      "Message:  THE EAGLE IS IN PLAY; MEET AT JOE S.\n"
     ]
    }
   ],
   "source": [
    "class CaesarCipher:\n",
    "    \"\"\"Class for doing encryption and decryption using a Caesar cipher.\"\"\"\n",
    "    def  __init__(self, shift):\n",
    "        \"\"\"Construct Caesar cipher using given integer shift for rotation.\"\"\"\n",
    "        encoder = [None] *  26 # temp array for encryption\n",
    "        decoder = [None] *  26 # temp array for decryption \n",
    "        for k in range(26):\n",
    "            encoder[k] = chr((k + shift) % 26 + ord( 'A' ))\n",
    "            decoder[k] = chr((k - shift) % 26 + ord( 'A' ))\n",
    "        self._forward = ''.join(encoder) # will store as string \n",
    "        self._backward =  ''.join(decoder) # since fixed\n",
    "\n",
    "    def encrypt(self, message):\n",
    "        \"\"\"Return string representing encripted message.\"\"\"\n",
    "        return self._transform(message, self._forward)\n",
    "\n",
    "    def decrypt(self, secret):\n",
    "        \"\"\"Return decrypted message given encrypted secret.\"\"\"\n",
    "        return self._transform(secret, self._backward)\n",
    "\n",
    "    def  _transform(self, original, code):\n",
    "        \"\"\"Utility to perform transformation based on given code string.\"\"\"\n",
    "        msg = list(original)\n",
    "        for k in range(len(msg)):\n",
    "            if msg[k].isupper():\n",
    "                j=ord(msg[k])-ord( 'A' )  #indexfrom0to25\n",
    "                msg[k] = code[j]   # replace this character\n",
    "        return ''.join(msg)\n",
    "\n",
    "\n",
    "cipher = CaesarCipher(3)\n",
    "message = \"THE EAGLE IS IN PLAY; MEET AT JOE S.\"\n",
    "coded = cipher.encrypt(message)\n",
    "print( 'Secret: ' , coded)\n",
    "answer = cipher.decrypt(coded)\n",
    "print( 'Message: ', answer)"
   ]
  },
  {
   "cell_type": "code",
   "execution_count": 117,
   "id": "graphic-madness",
   "metadata": {},
   "outputs": [],
   "source": [
    "class TicTacToe:\n",
    "    \"\"\"Management of a Tic-Tac-Toe game (does not do strategy).\"\"\"\n",
    "    def __init__ (self):\n",
    "        \"\"\"Start a new game.\"\"\"\n",
    "        self._board=[[' '] * 3 for j in range(3)]\n",
    "        self._player = 'X'\n",
    "    \n",
    "    def mark(self, i, j):\n",
    "        \"\"\"Put an X or O mark at position (i,j) for next player s turn.\"\"\"\n",
    "        if not (0 <= i <= 2 and 0 <= j <= 2):\n",
    "            raise ValueError( 'Invalid board position' )\n",
    "        if self._board[i][j] != ' ':\n",
    "            raise ValueError( 'Board position occupied' )\n",
    "        if self.winner() is not None:\n",
    "            raise ValueError( 'Game is already complete' )\n",
    "        self._board[i][j] = self._player\n",
    "        if self._player == 'X' :\n",
    "            self._player = 'O' \n",
    "        else:\n",
    "            self._player = 'X'\n",
    "            \n",
    "    def _is_win(self, mark):\n",
    "        \"\"\"Check whether the board configuration is a win for the given player.\"\"\"\n",
    "        board = self._board # local variable for shorthand\n",
    "        return (mark == board[0][0] == board[0][1] == board[0][2] or\n",
    "                          mark == board[1][0] == board[1][1] == board[1][2] or\n",
    "                          mark == board[2][0] == board[2][1] == board[2][2] or\n",
    "                          mark == board[0][0] == board[1][0] == board[2][0] or\n",
    "                          mark == board[0][1] == board[1][1] == board[2][1] or\n",
    "                          mark == board[0][2] == board[1][2] == board[2][2] or\n",
    "                          mark == board[0][0] == board[1][1] == board[2][2] or\n",
    "                          mark == board[0][2] == board[1][1] == board[2][0])   \n",
    "\n",
    "    def winner(self):\n",
    "        \"\"\"Return mark of winning player, or None to indicate a tie.\"\"\"\n",
    "        for mark in  'XO':\n",
    "            if self._is_win(mark):\n",
    "                return mark\n",
    "        return None\n",
    "\n",
    "\n",
    "    def __str__ (self):\n",
    "        \"\"\"Return string representation of current game board.\"\"\"\n",
    "        rows = ['|'.join(self._board[r]) for r in range(3)]\n",
    "        return '\\n-----\\n'.join(rows)"
   ]
  },
  {
   "cell_type": "code",
   "execution_count": 118,
   "id": "younger-guest",
   "metadata": {},
   "outputs": [
    {
     "name": "stdout",
     "output_type": "stream",
     "text": [
      "O|X|O\n",
      "-----\n",
      "O|X|X\n",
      "-----\n",
      "X|O|X\n",
      "Tie\n"
     ]
    }
   ],
   "source": [
    "game = TicTacToe()\n",
    "# X moves:         # O moves:          \n",
    "game.mark(1, 1); game.mark(0, 2)\n",
    "game.mark(2, 2); game.mark(0, 0)\n",
    "game.mark(0, 1); game.mark(2, 1)\n",
    "game.mark(1, 2); game.mark(1, 0)\n",
    "game.mark(2, 0)\n",
    "\n",
    "\n",
    "print(game)\n",
    "winner = game.winner()\n",
    "if winner is None:\n",
    "    print( 'Tie' ) \n",
    "else:\n",
    "    print(winner, 'wins' )"
   ]
  },
  {
   "cell_type": "code",
   "execution_count": 10,
   "id": "amazing-federal",
   "metadata": {},
   "outputs": [
    {
     "name": "stdout",
     "output_type": "stream",
     "text": [
      "Length:   0; size of bytes:   72\n",
      "Length:   1; size of bytes:  104\n",
      "Length:   2; size of bytes:  104\n",
      "Length:   3; size of bytes:  104\n",
      "Length:   4; size of bytes:  104\n",
      "Length:   5; size of bytes:  136\n",
      "Length:   6; size of bytes:  136\n",
      "Length:   7; size of bytes:  136\n",
      "Length:   8; size of bytes:  136\n",
      "Length:   9; size of bytes:  200\n",
      "[None, None, None, None, None, None, None, None, None, None]\n"
     ]
    }
   ],
   "source": [
    "#---------R- 5.1------------\n",
    "\n",
    "import sys\n",
    "data = []\n",
    "for k in range(10):\n",
    "    a = len(data)\n",
    "    b = sys.getsizeof(data)\n",
    "    print('Length: {0:3d}; size of bytes: {1:4d}'.format(a,b))\n",
    "    data.append(None)\n",
    "    \n",
    "print(data)    "
   ]
  },
  {
   "cell_type": "code",
   "execution_count": 124,
   "id": "sapphire-electricity",
   "metadata": {},
   "outputs": [
    {
     "name": "stdout",
     "output_type": "stream",
     "text": [
      "0,1,5,9,17,26,36,47,59,73,89,107,127,149,174,202,234,270,310,355,406,463,527,599,680,772,875,991,1121,1268,1433,1619,1828,2063,2327,2624,2959,3335,3758,4234,4770,5373,6051,6814,7672,8638,9724,"
     ]
    }
   ],
   "source": [
    "#---------R- 5.1------------\n",
    "\n",
    "import sys\n",
    "def array_jump(n):\n",
    "    data = []\n",
    "    size_old = 0\n",
    "    for k in range(10000):\n",
    "        size = sys.getsizeof(data)\n",
    "        if size != size_old:\n",
    "            print(len(data), end= ',')\n",
    "        size_old = size\n",
    "        data.append(None)\n",
    "    \n",
    "array_jump(1000)"
   ]
  },
  {
   "cell_type": "code",
   "execution_count": 129,
   "id": "knowing-occupation",
   "metadata": {},
   "outputs": [
    {
     "name": "stdout",
     "output_type": "stream",
     "text": [
      "9 200\t\t\n",
      "8 200\t\t\n",
      "7 152\t\tSize decreased from: 200 152\n",
      "6 152\t\t\n",
      "5 152\t\t\n",
      "4 128\t\tSize decreased from: 152 128\n"
     ]
    }
   ],
   "source": [
    "#---------R- 5.3------------\n",
    "\n",
    "import sys\n",
    "\n",
    "\n",
    "def array_grow_shrink(n, lower_limit = 0.4):\n",
    "    data = []\n",
    "    size_old = 0\n",
    "    current_limit = 10\n",
    "    for i in range(n):\n",
    "        if i == current_limit:\n",
    "            while len(data)> current_limit*lower_limit:\n",
    "                data.pop()\n",
    "                size = sys.getsizeof(data)\n",
    "                print(len(data), size, end = '\\t\\t')\n",
    "                if size<size_old:\n",
    "                    print ('Size decreased from:', size_old, size)\n",
    "                else: print(\"\")\n",
    "                size_old = size\n",
    "            current_limit *= 10\n",
    "        data.append(None)\n",
    "        \n",
    "        \n",
    "array_grow_shrink(100)"
   ]
  },
  {
   "cell_type": "code",
   "execution_count": 207,
   "id": "trained-controversy",
   "metadata": {},
   "outputs": [
    {
     "data": {
      "text/plain": [
       "2"
      ]
     },
     "execution_count": 207,
     "metadata": {},
     "output_type": "execute_result"
    }
   ],
   "source": [
    "#---------R- 5.4------------\n",
    "\n",
    "class DynamicArray2(DynamicArray):\n",
    "    def __getitem__(self, k):\n",
    "        \"\"\"Return element at index k.\"\"\"\n",
    "        if k < 0:\n",
    "            j = abs(k)\n",
    "            if not 0<=j<=self._n:\n",
    "                raise IndexError( 'invalid index' )\n",
    "            else:\n",
    "                return self._A[self._n-j]\n",
    "        return self._A[k]\n",
    "    \n",
    "da = DynamicArray2()    \n",
    "da.insert(0,1)\n",
    "da.append(2)\n",
    "da.append(4)\n",
    "da.append(6)\n",
    "\n",
    "da[-3] \n"
   ]
  },
  {
   "cell_type": "code",
   "execution_count": 196,
   "id": "eleven-pottery",
   "metadata": {},
   "outputs": [
    {
     "data": {
      "text/plain": [
       "'\\nIf the cost of growing an array from size k to size 2K is 3k cyber dollars, we  know that we need \\nto accumulate at least 3K cyber dollars during the preceding appends\\n\\nFor an array of length k, half are filled in so we only actually have k/2 insertions from which to \\nget a surplus of 3K.  That means we need (k/2)*(dollars per operation) = 3K or\\ndollars per operation = 6.  That means that we need to overcharge by exactly 6 cyber-dollars for each\\noperation\\n\\nNote that since 6 is a constant, is still means that we have amortized the cost to be O(1) for an insertion\\n\\nIf our value was 6k or something like that, it would grow linearly with n, giving us O(n) overall\\n\\n\\n'"
      ]
     },
     "execution_count": 196,
     "metadata": {},
     "output_type": "execute_result"
    }
   ],
   "source": [
    "#-------------R5-5----------------------\n",
    "\"\"\"\n",
    "If the cost of growing an array from size k to size 2K is 3k cyber dollars, we  know that we need \n",
    "to accumulate at least 3K cyber dollars during the preceding appends\n",
    "\n",
    "For an array of length k, half are filled in so we only actually have k/2 insertions from which to \n",
    "get a surplus of 3K.  That means we need (k/2)*(dollars per operation) = 3K or\n",
    "dollars per operation = 6.  That means that we need to overcharge by exactly 6 cyber-dollars for each\n",
    "operation\n",
    "\n",
    "Note that since 6 is a constant, is still means that we have amortized the cost to be O(1) for an insertion\n",
    "\n",
    "If our value was 6k or something like that, it would grow linearly with n, giving us O(n) overall\n",
    "\n",
    "\n",
    "\"\"\""
   ]
  },
  {
   "cell_type": "code",
   "execution_count": 222,
   "id": "supreme-feeling",
   "metadata": {},
   "outputs": [
    {
     "name": "stdout",
     "output_type": "stream",
     "text": [
      "4\n"
     ]
    },
    {
     "data": {
      "text/plain": [
       "1"
      ]
     },
     "execution_count": 222,
     "metadata": {},
     "output_type": "execute_result"
    }
   ],
   "source": [
    "#---------R- 5.6------------\n",
    "\n",
    "class DynamicArray3(DynamicArray):\n",
    "    def _insert_resize(self, c, k):\n",
    "        #Don't add anything here, just leave a space for the future insertion\n",
    "        B = self._make_array(c)\n",
    "        for i in range(self._n):\n",
    "            if i<k: B[i] = self._A[i]\n",
    "            else: B[i+1] = self._A[i]\n",
    "        self._A = B\n",
    "        self._capacity = c\n",
    "        \n",
    "    def insert2(self, k, value):\n",
    "        if self._n == self._capacity:\n",
    "            self._insert_resize(2 *  self._capacity,k)\n",
    "        else:\n",
    "            for j in range(self._n, k, -1):\n",
    "                self._A[j] = self._A[j-1]\n",
    "        self._A[k] = value\n",
    "        self._n += 1\n",
    "                           \n",
    "                \n",
    "                \n",
    "da = DynamicArray3()    \n",
    "\n",
    "da.append(2)  \n",
    "da.append(3) \n",
    "da.append(5)\n",
    "da.insert2(2,1)\n",
    "print(da._n)\n",
    "da[2]"
   ]
  },
  {
   "cell_type": "code",
   "execution_count": null,
   "id": "pediatric-chemistry",
   "metadata": {},
   "outputs": [],
   "source": [
    "#---------R- 5.7------------\n",
    "def repeated(A):\n",
    "    B = sorted(A)\n",
    "    for i in range(len(B)-1):\n",
    "        if B[i] == B[i+1]:\n",
    "            return B[i]\n",
    "    return False\n",
    "\n",
    "\n",
    "repeated([2,3,4,1,2])  \n",
    "#repeated([2,3,4,1]) "
   ]
  },
  {
   "cell_type": "code",
   "execution_count": 1,
   "id": "competitive-child",
   "metadata": {},
   "outputs": [
    {
     "name": "stderr",
     "output_type": "stream",
     "text": [
      "No handles with labels found to put in legend.\n"
     ]
    },
    {
     "data": {
      "image/png": "[encoded data removed]",
      "text/plain": [
       "<Figure size 432x288 with 1 Axes>"
      ]
     },
     "metadata": {
      "needs_background": "light"
     },
     "output_type": "display_data"
    },
    {
     "name": "stdout",
     "output_type": "stream",
     "text": [
      "       100       1000      10000     100000\n",
      "0.0  0.000039  0.000048  0.000112  0.001135\n",
      "0.5  0.000040  0.000052  0.000091  0.000582\n",
      "1.0  0.000038  0.000045  0.000040  0.000037\n"
     ]
    }
   ],
   "source": [
    "#---------------R5-8----------------------\n",
    "import time\n",
    "import pandas as pd\n",
    "import matplotlib.pyplot as plt\n",
    "\n",
    "def time_pops(test_array):\n",
    "    results = pd.DataFrame()\n",
    "    \n",
    "    for test_len in test_array:\n",
    "        \n",
    "        for position in [0, 0.5, 1]:\n",
    "            start = time.time()\n",
    "            for _ in range (100): #Lower this to speed up the program, although the numbers may be too small to see\n",
    "                data = [None]*test_len\n",
    "                while len(data)>1: #stop a bit early to avoid a negative index\n",
    "                    data.pop(int((len(data)-1)*position))\n",
    "            end = time.time()\n",
    "            \n",
    "            results.loc[position, test_len] = (end-start)/test_len\n",
    "    return results\n",
    "    \n",
    "    \n",
    "    \n",
    "\n",
    "    \n",
    "test_array = [10**i for i in range(2, 6)]\n",
    "results = time_pops(test_array)\n",
    "\n",
    "for i in range(len(results)):\n",
    "    plt.plot(results.iloc[i])\n",
    "\n",
    "plt.legend()\n",
    "plt.show()\n",
    "\n",
    "\n",
    "print(results)\n"
   ]
  },
  {
   "cell_type": "code",
   "execution_count": 2,
   "id": "revolutionary-sympathy",
   "metadata": {},
   "outputs": [
    {
     "name": "stdout",
     "output_type": "stream",
     "text": [
      "Cyrillic:  [769, 769, 1024, 1025, 1026, 1027, 1028, 1029, 1030, 1031, 1032, 1033, 1034, 1035, 1036, 1037, 1038, 1039, 1040, 1041, 1042, 1043, 1044, 1045, 1046, 1047, 1047, 1048, 1049, 1050, 1051, 1052, 1053, 1054, 1055, 1056, 1057, 1057, 1058, 1059, 1060, 1061, 1062, 1063, 1064, 1065, 1066, 1067, 1068, 1069, 1070, 1071, 1168]\n",
      "\n",
      "Greek: [913, 914, 915, 916, 917, 918, 919, 920, 921, 922, 923, 924, 925, 926, 927, 928, 929, 931, 932, 933, 934, 935, 936, 937, 945, 946, 947, 948, 949, 950, 951, 952, 953, 954, 955, 956, 957, 958, 959, 960, 961, 962, 963, 964, 965, 966, 967, 968, 969]\n",
      "\n",
      "English Cipher\n",
      "Secret:  WKH HDJOH LV LQ SODB; PHHW DW MRH'V\n",
      "Answer:  THE EAGLE IS IN PLAY; MEET AT JOE'S\n",
      "\n",
      "\n",
      "Greek Cipher\n",
      "Secret:  σξλμίω θκμΗµμΒψξΒφω μπΑπΒΗ µφτ Βξτ ΑΒμκξτ\n",
      "Answer:  μηδείς αγεωµετρητος εισιτω µον την στεγην\n"
     ]
    }
   ],
   "source": [
    "#----------------R5-9-----------------------\n",
    "\"\"\"\n",
    "For the Caesar cipher to be used in a language like Russian\n",
    "\n",
    "Cyrillic: АБВГҐДЂЃЕЀЁЄЖЗЗ́ЅИЍІЇЙЈКЛЉМНЊОПРСС́ТЋЌУЎФХЦЧЏШЩЪЫЬЭЮЯ\n",
    "\n",
    "Greek:  ΑαΒβΓγΔδΕεΖζΗηΘθΙιΚκΛλΜμΝνΞξΟοΠπΡρΣσςΤτΥυΦφΧχΨψΩω\n",
    "\n",
    "The easiest way for these languages is just to change every instance of 26 to the length of the language and then add\n",
    "ord([first letter]) to the alphabet.  Both cyrillic and greek seem to have the majority of their characters in a contiguous\n",
    "block of characters, but if the few extra characters in cyrillic were important.\n",
    "\n",
    "A more generalized solution (below) might be better to use a dictionary \n",
    "to look up the values rather than use math and ord/chr to figure it out.\n",
    "\n",
    "Note that other languages use accents, which makes it much more complicated.  We have just\n",
    "stuck to the base characters here\n",
    "\"\"\"\n",
    "\n",
    "\n",
    "cyrillic = list(map(ord, 'АБВГҐДЂЃЕЀЁЄЖЗЗ́ЅИЍІЇЙЈКЛЉМНЊОПРСС́ТЋЌУЎФХЦЧЏШЩЪЫЬЭЮЯ'))\n",
    "greek = list(map(ord, 'ΑαΒβΓγΔδΕεΖζΗηΘθΙιΚκΛλΜμΝνΞξΟοΠπΡρΣσςΤτΥυΦφΧχΨψΩω'))\n",
    "print('Cyrillic: ', sorted(cyrillic), end='\\n\\n')\n",
    "print('Greek:', sorted(greek), end='\\n\\n')\n",
    "\n",
    "class CaesarCipherDic():\n",
    "      \n",
    "    def __init__(self, shift, language = 'ABCDEFGHIJKLMNOPQRSTUVWXYZ'):\n",
    "        ll = sorted(list(language)) #ll = language_list\n",
    "        lang_len = len(ll)\n",
    "        self._encoder = {}\n",
    "        self._decoder = {}\n",
    "        for i in range(lang_len):\n",
    "            self._encoder[ll[i]] = ll[(i+shift)%lang_len]\n",
    "            self._decoder[ll[i]] = ll[(i-shift)%lang_len]\n",
    "        \n",
    "        \n",
    "    def encrypt(self, message):\n",
    "        return self._transform(message, self._encoder)\n",
    "    \n",
    "    def decrypt(self, message):\n",
    "        return self._transform(message, self._decoder)\n",
    "    \n",
    "    def _transform(self, original, code):\n",
    "        msg = list(original)\n",
    "        for k in range(len(msg)):\n",
    "            if msg[k] in code:  #This is an O(1) check because code is a dictionary\n",
    "                msg[k] = code[msg[k]]\n",
    "        return ''.join(msg)\n",
    "    \n",
    "print('English Cipher')\n",
    "cipher = CaesarCipherDic(3)\n",
    "message = \"THE EAGLE IS IN PLAY; MEET AT JOE'S\"\n",
    "coded = cipher.encrypt(message)\n",
    "print('Secret: ', coded)\n",
    "answer = cipher.decrypt(coded)\n",
    "print('Answer: ', answer)\n",
    "\n",
    "print('\\n\\nGreek Cipher')\n",
    "cipher_greek = CaesarCipherDic(7, language = 'ΑαΒβΓγΔδΕεΖζΗηΘθΙιΚκΛλΜμΝνΞξΟοΠπΡρΣσςΤτΥυΦφΧχΨψΩω')\n",
    "message = \"μηδείς αγεωµετρητος εισιτω µον την στεγην\"\n",
    "coded = cipher_greek.encrypt(message)\n",
    "print('Secret: ', coded)\n",
    "answer = cipher_greek.decrypt(coded)\n",
    "print('Answer: ', answer)"
   ]
  },
  {
   "cell_type": "code",
   "execution_count": 3,
   "id": "korean-klein",
   "metadata": {},
   "outputs": [
    {
     "name": "stdout",
     "output_type": "stream",
     "text": [
      "Secret:  WKH HDJOH LV LQ SODB; PHHW DW MRH'V\n",
      "Answer:  THE EAGLE IS IN PLAY; MEET AT JOE'S\n"
     ]
    }
   ],
   "source": [
    "#-------------R5-10----------------------\n",
    "class CaesarCipher():\n",
    "      \n",
    "    def __init__(self, shift):\n",
    "        self._forward = ''.join(chr((k+shift)%26 + ord('A')) for k in range(26)) \n",
    "        self._backward = ''.join(chr((k-shift)%26 + ord('A')) for k in range(26)) \n",
    "        \n",
    "        \n",
    "    def encrypt(self, message):\n",
    "        return self._transform(message, self._forward)\n",
    "    \n",
    "    def decrypt(self, message):\n",
    "        return self._transform(message, self._backward)\n",
    "    \n",
    "    def _transform(self, original, code):\n",
    "        msg = list(original)\n",
    "        for k in range(len(msg)):\n",
    "            if msg[k].isupper():\n",
    "                j = ord(msg[k]) - ord('A')\n",
    "                msg[k] = code[j]\n",
    "        return ''.join(msg)\n",
    "    \n",
    "\n",
    "cipher = CaesarCipher(3)\n",
    "message = \"THE EAGLE IS IN PLAY; MEET AT JOE'S\"\n",
    "coded = cipher.encrypt(message)\n",
    "print('Secret: ', coded)\n",
    "answer = cipher.decrypt(coded)\n",
    "print('Answer: ', answer)"
   ]
  },
  {
   "cell_type": "code",
   "execution_count": 16,
   "id": "complicated-sacrifice",
   "metadata": {},
   "outputs": [
    {
     "name": "stdout",
     "output_type": "stream",
     "text": [
      "3\n",
      "5050\n"
     ]
    }
   ],
   "source": [
    "#-------------R5-11----------------------\n",
    "def addition_nxn(data):\n",
    "    sum = 0\n",
    "    for i in range(len(data)):\n",
    "        for j in range(len(data)):\n",
    "            sum += data[i][j]\n",
    "    return sum\n",
    "\n",
    "c=2\n",
    "r=2\n",
    "data = [[0]*c for j in range(r)]\n",
    "data[0][1]=1\n",
    "data[1][1]=2\n",
    "print(addition_nxn(data))\n",
    "\n",
    "#Create a list from 1 to 100, which should have the sum (101)(100)/2 = 5050\n",
    "list_of_lists = [list(range(i, i+10)) for i in range(1,100, 10)] \n",
    "#[[1, 2], [3, 4], [5, 6], [7, 8], [9, 10]]\n",
    "#print(addition_nxn(list_of_lists))\n",
    "print(addition_nxn(list_of_lists))"
   ]
  },
  {
   "cell_type": "code",
   "execution_count": 24,
   "id": "square-threshold",
   "metadata": {},
   "outputs": [
    {
     "name": "stdout",
     "output_type": "stream",
     "text": [
      "3\n"
     ]
    }
   ],
   "source": [
    "#-------------R5-12----------------------\n",
    "def addition_nxn2(data):\n",
    "    return (sum(data[i][j]) for i in range(len(data)) for j in range(len(data)))\n",
    "\n",
    "def sum_2d_w_sum(array):\n",
    "    return sum([sum(i) for i in array])\n",
    "\n",
    "c=2\n",
    "r=2\n",
    "data = [[0]*c for j in range(r)]\n",
    "data[0][1]=1\n",
    "data[1][1]=2\n",
    "print(sum_2d_w_sum(data))"
   ]
  }
 ],
 "metadata": {
  "kernelspec": {
   "display_name": "Python 3",
   "language": "python",
   "name": "python3"
  },
  "language_info": {
   "codemirror_mode": {
    "name": "ipython",
    "version": 3
   },
   "file_extension": ".py",
   "mimetype": "text/x-python",
   "name": "python",
   "nbconvert_exporter": "python",
   "pygments_lexer": "ipython3",
   "version": "3.7.4"
  }
 },
 "nbformat": 4,
 "nbformat_minor": 5
}
