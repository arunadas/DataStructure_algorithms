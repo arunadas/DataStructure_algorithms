{
 "cells": [
  {
   "cell_type": "code",
   "execution_count": 18,
   "id": "automated-invalid",
   "metadata": {},
   "outputs": [
    {
     "name": "stdout",
     "output_type": "stream",
     "text": [
      "120\n"
     ]
    }
   ],
   "source": [
    "def factorial(n):\n",
    "    if n==0:\n",
    "        return 1\n",
    "    else:\n",
    "        return n*factorial(n-1)\n",
    "\n",
    "print(factorial(5))\n",
    "        \n",
    "    "
   ]
  },
  {
   "cell_type": "code",
   "execution_count": 31,
   "id": "higher-poetry",
   "metadata": {},
   "outputs": [
    {
     "name": "stdout",
     "output_type": "stream",
     "text": [
      "----0\n",
      "-\n",
      "--\n",
      "-\n",
      "---\n",
      "-\n",
      "--\n",
      "-\n",
      "----1\n",
      "-\n",
      "--\n",
      "-\n",
      "---\n",
      "-\n",
      "--\n",
      "-\n",
      "----2\n",
      "-\n",
      "--\n",
      "-\n",
      "---\n",
      "-\n",
      "--\n",
      "-\n",
      "----3\n",
      "None\n"
     ]
    }
   ],
   "source": [
    "def draw_line(tick_length, tick_label= ''):\n",
    "    \"\"\"Draw one line with given tick_length (followed by optional label).\"\"\"\n",
    "    line = '-' *tick_length\n",
    "    if tick_label:\n",
    "        line += ''+tick_label\n",
    "    print(line)\n",
    "\n",
    "    \n",
    "def draw_interval(center_length):\n",
    "    \"\"\"Draw tick interval based upon a central tick length.\"\"\"\n",
    "    if center_length > 0:\n",
    "        draw_interval(center_length - 1)\n",
    "        draw_line(center_length)\n",
    "        draw_interval(center_length - 1)\n",
    "\n",
    "def draw_ruler(num_inches, major_length):\n",
    "    \"\"\"Draw English ruler with given number of inches, major tick length.\"\"\"\n",
    "    draw_line(major_length, '0' )\n",
    "    for j in range(1, 1 + num_inches):\n",
    "        draw_interval(major_length - 1)\n",
    "        draw_line(major_length, str(j))\n",
    "        \n",
    "print(draw_ruler(3,4))    "
   ]
  },
  {
   "cell_type": "code",
   "execution_count": 34,
   "id": "killing-charleston",
   "metadata": {},
   "outputs": [
    {
     "name": "stdout",
     "output_type": "stream",
     "text": [
      "True\n"
     ]
    }
   ],
   "source": [
    "def binary_search(data,target,low,high):\n",
    "    if low > high :\n",
    "        return False\n",
    "    mid = (low+high)//2\n",
    "    if target == data[mid]:\n",
    "        return True\n",
    "    elif target < data[mid]:\n",
    "        return binary_search(data,target,low,mid-1)\n",
    "    else:\n",
    "        return binary_search(data,target,mid+1,high)\n",
    "\n",
    "data = [2,4,5,7,8,9,12,14,17,19,22,25,27,28,33,37]        \n",
    "print(binary_search(data,22,0,len(data)))      "
   ]
  },
  {
   "cell_type": "code",
   "execution_count": 36,
   "id": "visible-protest",
   "metadata": {},
   "outputs": [
    {
     "name": "stdout",
     "output_type": "stream",
     "text": [
      "15\n"
     ]
    }
   ],
   "source": [
    "def linear_sum(seq,n):\n",
    "    if n==0:\n",
    "        return 0\n",
    "    else:\n",
    "        return linear_sum(seq,n-1) + seq[n-1]\n",
    "\n",
    "seq=[1,2,3,4,5]    \n",
    "print(linear_sum(seq,5))    "
   ]
  },
  {
   "cell_type": "code",
   "execution_count": 39,
   "id": "three-member",
   "metadata": {},
   "outputs": [
    {
     "name": "stdout",
     "output_type": "stream",
     "text": [
      "[5, 4, 3, 2, 1]\n"
     ]
    }
   ],
   "source": [
    "def reverse(seq,start,stop):\n",
    "    if start < stop -1:\n",
    "        seq[start] , seq[stop-1] = seq[stop-1],seq[start]\n",
    "        reverse(seq,start+1,stop-1)\n",
    "    return seq  \n",
    "\n",
    "seq=[1,2,3,4,5]\n",
    "print(reverse(seq,0,len(seq)))"
   ]
  },
  {
   "cell_type": "code",
   "execution_count": 41,
   "id": "central-heather",
   "metadata": {},
   "outputs": [
    {
     "name": "stdout",
     "output_type": "stream",
     "text": [
      "8192\n"
     ]
    },
    {
     "data": {
      "text/plain": [
       "'O(n)'"
      ]
     },
     "execution_count": 41,
     "metadata": {},
     "output_type": "execute_result"
    }
   ],
   "source": [
    "def power(x,n):\n",
    "    if n == 0:\n",
    "        return 1\n",
    "    else:\n",
    "        return x*power(x,n-1)\n",
    "    \n",
    "print(power(2,13))  \n",
    "'O(n)'"
   ]
  },
  {
   "cell_type": "code",
   "execution_count": 46,
   "id": "organized-fetish",
   "metadata": {},
   "outputs": [
    {
     "name": "stdout",
     "output_type": "stream",
     "text": [
      "8192\n"
     ]
    },
    {
     "data": {
      "text/plain": [
       "'O(logn)'"
      ]
     },
     "execution_count": 46,
     "metadata": {},
     "output_type": "execute_result"
    }
   ],
   "source": [
    "def power2(x,n):\n",
    "    if n== 0:\n",
    "        return 1\n",
    "    else:\n",
    "        partial = power2(x,n//2)\n",
    "        result = partial * partial\n",
    "        if n%2==1:\n",
    "            result *= x\n",
    "        return result\n",
    "print(power2(2,13))\n",
    "'O(logn)'"
   ]
  },
  {
   "cell_type": "code",
   "execution_count": 49,
   "id": "aging-identification",
   "metadata": {},
   "outputs": [
    {
     "name": "stdout",
     "output_type": "stream",
     "text": [
      "55\n"
     ]
    },
    {
     "data": {
      "text/plain": [
       "('space O(logn)', 'time O(n)')"
      ]
     },
     "execution_count": 49,
     "metadata": {},
     "output_type": "execute_result"
    }
   ],
   "source": [
    "def binary_sum(seq, start, stop):\n",
    "    if start > stop:       #empty seq\n",
    "        return 0\n",
    "    if start == stop -1:\n",
    "        return seq[start]   # one element in seq\n",
    "    else:\n",
    "        mid = (start + stop)//2\n",
    "        return binary_sum(seq, start, mid) + binary_sum(seq, mid, stop)\n",
    "\n",
    "seq=[1,2,3,4,5,6,7,8,9,10]    \n",
    "print(binary_sum(seq,0,len(seq)))    \n",
    "\n",
    "'space O(logn)' , 'time O(n)'"
   ]
  },
  {
   "cell_type": "code",
   "execution_count": 53,
   "id": "pretty-weather",
   "metadata": {},
   "outputs": [
    {
     "name": "stdout",
     "output_type": "stream",
     "text": [
      "59\n"
     ]
    },
    {
     "data": {
      "text/plain": [
       "'space and time is O(n)'"
      ]
     },
     "execution_count": 53,
     "metadata": {},
     "output_type": "execute_result"
    }
   ],
   "source": [
    "#----------R-4.1----------\n",
    "def maximum(seq,n):\n",
    "    if n == 1:\n",
    "        return seq[0]\n",
    "    else:\n",
    "        return max(maximum(seq,n-1),seq[n-1])\n",
    "    \n",
    "seq = [3,16,2,59,1,2,6]  \n",
    "print(maximum(seq,len(seq)))\n",
    "\n",
    "'space and time is O(n)'"
   ]
  },
  {
   "cell_type": "code",
   "execution_count": 55,
   "id": "timely-conditions",
   "metadata": {},
   "outputs": [
    {
     "name": "stdout",
     "output_type": "stream",
     "text": [
      "32\n"
     ]
    },
    {
     "data": {
      "text/plain": [
       "'\\nx*power(2,4) 16*2=32\\nx*power(2,3) 8*2=16\\nx*power(2,2) 4*2=8\\nx*power(2,1) 2*2=4\\nx*power(2,0) 2*1 = 2 return\\n\\n@ n==0 return 1\\n'"
      ]
     },
     "execution_count": 55,
     "metadata": {},
     "output_type": "execute_result"
    }
   ],
   "source": [
    "#------R4-2----------------------\n",
    "def power(x,n):\n",
    "    if n==0:\n",
    "        return 1\n",
    "    else:\n",
    "        return x*power(x, n-1)\n",
    "\n",
    "print(power(2,5))    \n",
    "'recursion trace power(2,5)'\n",
    "\"\"\"\n",
    "x*power(2,4) 16*2=32\n",
    "x*power(2,3) 8*2=16\n",
    "x*power(2,2) 4*2=8\n",
    "x*power(2,1) 2*2=4\n",
    "x*power(2,0) 2*1 = 2 return\n",
    "\n",
    "@ n==0 return 1\n",
    "\"\"\""
   ]
  },
  {
   "cell_type": "code",
   "execution_count": 57,
   "id": "distant-arcade",
   "metadata": {},
   "outputs": [
    {
     "name": "stdout",
     "output_type": "stream",
     "text": [
      "262144\n"
     ]
    },
    {
     "data": {
      "text/plain": [
       "'\\nn=18 power(2,9) 512*512 = 262144\\nn=9 power(2,4) 16*16*2 = 512\\nn=4 power(2,2) 4*4=16\\nn=2 power(2,1) 2*2=4\\nn=1 power(2,0) 1*1*2=2\\nn=0 return 1 \\n'"
      ]
     },
     "execution_count": 57,
     "metadata": {},
     "output_type": "execute_result"
    }
   ],
   "source": [
    "#------R4-3----------------------\n",
    "def power2(x,n):\n",
    "    if n== 0:\n",
    "        return 1\n",
    "    else:\n",
    "        partial = power2(x,n//2)\n",
    "        result = partial * partial\n",
    "        if n%2==1:\n",
    "            result *= x\n",
    "        return result\n",
    "print(power2(2,18))\n",
    "\n",
    "\"\"\"\n",
    "n=18 power(2,9) 512*512 = 262144\n",
    "n=9 power(2,4) 16*16*2 = 512\n",
    "n=4 power(2,2) 4*4=16\n",
    "n=2 power(2,1) 2*2=4\n",
    "n=1 power(2,0) 1*1*2=2\n",
    "n=0 return 1 \n",
    "\"\"\""
   ]
  },
  {
   "cell_type": "code",
   "execution_count": 59,
   "id": "extreme-insert",
   "metadata": {},
   "outputs": [
    {
     "name": "stdout",
     "output_type": "stream",
     "text": [
      "[6, 2, 6, 3, 4]\n"
     ]
    },
    {
     "data": {
      "text/plain": [
       "'\\nreverse([6,3,6,2,4],1,4)\\nreverse([6,2,6,3,4],2,3)\\n2<3-1 false\\n'"
      ]
     },
     "execution_count": 59,
     "metadata": {},
     "output_type": "execute_result"
    }
   ],
   "source": [
    "#------R4-4----------------------\n",
    "def reverse(seq,start,stop):\n",
    "    if start < stop -1:\n",
    "        seq[start] , seq[stop-1] = seq[stop-1],seq[start]\n",
    "        reverse(seq,start+1,stop-1)\n",
    "    return seq\n",
    "seq = [4, 3, 6, 2, 6]\n",
    "print(reverse(seq, 0, 5))\n",
    "\"\"\"\n",
    "reverse([6,3,6,2,4],1,4)\n",
    "reverse([6,2,6,3,4],2,3)\n",
    "2<3-1 false\n",
    "\"\"\""
   ]
  },
  {
   "cell_type": "code",
   "execution_count": 60,
   "id": "statistical-practitioner",
   "metadata": {},
   "outputs": [
    {
     "name": "stdout",
     "output_type": "stream",
     "text": [
      "['a', 'b', 'c']\n",
      "['a', 'b', 'd']\n",
      "['a', 'c', 'b']\n",
      "['a', 'c', 'd']\n",
      "['a', 'd', 'b']\n",
      "['a', 'd', 'c']\n",
      "['b', 'a', 'c']\n",
      "['b', 'a', 'd']\n",
      "['b', 'c', 'a']\n",
      "['b', 'c', 'd']\n",
      "['b', 'd', 'a']\n",
      "['b', 'd', 'c']\n",
      "['c', 'a', 'b']\n",
      "['c', 'a', 'd']\n",
      "['c', 'b', 'a']\n",
      "['c', 'b', 'd']\n",
      "['c', 'd', 'a']\n",
      "['c', 'd', 'b']\n",
      "['d', 'a', 'b']\n",
      "['d', 'a', 'c']\n",
      "['d', 'b', 'a']\n",
      "['d', 'b', 'c']\n",
      "Solution found: ['d', 'b', 'c']\n",
      "['d', 'c', 'a']\n",
      "['d', 'c', 'b']\n"
     ]
    }
   ],
   "source": [
    "#--------------R4-5------------------------\n",
    "#Note that S is our attempt at solving the sequence and U is our set of all possible numbers that are unused\n",
    "def solves(S):\n",
    "    #Note, this is a random solution to the pseudoproblem\n",
    "    return S == ['d','b','c']\n",
    "\n",
    "\n",
    "def PuzzleSolver(k, S, U):\n",
    "    for e in sorted(U).copy():\n",
    "        S.append(e)\n",
    "        U.remove(e)\n",
    "        if k==1:\n",
    "            print(S)\n",
    "            if solves(S):\n",
    "                print( f'Solution found: {S}')\n",
    "        else:\n",
    "            PuzzleSolver(k-1, S, U)\n",
    "        U.add(S.pop())  #removes the last item of an array\n",
    "        \n",
    "        \n",
    "\"\"\"\n",
    "Note: It would be very difficult to draw the entire recursive trace so I'm outputting the order of the calls\n",
    "\n",
    "Also note: a set is unordered, so the order in which you would get these outputs is not guaranteed.\n",
    "I have ordered the set for this example\n",
    "\n",
    "PuzzleSolver(3, [], {'a','b','c','d'})\n",
    "    PuzzleSolver(2, [a], {'b','c','d'})\n",
    "        PuzzleSolver(1, ['a','b'], {'c','d'})\n",
    "            Tests ['a','b','c'] and ['a', 'b', 'd'] and returns None\n",
    "        PuzzleSolver(1, ['a','c'], {'b','d'})\n",
    "            Tests ['a', 'c', 'b'] and ['a','c','d'] then returns None\n",
    "            \n",
    "        .....\n",
    "        \n",
    "        \n",
    "    PuzzleSolver(2, [b], {'a','c','d'})\n",
    "        ....\n",
    "        \n",
    "    PuzzleSolver(2, [c], {'a','b','d'})\n",
    "    \n",
    "        ...\n",
    "    PuzzleSolver(2, [d], {'a','b','c'})\n",
    "        ...\n",
    "        \n",
    "        PuzzleSolver(1, ['d','c'], {'a','b'})\n",
    "            Tests ['d', 'c', 'a'] and ['d','c','b'] then returns None\n",
    "            \n",
    "\n",
    "\"\"\"\n",
    "\n",
    "PuzzleSolver(3, [], {'a','b','c','d'})"
   ]
  },
  {
   "cell_type": "code",
   "execution_count": 64,
   "id": "aggregate-illness",
   "metadata": {},
   "outputs": [
    {
     "name": "stdout",
     "output_type": "stream",
     "text": [
      "2.7178571428571425\n"
     ]
    }
   ],
   "source": [
    "#--------------R4-6------------------------\n",
    "def harmonic(n):\n",
    "    if n == 1:\n",
    "        return 1\n",
    "    else:\n",
    "        return (harmonic(n-1) + (1/n))\n",
    "    \n",
    "print(harmonic(8))   "
   ]
  },
  {
   "cell_type": "code",
   "execution_count": 65,
   "id": "imperial-reputation",
   "metadata": {},
   "outputs": [
    {
     "name": "stdout",
     "output_type": "stream",
     "text": [
      "12342543 <class 'int'>\n"
     ]
    }
   ],
   "source": [
    "#----------R4-7---------------------\n",
    "\"\"\"\n",
    "Note, we can solve this by knowing that a number can be decomposed into:\n",
    "a*1e0 + a2*1e1 + a3*1e2, etc...\n",
    "\n",
    "So 123 is\n",
    "1*1 + 2*10 + 3*100\n",
    "\n",
    "\"\"\"\n",
    "\n",
    "\n",
    "def str_2_int(string, index = 0):\n",
    "    length = len(string)\n",
    "    if index == length-1:\n",
    "        return int(string[index])\n",
    "    else:\n",
    "        return int(string[index])*10**(length-index-1) + str_2_int(string, index+1)\n",
    "\n",
    "\n",
    "\"\"\"\n",
    "This runs in 0(n) time and space\n",
    "\n",
    "\"\"\" \n",
    "    \n",
    "ans = str_2_int('12342543')\n",
    "print (ans, type(ans))"
   ]
  },
  {
   "cell_type": "code",
   "execution_count": 76,
   "id": "presidential-guess",
   "metadata": {},
   "outputs": [
    {
     "name": "stdout",
     "output_type": "stream",
     "text": [
      "19\n"
     ]
    },
    {
     "data": {
      "text/plain": [
       "'\\nThe recursion will be called log(n) times, since the array is divided in half each time\\n\\n\\nEach call will require you to access all of the remaining elements, which means it will be\\nn + n/2 + n/4 + ...\\n\\nThis is equal to n* Sum(1/2**i), which is <2n\\n\\nTherefore, the running time is O(n), although a much slower implementation than just adding them up element by element\\n\\n'"
      ]
     },
     "execution_count": 76,
     "metadata": {},
     "output_type": "execute_result"
    }
   ],
   "source": [
    "#----------R4-8---------------------\n",
    "import math\n",
    "\n",
    "def summation(A,n):\n",
    "    assert math.log(len(A),2)%1 == 0, 'Your array must be a length that is a power of 2'\n",
    "    B = [None] * (n//2)\n",
    "    for i in range(len(B)):\n",
    "        B[i] = A[2*i] + A[2*i+1]\n",
    "    if len(B) == 1:\n",
    "        return B[0]\n",
    "    else:\n",
    "        A = B\n",
    "        n=int(len(A))\n",
    "        return summation(A,n)\n",
    "\n",
    "A=[1,2,1,3,4,2,5,1]    \n",
    "print(summation(A,int(len(A))))\n",
    "\n",
    "\"\"\"\n",
    "The recursion will be called log(n) times, since the array is divided in half each time\n",
    "\n",
    "\n",
    "Each call will require you to access all of the remaining elements, which means it will be\n",
    "n + n/2 + n/4 + ...\n",
    "\n",
    "This is equal to n* Sum(1/2**i), which is <2n\n",
    "\n",
    "Therefore, the running time is O(n), although a much slower implementation than just adding them up element by element\n",
    "\n",
    "\"\"\""
   ]
  },
  {
   "cell_type": "markdown",
   "id": "south-preliminary",
   "metadata": {},
   "source": [
    "# Creativity"
   ]
  },
  {
   "cell_type": "code",
   "execution_count": 116,
   "id": "figured-calvin",
   "metadata": {},
   "outputs": [
    {
     "name": "stdout",
     "output_type": "stream",
     "text": [
      "(1, 59)\n"
     ]
    }
   ],
   "source": [
    "#----------R-4.1----------\n",
    "def max_min(seq,n):\n",
    "    if n == 1:\n",
    "        return seq[0] ,seq[0]\n",
    "    else:\n",
    "        min_c,max_c = max_min(seq,n-1)\n",
    "        return min(min_c ,seq[n-1]) , max(max_c ,seq[n-1])\n",
    "        \n",
    "    \n",
    "seq = [3,16,2,59,1,2,6]  \n",
    "print(max_min(seq, len(seq)))"
   ]
  },
  {
   "cell_type": "code",
   "execution_count": 117,
   "id": "small-namibia",
   "metadata": {},
   "outputs": [
    {
     "name": "stdout",
     "output_type": "stream",
     "text": [
      "100 6 6.643856189774725\n",
      "5 2 2.321928094887362\n",
      "7 2 2.807354922057604\n",
      "1.9 0 0.925999418556223\n",
      "0.1 0 -3.321928094887362\n",
      "6 2 2.584962500721156\n"
     ]
    }
   ],
   "source": [
    "#------------C4-10------------------------\n",
    "import math\n",
    "def log_2_int(n):\n",
    "    if n<2:\n",
    "        return 0   #If you are less than 2, you don't get to accumulate any more divisions.  Note it isn't <=2\n",
    "    else:\n",
    "        return 1+log_2_int(n//2)\n",
    "     \n",
    "\n",
    "for n in [100, 5, 7, 1.9, 0.1, 6]:\n",
    "    print(n, log_2_int(n), math.log(n, 2))"
   ]
  },
  {
   "cell_type": "code",
   "execution_count": 142,
   "id": "nasty-butterfly",
   "metadata": {},
   "outputs": [
    {
     "name": "stdout",
     "output_type": "stream",
     "text": [
      "True\n",
      "False\n",
      "True\n"
     ]
    },
    {
     "data": {
      "text/plain": [
       "'(O(n))'"
      ]
     },
     "execution_count": 142,
     "metadata": {},
     "output_type": "execute_result"
    }
   ],
   "source": [
    "#------------C4-11------------------------\n",
    "def unique3(S, start, stop):\n",
    "    #temp = sorted(S)\n",
    "    if stop - start <= 1:\n",
    "        return True\n",
    "    elif not unique3(S, start, stop-1):\n",
    "        return False\n",
    "    elif not unique3(S, start+1, stop):\n",
    "        return False\n",
    "    else: return S[start] != S[stop-1]\n",
    "    \n",
    "S =  [100, 5, 7, 1.9, 0.1, 6]\n",
    "print(unique3(S,0,len(S)))\n",
    "\n",
    "S =  [100, 6, 7, 1.9, 0.1, 6]\n",
    "print(unique3(S,0,len(S)))\n",
    "'((2^n))'\n",
    "\n",
    "\n",
    "def unique_no_dictionary(S, index = 0):\n",
    "    if index == len(S)-1:\n",
    "        return True    #The trivial case is true\n",
    "    else:\n",
    "        unique = True\n",
    "        for i in range(index+1, len(S)):\n",
    "            if S[index] == S[i]:\n",
    "                unique = False\n",
    "        #Note, this return will short-circuit if unique is False, therefore saving time\n",
    "        return unique and unique_no_dictionary(S, index+1)\n",
    "    \n",
    "S =  [100, 5, 7, 1.9, 0.1, 6]\n",
    "print(unique_no_dictionary(S) ) \n",
    "\n",
    "'(O(n))'"
   ]
  },
  {
   "cell_type": "code",
   "execution_count": 137,
   "id": "sharp-projection",
   "metadata": {},
   "outputs": [
    {
     "name": "stdout",
     "output_type": "stream",
     "text": [
      "24\n",
      "126\n"
     ]
    }
   ],
   "source": [
    "#------------C4-12------------------------\n",
    "def product(m,n):\n",
    "    if n == 1:\n",
    "        return m\n",
    "    else:\n",
    "        return m+product(m,n-1)\n",
    "    \n",
    "print(product(8,3))\n",
    "print(product(9,14)) "
   ]
  },
  {
   "cell_type": "code",
   "execution_count": 138,
   "id": "solar-center",
   "metadata": {},
   "outputs": [
    {
     "data": {
      "text/plain": [
       "'\\nF(0) = 2 + 0 - 2 = 0\\nMore base cases (unnecessary):\\n    F(1) = 4 - 1 - 2 = 1\\n    F(2) = 8 - 2 - 2 = 4\\n    \\n\\nWhen you add 1 to c, you draw 2 iterations of the previous -> 2*F(c-1) and 1 line of length C\\n\\nTherefore F(C) = 2*(2**(c+1-1) - (c-1) -2) + c = 2**(c+1) - 2*(c-1) - 4 + c\\n\\n2**(c+1) - 2*(c-1) - 4 + c \\n= 2**(c+1) - 2c +2 -4 +c\\n= 2**(c+1) -c -2 as required\\n\\n'"
      ]
     },
     "execution_count": 138,
     "metadata": {},
     "output_type": "execute_result"
    }
   ],
   "source": [
    "#------------C4-13------------------------\n",
    "\"\"\"\n",
    "F(0) = 2 + 0 - 2 = 0\n",
    "More base cases (unnecessary):\n",
    "    F(1) = 4 - 1 - 2 = 1\n",
    "    F(2) = 8 - 2 - 2 = 4\n",
    "    \n",
    "\n",
    "When you add 1 to c, you draw 2 iterations of the previous -> 2*F(c-1) and 1 line of length C\n",
    "\n",
    "Therefore F(C) = 2*(2**(c+1-1) - (c-1) -2) + c = 2**(c+1) - 2*(c-1) - 4 + c\n",
    "\n",
    "2**(c+1) - 2*(c-1) - 4 + c \n",
    "= 2**(c+1) - 2c +2 -4 +c\n",
    "= 2**(c+1) -c -2 as required\n",
    "\n",
    "\"\"\""
   ]
  },
  {
   "cell_type": "code",
   "execution_count": 140,
   "id": "antique-toronto",
   "metadata": {},
   "outputs": [
    {
     "name": "stdout",
     "output_type": "stream",
     "text": [
      "\t  0\t\t  \t\t  \t\n",
      "\t  1\t\t  \t\t  \t\n",
      "\t  2\t\t  \t\t  \t\n",
      "\t  3\t\t  \t\t  \t\n",
      "\t  4\t\t  \t\t  \t\n",
      "\t_____\t\t_____\t\t_____\t\n",
      "\t  1\t\t  2\t\t  3\t\n",
      "\n",
      "This took a total of 31 moves!\n"
     ]
    }
   ],
   "source": [
    "#---------C4-14-----------------------\n",
    "import time\n",
    "from IPython.display import clear_output\n",
    "\n",
    "class TowerOfHanoi():\n",
    "    def __init__(self, n=4):\n",
    "        self._n = n\n",
    "        self._array = [[], [], list(reversed(range(n)))]\n",
    "        self._lengths = [0, 0, n]\n",
    "        \n",
    "    def draw_towers(self):\n",
    "        rows = []\n",
    "        rows.append(['\\t  1\\t', '\\t  2\\t', '\\t  3\\t'])\n",
    "        rows.append(['\\t_____\\t', '\\t_____\\t', '\\t_____\\t'])\n",
    "        for i in range(max(self._lengths)):\n",
    "            row = []\n",
    "            for j in range(3):\n",
    "                if i<self._lengths[j]:\n",
    "                    row.append('\\t  ' + str(self._array[j][i]) + '\\t')\n",
    "                else:\n",
    "                    row.append('\\t  \\t')\n",
    "            rows.append(row)\n",
    "        \n",
    "        \n",
    "        for r in reversed(rows):\n",
    "            print(''.join(r))\n",
    "            \n",
    "    def __getitem__(self, index):\n",
    "        return self._array[index]\n",
    "    \n",
    "    def pop(self, index):\n",
    "        self._lengths[index] -= 1\n",
    "        return self[index].pop()\n",
    "    \n",
    "    \n",
    "    def getlen(self):\n",
    "        return self._lengths\n",
    "    \n",
    "    \n",
    "    def __setitem__(self, index, value):\n",
    "        if self[index] and self[index][-1] < value:\n",
    "            raise ValueError (f'Illegal move.  Cannot place block with size {value} on block {self[index][-1]}')\n",
    "        else: \n",
    "            self[index].append(value)\n",
    "            self._lengths[index] += 1\n",
    "    \n",
    "    def _move_stack(self, n_disks, start_peg, help_peg, target_peg):\n",
    "        time.sleep(0.5)\n",
    "        clear_output()\n",
    "        self.draw_towers()\n",
    "        \n",
    "        if n_disks == 1:\n",
    "            self._count += 1\n",
    "            value = self.pop(start_peg)\n",
    "            try:\n",
    "                self[target_peg] = value\n",
    "            except Exception as e:\n",
    "                print(e)\n",
    "                self[start_peg]\n",
    "        \n",
    "        else:\n",
    "            #Move the upper stack to the helper peg\n",
    "            self._move_stack(n_disks-1, start_peg, target_peg, help_peg)\n",
    "            #Move the lowest item to the target peg\n",
    "            self._move_stack(1, start_peg, help_peg, target_peg)\n",
    "            #Move the upper stack to the target peg\n",
    "            self._move_stack(n_disks-1, help_peg, start_peg, target_peg)\n",
    "            \n",
    "    \n",
    "    def solve_hanoi(self):\n",
    "        self._count = 0\n",
    "        self._move_stack(self.getlen()[2], 2, 1, 0)\n",
    "        \n",
    "        time.sleep(0.5)\n",
    "        clear_output()\n",
    "        self.draw_towers()\n",
    "        \n",
    "        print(f'\\nThis took a total of {self._count} moves!')\n",
    "        \n",
    "        \n",
    "            \n",
    "t = TowerOfHanoi(5)\n",
    "t.solve_hanoi()"
   ]
  },
  {
   "cell_type": "code",
   "execution_count": 141,
   "id": "numerous-delhi",
   "metadata": {},
   "outputs": [
    {
     "name": "stdout",
     "output_type": "stream",
     "text": [
      "{  }\n",
      "{ 1 }\n",
      "{ 2 }\n",
      "{ 2, 1 }\n",
      "{ 3 }\n",
      "{ 3, 1 }\n",
      "{ 3, 2 }\n",
      "{ 3, 2, 1 }\n",
      "{ 4 }\n",
      "{ 4, 1 }\n",
      "{ 4, 2 }\n",
      "{ 4, 2, 1 }\n",
      "{ 4, 3 }\n",
      "{ 4, 3, 1 }\n",
      "{ 4, 3, 2 }\n",
      "{ 4, 3, 2, 1 }\n",
      "{ 5 }\n",
      "{ 5, 1 }\n",
      "{ 5, 2 }\n",
      "{ 5, 2, 1 }\n",
      "{ 5, 3 }\n",
      "{ 5, 3, 1 }\n",
      "{ 5, 3, 2 }\n",
      "{ 5, 3, 2, 1 }\n",
      "{ 5, 4 }\n",
      "{ 5, 4, 1 }\n",
      "{ 5, 4, 2 }\n",
      "{ 5, 4, 2, 1 }\n",
      "{ 5, 4, 3 }\n",
      "{ 5, 4, 3, 1 }\n",
      "{ 5, 4, 3, 2 }\n",
      "{ 5, 4, 3, 2, 1 }\n"
     ]
    }
   ],
   "source": [
    "#---------------C4-15-----------------------------\n",
    "\"\"\"\n",
    "Here, we want combinations, not permutations\n",
    "\n",
    "\n",
    "We rely on the addition of an empty set value 'UNK'\n",
    "\n",
    "For each stage of the recursion, we add one more value from the sequence\n",
    "and for each current item either add another UNK or that value\n",
    "\n",
    "The final layer of that tree will contain exactly one copy of each unique set\n",
    "\n",
    "\"\"\"\n",
    "UNK = chr(1000)\n",
    "\n",
    "\n",
    "\n",
    "def sub_rec(U, S):\n",
    "    \"\"\"\n",
    "    U is the current set\n",
    "    S is the remaining sequence\n",
    "    \"\"\"\n",
    "    if len(S) == 0:\n",
    "        print('{', str([x for x in U if x!= UNK])[1:-1], '}')\n",
    "        \n",
    "    else:\n",
    "        val = S.pop()\n",
    "        U.append(UNK)\n",
    "        sub_rec(U, S)\n",
    "        U.pop()\n",
    "        \n",
    "        U.append(val)\n",
    "        sub_rec(U, S)\n",
    "        U.pop()\n",
    "        S.append(val)\n",
    "\n",
    "def print_subsets (U):\n",
    "    sub_rec([], list(U))\n",
    "    \n",
    "    \n",
    "print_subsets({1,2,3,4,5})"
   ]
  },
  {
   "cell_type": "code",
   "execution_count": 160,
   "id": "annual-pharmacology",
   "metadata": {},
   "outputs": [
    {
     "data": {
      "text/plain": [
       "'snap&stop'"
      ]
     },
     "execution_count": 160,
     "metadata": {},
     "output_type": "execute_result"
    }
   ],
   "source": [
    "#---------------C4-16-----------------------------\n",
    "def reversestring(S,index=0):\n",
    "    if index == len(S)-1:\n",
    "        return [S[index]]\n",
    "    else:\n",
    "        ans = reversestring(S,index + 1)\n",
    "        ans.append (S[index])\n",
    "        if index == 0:\n",
    "            ans = ''.join(ans)\n",
    "        return ans \n",
    "\n",
    "    \n",
    "    \n",
    "reversestring('pots&pans')  \n"
   ]
  },
  {
   "cell_type": "code",
   "execution_count": 174,
   "id": "accompanied-savings",
   "metadata": {},
   "outputs": [
    {
     "name": "stdout",
     "output_type": "stream",
     "text": [
      "True gohangasalamiimalasagnahog\n",
      "True racecar\n"
     ]
    }
   ],
   "source": [
    "#---------------C4-17-----------------------------\n",
    "def palindrome(S,index=0):\n",
    "    orig = list(S)\n",
    "    if index == len(S)-1:\n",
    "        return [S[index]]\n",
    "    else:\n",
    "        ans = palindrome(S,index+1)\n",
    "        ans.append(S[index])\n",
    "        if orig == ans:\n",
    "            return True\n",
    "        return ans    \n",
    "st = ['gohangasalamiimalasagnahog','racecar']\n",
    "for i in st:\n",
    "    print(palindrome(i),i)"
   ]
  },
  {
   "cell_type": "code",
   "execution_count": 223,
   "id": "theoretical-county",
   "metadata": {},
   "outputs": [
    {
     "data": {
      "text/plain": [
       "'There are more vowells by -2'"
      ]
     },
     "execution_count": 223,
     "metadata": {},
     "output_type": "execute_result"
    }
   ],
   "source": [
    "#---------------C4-18-----------------------------\n",
    "\n",
    "VOWELLS = {'a','e','i','o','u'}\n",
    "\n",
    "# sol 1 having single counter , sol2 counting both vowel and constant  \n",
    "\n",
    "def c_or_v(S, index = 0):\n",
    "    a = -1 if S[index] in VOWELLS else 1\n",
    "    if index == len(S)-1:\n",
    "        return a\n",
    "    else:\n",
    "        return (a+ c_or_v(S, index +1))\n",
    "    \n",
    "def check_vowells(S):\n",
    "    ans = c_or_v(S)\n",
    "    if ans>0:\n",
    "        return (f'There are more consonants by {ans}')\n",
    "    elif ans<0:\n",
    "        return (f'There are more vowells by {ans}')\n",
    "    else:\n",
    "        return (f'There are an equal number of each {ans}')\n",
    "    \n",
    "    \n",
    "\n",
    "     \n",
    "    \n",
    "check_vowells('aeiost')     "
   ]
  },
  {
   "cell_type": "code",
   "execution_count": 266,
   "id": "ahead-sleep",
   "metadata": {},
   "outputs": [
    {
     "data": {
      "text/plain": [
       "'There are more vowells by 1'"
      ]
     },
     "execution_count": 266,
     "metadata": {},
     "output_type": "execute_result"
    }
   ],
   "source": [
    "VOWELLS = {'a','e','i','o','u'}\n",
    "def c_or_v2(S,index=0):\n",
    "    v_c,c_c = 0,0\n",
    "    if S[index] in VOWELLS:\n",
    "        v_c += 1\n",
    "        return v_c,c_c\n",
    "    else:\n",
    "        c_c += 1\n",
    "        return v_c,c_c\n",
    "    if index == len(S)-1:\n",
    "        return v_c,c_c\n",
    "    return ( v_c+c_c+ c_or_v2(S, index+1)) \n",
    "\n",
    "def check_vowells(S):\n",
    "    v_c, c_c = c_or_v2(S)\n",
    "    if v_c > c_c:\n",
    "        return (f'There are more vowells by {v_c}')\n",
    "    elif v_c==c_c:\n",
    "        return (f'There are an equal number of each {c_c}')\n",
    "    else:\n",
    "        return (f'There are more consonents by {c_c}')\n",
    "    \n",
    "check_vowells('aeiost')     "
   ]
  },
  {
   "cell_type": "code",
   "execution_count": 255,
   "id": "proper-cargo",
   "metadata": {},
   "outputs": [
    {
     "name": "stdout",
     "output_type": "stream",
     "text": [
      "[4, 2, 3, 1]\n"
     ]
    }
   ],
   "source": [
    "#---------------C4-19-----------------------------\n",
    "def even_odd(S, index=0):\n",
    "    if index == len(S)-1:       \n",
    "        if len(S) == 1:\n",
    "            return S\n",
    "        elif S[index]%2 == 0:\n",
    "            return [S[index]],[]\n",
    "        else:\n",
    "            return [],[S[index]]\n",
    "    else:\n",
    "        even,odd = even_odd(S,index+1)\n",
    "        if S[index]%2 == 0:\n",
    "            even.append(S[index])\n",
    "        else:\n",
    "            odd.append(S[index])\n",
    "        if index == 0:\n",
    "            return even+odd\n",
    "        else:\n",
    "            return even,odd\n",
    "\n",
    "print(even_odd([1,2,3,4]))"
   ]
  },
  {
   "cell_type": "code",
   "execution_count": 267,
   "id": "comic-trash",
   "metadata": {},
   "outputs": [
    {
     "name": "stdout",
     "output_type": "stream",
     "text": [
      "Splitting by:  0 produces [10, 9, 8, 7, 6, 5, 4, 33, 2, 11]\n",
      "Splitting by:  2 produces [2, 10, 9, 8, 7, 6, 5, 4, 33, 11]\n",
      "Splitting by:  4 produces [2, 4, 10, 9, 8, 7, 6, 5, 33, 11]\n",
      "Splitting by:  6 produces [5, 4, 2, 6, 10, 9, 8, 7, 33, 11]\n",
      "Splitting by:  8 produces [7, 6, 5, 4, 2, 8, 10, 9, 33, 11]\n"
     ]
    },
    {
     "data": {
      "text/plain": [
       "\"\\nNote, it's easier to troubleshoot if you output the three lists seperately\\n\\nThis should run in O(n) time.\\nIt relies on O(n) calls to the recursive function, each requiring O(1) time since we're adding at the end\\nThe final concatenation of all the lists uses O(n) time, but this only happens once\\n\\nTherefore O(n)*O(1) + O(n) is O(n)\\n\\n\\n\""
      ]
     },
     "execution_count": 267,
     "metadata": {},
     "output_type": "execute_result"
    }
   ],
   "source": [
    "#-------------C4-20--------------------\n",
    "\"\"\"\n",
    "Note: we can use the same approachs as before to do this in either O(n) time or O(n^2) time\n",
    "Let's choose the O(n) approach\n",
    "\n",
    "The major difference is that we need a third list for just k\n",
    "\"\"\"\n",
    "\n",
    "#There are issues adding a [a] + [], so this circumvents the problem\n",
    "def add_lists(a,b):\n",
    "    if a and b:\n",
    "        return a+b\n",
    "    else:\n",
    "        return b or a #if one of them is [], return the other\n",
    "    \n",
    "\n",
    "\n",
    "def split_by_k(S, k, index=0):\n",
    "    if len(S)==1:\n",
    "        return S \n",
    "        \n",
    "    elif index == len(S)-1:    #we use this line for too many of these exercises...\n",
    "        if S[index] <k:\n",
    "            return [S[index]], [], []\n",
    "        elif S[index] >k:\n",
    "            return [], [], [S[index]]\n",
    "        else:\n",
    "            return [], [S[index]], []  #Should return k in the middle list\n",
    "        \n",
    "    else:\n",
    "        low, med, high = split_by_k(S, k, index+1)\n",
    "        if S[index] <k:\n",
    "            low = add_lists(low, [S[index]])\n",
    "        elif S[index] >k:\n",
    "            high = add_lists(high, [S[index]])\n",
    "        else:\n",
    "            med = add_lists(med, [S[index]])\n",
    "            \n",
    "        if index == 0:\n",
    "            return add_lists(low, add_lists(med, high)) #This is not very elegant...\n",
    "        else:\n",
    "            return low, med, high\n",
    "            \n",
    "sequence = [11,2,33,4,5,6,7,8,9,10]\n",
    "\n",
    "for i in range(0, 10, 2):\n",
    "    print('Splitting by: ', i, 'produces', split_by_k(sequence, i))\n",
    "\n",
    "\"\"\"\n",
    "Note, it's easier to troubleshoot if you output the three lists seperately\n",
    "\n",
    "This should run in O(n) time.\n",
    "It relies on O(n) calls to the recursive function, each requiring O(1) time since we're adding at the end\n",
    "The final concatenation of all the lists uses O(n) time, but this only happens once\n",
    "\n",
    "Therefore O(n)*O(1) + O(n) is O(n)\n",
    "\n",
    "\n",
    "\"\"\"\n",
    "\n",
    "    "
   ]
  },
  {
   "cell_type": "code",
   "execution_count": 272,
   "id": "structured-choir",
   "metadata": {},
   "outputs": [
    {
     "name": "stdout",
     "output_type": "stream",
     "text": [
      "(1, 3)\n"
     ]
    }
   ],
   "source": [
    "#-------------C4-21--------------------\n",
    "def find_pair(S, target, key_set = None, index=0):\n",
    "    if key_set is None:\n",
    "        key_set = set()\n",
    "    \n",
    "    \n",
    "    key = target - S[index]\n",
    "    if len(S) <= 1:\n",
    "        return None\n",
    "    \n",
    "    elif index == len(S)-1:\n",
    "        if key in key_set: return (key, S[index])\n",
    "        else: return None\n",
    "        \n",
    "    else:\n",
    "        if key in key_set: return (key, S[index])\n",
    "        else:\n",
    "            key_set.add(S[index])\n",
    "            return find_pair(S, target, key_set, index+1)\n",
    "S=[1,2,3,4]\n",
    "k=4\n",
    "print(find_pair(S,k))        "
   ]
  },
  {
   "cell_type": "code",
   "execution_count": 278,
   "id": "engaging-toilet",
   "metadata": {},
   "outputs": [
    {
     "name": "stdout",
     "output_type": "stream",
     "text": [
      "16\n"
     ]
    }
   ],
   "source": [
    "#------------C4-22------------------------\n",
    "def power_loop(x, n):\n",
    "    factor = n\n",
    "    partial = 1\n",
    "    \n",
    "    counter = 0\n",
    "    while factor:\n",
    "        factor = factor >>1\n",
    "        counter += 1\n",
    "    \n",
    "    while counter+1:\n",
    "        partial *= partial\n",
    "        if n>>counter&1:\n",
    "            partial *= x        \n",
    "        counter -=1\n",
    "    return partial\n",
    "\n",
    "print(power_loop(2,4))"
   ]
  },
  {
   "cell_type": "code",
   "execution_count": 279,
   "id": "south-michigan",
   "metadata": {},
   "outputs": [
    {
     "name": "stdout",
     "output_type": "stream",
     "text": [
      "24\n",
      "126\n"
     ]
    }
   ],
   "source": [
    "def product2(m,n):\n",
    "    prd = 1\n",
    "    if n == 1:\n",
    "        return m\n",
    "    for i in range(1,n+1):\n",
    "        prd = m*i\n",
    "    return prd    \n",
    "    \n",
    "print(product2(8,3))\n",
    "print(product2(9,14)) "
   ]
  },
  {
   "cell_type": "code",
   "execution_count": null,
   "id": "shared-article",
   "metadata": {},
   "outputs": [],
   "source": []
  }
 ],
 "metadata": {
  "kernelspec": {
   "display_name": "Python 3",
   "language": "python",
   "name": "python3"
  },
  "language_info": {
   "codemirror_mode": {
    "name": "ipython",
    "version": 3
   },
   "file_extension": ".py",
   "mimetype": "text/x-python",
   "name": "python",
   "nbconvert_exporter": "python",
   "pygments_lexer": "ipython3",
   "version": "3.7.4"
  }
 },
 "nbformat": 4,
 "nbformat_minor": 5
}
