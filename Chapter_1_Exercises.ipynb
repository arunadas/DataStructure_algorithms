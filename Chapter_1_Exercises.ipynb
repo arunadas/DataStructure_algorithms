{
 "cells": [
  {
   "cell_type": "code",
   "execution_count": 25,
   "id": "simplified-fishing",
   "metadata": {},
   "outputs": [
    {
     "name": "stdout",
     "output_type": "stream",
     "text": [
      "True\n",
      "False\n",
      "False\n",
      "False\n",
      "True\n"
     ]
    }
   ],
   "source": [
    "#--------R-1.1-----------\n",
    "def is_multiple(n,m):\n",
    "    if m == 0:\n",
    "        return False\n",
    "    return ( n%m == 0 )\n",
    "\n",
    "#test\n",
    "print(is_multiple(8,2))\n",
    "print(is_multiple(9,2))\n",
    "print(is_multiple(13,4))\n",
    "print(is_multiple(58,7))\n",
    "print(is_multiple(84,4))"
   ]
  },
  {
   "cell_type": "code",
   "execution_count": 54,
   "id": "israeli-edwards",
   "metadata": {},
   "outputs": [
    {
     "name": "stdout",
     "output_type": "stream",
     "text": [
      "even\n",
      "odd\n",
      "odd\n",
      "odd\n",
      "#######\n",
      "True\n",
      "False\n",
      "False\n",
      "False\n"
     ]
    }
   ],
   "source": [
    "#--------R-1.2-----------\n",
    "def is_even(k:int):\n",
    "    if (k & 1) == 0:\n",
    "        return 'even'\n",
    "    return 'odd'\n",
    "\n",
    "print(is_even(2))\n",
    "print(is_even(7))\n",
    "print(is_even(21))\n",
    "print(is_even(521))\n",
    "\n",
    "print('#######')\n",
    "\n",
    "def is_even(k:int):\n",
    "    return (k & 1 == 0 )\n",
    "\n",
    "print(is_even(2))\n",
    "print(is_even(7))\n",
    "print(is_even(21))\n",
    "print(is_even(521))"
   ]
  },
  {
   "cell_type": "code",
   "execution_count": 79,
   "id": "anonymous-ambassador",
   "metadata": {},
   "outputs": [
    {
     "name": "stdout",
     "output_type": "stream",
     "text": [
      "(1, 4)\n",
      "(3, 4434)\n",
      "(23, 98)\n",
      "(1, 9)\n",
      "(1, 1)\n",
      "You passed empty sequence\n",
      "None\n"
     ]
    }
   ],
   "source": [
    "#--------R-1.3-----------\n",
    "def minmax(data):\n",
    "    #assuming data is sorted and unique\n",
    "    if len(data)>0:\n",
    "        min = data[0]\n",
    "        max = data[-1]\n",
    "        for value in data:\n",
    "            if value < min:\n",
    "                min = value \n",
    "            elif value > max:\n",
    "                max = value\n",
    "        return (min,max)\n",
    "    else:\n",
    "        print('You passed empty sequence')\n",
    "        return\n",
    "        \n",
    "\n",
    "print(minmax([3,4,1]))\n",
    "print(minmax([13,44,21,876,90,43,17,3,654,4434]))\n",
    "print(minmax([30,74,81,54,34,23,98,76,45]))\n",
    "print(minmax([9,8,6,4,1]))\n",
    "print(minmax([1]))\n",
    "print(minmax([]))\n",
    "        \n"
   ]
  },
  {
   "cell_type": "code",
   "execution_count": 96,
   "id": "smoking-crossing",
   "metadata": {},
   "outputs": [
    {
     "name": "stdout",
     "output_type": "stream",
     "text": [
      "5\n",
      "650\n",
      "30\n"
     ]
    }
   ],
   "source": [
    "#--------R-1.4-----------\n",
    "def sum_square_less_n(n:int):\n",
    "    sum = 0\n",
    "    for i in range(1,n):\n",
    "        sum += i*i\n",
    "    return sum   \n",
    "\n",
    "print(sum_square_less_n(3))  \n",
    "print(sum_square_less_n(13))\n",
    "print(sum_square_less_n(5))"
   ]
  },
  {
   "cell_type": "code",
   "execution_count": 101,
   "id": "aboriginal-doctor",
   "metadata": {},
   "outputs": [
    {
     "name": "stdout",
     "output_type": "stream",
     "text": [
      "5\n",
      "650\n",
      "30\n"
     ]
    }
   ],
   "source": [
    "#--------R-1.5-----------\n",
    "#comprehension\n",
    "def sum_square_less_n(n:int):\n",
    "    return sum(i*i for i in range(1,n))\n",
    "\n",
    "print(sum_square_less_n(3))  \n",
    "print(sum_square_less_n(13))\n",
    "print(sum_square_less_n(5))"
   ]
  },
  {
   "cell_type": "code",
   "execution_count": 108,
   "id": "major-shanghai",
   "metadata": {},
   "outputs": [
    {
     "name": "stdout",
     "output_type": "stream",
     "text": [
      "1\n",
      "10\n"
     ]
    }
   ],
   "source": [
    "#--------R-1.6-----------\n",
    "def sum_square_odd_less_n(n:int):\n",
    "    sum = 0\n",
    "    for i in range(1,n):\n",
    "        if i%2 != 0:\n",
    "            sum += i*i\n",
    "    return sum\n",
    "\n",
    "print(sum_square_odd_less_n(3))\n",
    "print(sum_square_odd_less_n(5))"
   ]
  },
  {
   "cell_type": "code",
   "execution_count": 109,
   "id": "hydraulic-occasions",
   "metadata": {},
   "outputs": [
    {
     "name": "stdout",
     "output_type": "stream",
     "text": [
      "1\n",
      "10\n"
     ]
    }
   ],
   "source": [
    "#--------R-1.7-----------\n",
    "#comprehension\n",
    "def sum_square_odd_less_n(n:int):    \n",
    "    return sum( i*i for i in range(1,n) if i%2 !=0)\n",
    "\n",
    "print(sum_square_odd_less_n(3))\n",
    "print(sum_square_odd_less_n(5))"
   ]
  },
  {
   "cell_type": "code",
   "execution_count": 113,
   "id": "removed-coaching",
   "metadata": {},
   "outputs": [
    {
     "name": "stdout",
     "output_type": "stream",
     "text": [
      " n + k\n"
     ]
    }
   ],
   "source": [
    "#--------R-1.8-----------\n",
    "\"\"\"Python allows negative integers to be used as indices into a sequence, such as a string.\n",
    "If string s has length n, and expression s[k] is used for index −n ≤ k < 0, what is the equivalent \n",
    "index j ≥ 0 such that s[j] references the same element?\"\"\"\n",
    "print (\" n + k\") #answer"
   ]
  },
  {
   "cell_type": "code",
   "execution_count": 114,
   "id": "blank-nudist",
   "metadata": {},
   "outputs": [
    {
     "name": "stdout",
     "output_type": "stream",
     "text": [
      "50\n",
      "60\n",
      "70\n",
      "80\n"
     ]
    }
   ],
   "source": [
    "#--------R-1.9-----------\n",
    "for i in range(50,90,10):\n",
    "    print(i)"
   ]
  },
  {
   "cell_type": "code",
   "execution_count": 115,
   "id": "tired-dietary",
   "metadata": {},
   "outputs": [
    {
     "name": "stdout",
     "output_type": "stream",
     "text": [
      "8\n",
      "6\n",
      "4\n",
      "2\n",
      "0\n",
      "-2\n",
      "-4\n",
      "-6\n",
      "-8\n"
     ]
    }
   ],
   "source": [
    "#--------R-1.10-----------\n",
    "for i in range(8,-10,-2):\n",
    "    print(i)"
   ]
  },
  {
   "cell_type": "code",
   "execution_count": 117,
   "id": "opposite-bubble",
   "metadata": {},
   "outputs": [
    {
     "name": "stdout",
     "output_type": "stream",
     "text": [
      "[1, 2, 4, 8, 16, 32, 64, 128, 256]\n"
     ]
    }
   ],
   "source": [
    "#--------R-1.11-----------\n",
    "print([ 2**i for i in range(9)])\n"
   ]
  },
  {
   "cell_type": "code",
   "execution_count": 121,
   "id": "worldwide-watts",
   "metadata": {},
   "outputs": [
    {
     "name": "stdout",
     "output_type": "stream",
     "text": [
      "9 76 76 76 9 76 76 76 9 9 6 6 "
     ]
    }
   ],
   "source": [
    "#--------R-1.12-----------\n",
    "from random import randrange\n",
    "\n",
    "def randomChoice(data):\n",
    "    return data[randrange(0,len(data),5)]\n",
    "\n",
    "data = [9,8,3,5,8,76,9,10,3,4,6,7]\n",
    "\n",
    "for i in range(12):\n",
    "    print(randomChoice(data), end=' ')"
   ]
  },
  {
   "cell_type": "markdown",
   "id": "dressed-cylinder",
   "metadata": {},
   "source": [
    "# Creativity"
   ]
  },
  {
   "cell_type": "code",
   "execution_count": 151,
   "id": "greek-bhutan",
   "metadata": {},
   "outputs": [
    {
     "name": "stdout",
     "output_type": "stream",
     "text": [
      "[6, 7, 0, 9, 5, 4, 3]\n",
      "[6, 7, 0, 9, 5, 4, 3]\n",
      "[6, 7, 0, 9, 5, 4, 3]\n",
      "[6, 7, 0, 9, 5, 4, 3]\n",
      "#####data######\n",
      "[3, 4, 5, 9, 0, 7, 6]\n",
      "#####inplacechange######\n",
      "[6, 7, 0, 9, 5, 4, 3]\n",
      "#####data######\n",
      "[6, 7, 0, 9, 5, 4, 3]\n",
      "[3, 4, 5, 9, 0, 7, 6]\n"
     ]
    },
    {
     "data": {
      "text/plain": [
       "(1.2415930579991254,\n",
       " 1.1089641960024892,\n",
       " 0.25313435399948503,\n",
       " 0.473426410000684,\n",
       " 1.3654007709992584,\n",
       " 0.8799755670006562)"
      ]
     },
     "execution_count": 151,
     "metadata": {},
     "output_type": "execute_result"
    }
   ],
   "source": [
    "#--------C-1.13-----------\n",
    "def reverselistcopy(data):  #doest change the original data\n",
    "    rev_data = []\n",
    "    for i in range(1,len(data)+1):\n",
    "        rev_data.append(data[-i])\n",
    "    return rev_data\n",
    "\n",
    "def reverselistcp(data):\n",
    "    rev_data = []\n",
    "    n = len(data)\n",
    "    while n > 0:\n",
    "        n = n-1\n",
    "        rev_data.append(data[n])\n",
    "    return rev_data  \n",
    "\n",
    "def reverselistslice(data):  # in build solutions\n",
    "    return data[::-1]\n",
    "\n",
    "def reverseinbuilt(data):\n",
    "    return list(reversed(data))\n",
    "\n",
    "def reverselistinplace(data): #change the data list\n",
    "    for i in range(1,len(data)):\n",
    "        if i <= len(data)//2:\n",
    "            data[i-1],data[-i] = data[-i],data[i-1]\n",
    "    return data \n",
    "\n",
    "def reverselistip(data):\n",
    "    i = 0\n",
    "    n = len(data)\n",
    "    while(i<n//2):\n",
    "        data[i], data[n-1-i] = data[n-1-i], data[i]\n",
    "        i += 1\n",
    "    return data\n",
    "   \n",
    "\n",
    "data = [3,4,5,9,0,7,6]\n",
    "\n",
    "print(reverselistcopy(data))\n",
    "print(reverselistcp(data))\n",
    "print(reverselistslice(data))\n",
    "print(reverseinbuilt(data))\n",
    "print(\"\"\"#####data######\"\"\")\n",
    "print(data)\n",
    "print(\"\"\"#####inplacechange######\"\"\")\n",
    "print(reverselistinplace(data))\n",
    "print(\"\"\"#####data######\"\"\")\n",
    "print(data)\n",
    "print(reverselistip(data))\n",
    "\n",
    "from timeit import Timer\n",
    "Timer(lambda: reverselistcopy(data)).timeit(), Timer(lambda: reverselistcp(data)).timeit(),Timer(lambda: reverselistslice(data)).timeit(),Timer(lambda: reverseinbuilt(data)).timeit(),Timer(lambda: reverselistinplace(data)).timeit(),Timer(lambda: reverselistip(data)).timeit()\n",
    "    "
   ]
  },
  {
   "cell_type": "code",
   "execution_count": 176,
   "id": "local-montgomery",
   "metadata": {},
   "outputs": [
    {
     "name": "stdout",
     "output_type": "stream",
     "text": [
      "[(7, 1), (7, 3), (1, 3)]\n"
     ]
    }
   ],
   "source": [
    "#--------C-1.14-----------\n",
    "def odd_pair(data):\n",
    "    odd_pair = []\n",
    "    for i in range(len(b)):\n",
    "         for j in range(i+1,len(b)):\n",
    "                if (b[i]*b[j])%2 != 0:\n",
    "                    odd_pair.append((b[i],b[j]))\n",
    "    return odd_pair\n",
    "\n",
    "data=[7,1,2,3]\n",
    "print(odd_pair(data))"
   ]
  },
  {
   "cell_type": "code",
   "execution_count": 171,
   "id": "brazilian-wireless",
   "metadata": {},
   "outputs": [
    {
     "name": "stdout",
     "output_type": "stream",
     "text": [
      "True\n",
      "False\n"
     ]
    }
   ],
   "source": [
    "#--------C-1.15-----------\n",
    "def distinctcheck(data):\n",
    "    unique_set = set()\n",
    "    for item in data:\n",
    "        if item in unique_set:\n",
    "            return False\n",
    "        else:\n",
    "            unique_set.add(item)\n",
    "    return True\n",
    "\n",
    "data=[8,4,6]\n",
    "print(distinctcheck(data))\n",
    "data=[5,6,4,4,9]\n",
    "print(distinctcheck(data))"
   ]
  },
  {
   "cell_type": "code",
   "execution_count": 187,
   "id": "municipal-tennessee",
   "metadata": {},
   "outputs": [
    {
     "name": "stdout",
     "output_type": "stream",
     "text": [
      "[16, 14, 18]\n"
     ]
    }
   ],
   "source": [
    "#--------C-1.16-----------\n",
    "def scale(data,factor):\n",
    "    for j in range(len(data)):\n",
    "        data[j] *= factor\n",
    "        \n",
    "data=[8,7,9]\n",
    "factor=2\n",
    "scale(data,factor)\n",
    "\n",
    "print(data)\n",
    "\"\"\"list is mutable , in place element changed.scaling creates a new object, but its reference is stored in the original list structure\n",
    "\"\"\""
   ]
  },
  {
   "cell_type": "code",
   "execution_count": 198,
   "id": "biological-disaster",
   "metadata": {},
   "outputs": [
    {
     "name": "stdout",
     "output_type": "stream",
     "text": [
      "2\n",
      "4\n",
      "3\n",
      "6\n",
      "4\n",
      "8\n",
      "[2, 3, 4]\n"
     ]
    }
   ],
   "source": [
    "#--------C-1.16-----------\n",
    "def scale(data, factor):\n",
    "    for val in data:\n",
    "        print(val)\n",
    "        val  *= factor\n",
    "        print(val)\n",
    "        \n",
    "data=[2,3,4]       \n",
    "scale(data,2)\n",
    "print(data)\n",
    "\n",
    "# val *= factor change the val and create new object of val but dosen't change the reference pointer of the list"
   ]
  },
  {
   "cell_type": "code",
   "execution_count": 249,
   "id": "traditional-combat",
   "metadata": {},
   "outputs": [
    {
     "name": "stdout",
     "output_type": "stream",
     "text": [
      "[1, 2, 5, 10]\n",
      "###factor###\n",
      "1\n",
      "2\n",
      "5\n",
      "10\n",
      "###factor###\n",
      "1\n",
      "100\n",
      "2\n",
      "50\n",
      "4\n",
      "25\n",
      "5\n",
      "20\n",
      "10\n",
      "###fibonacci###\n",
      "0\n",
      "1\n",
      "1\n",
      "2\n",
      "3\n",
      "5\n",
      "8\n",
      "###fibonacci###\n",
      "0\n",
      "1\n",
      "1\n",
      "2\n",
      "3\n",
      "5\n",
      "8\n",
      "13\n",
      "21\n",
      "34\n",
      "55\n"
     ]
    }
   ],
   "source": [
    "# Factors\n",
    "def factors(n):\n",
    "    results = []\n",
    "    for k in range(1,n+1):\n",
    "        if n%k == 0: # divides evenly, thus k is a factor\n",
    "            results.append(k)\n",
    "    return results\n",
    "\n",
    "print(factors(10))\n",
    "\n",
    "#generators\n",
    "def factors(n):\n",
    "    for k in range(1,n+1):\n",
    "        if n%k == 0:\n",
    "            yield k\n",
    "# call to generatoes until stopiteration \n",
    "print('###factor###')\n",
    "for factor in factors(10):\n",
    "    print(factor)\n",
    "       \n",
    "#improve the efficiency by checking up to square root to n\n",
    "def factors(n):\n",
    "    k=1\n",
    "    while k*k<n:\n",
    "        if n % k == 0:\n",
    "            yield k\n",
    "            yield n // k\n",
    "            #print('while n,k',n,k)\n",
    "        k += 1\n",
    "        #print('while k+',k)\n",
    "    if k *k == n:\n",
    "        #print('outwhile',k)\n",
    "        yield k\n",
    "print('###factor###')            \n",
    "for factor in factors(100):\n",
    "    print(factor)            \n",
    "\n",
    "#fibonacci\n",
    "def fibonacci(n):\n",
    "    a=0\n",
    "    b=1\n",
    "    while b<n:\n",
    "        yield a\n",
    "        future = a+b\n",
    "        a=b\n",
    "        b=future\n",
    "print('###fibonacci###')\n",
    "for febo in fibonacci(20):\n",
    "    print(febo)\n",
    "\n",
    "# simultaneous assignment\n",
    "def fibonacci(n):\n",
    "    a, b = 0, 1\n",
    "    while b<n:\n",
    "        yield a\n",
    "        a, b = b,a+b\n",
    "        \n",
    "print('###fibonacci###')\n",
    "for febo in fibonacci(100):\n",
    "    print(febo)        \n",
    "        "
   ]
  },
  {
   "cell_type": "code",
   "execution_count": 250,
   "id": "incorporated-orchestra",
   "metadata": {},
   "outputs": [
    {
     "name": "stdout",
     "output_type": "stream",
     "text": [
      "['a', 'b', 'c', 'd', 'e', 'f', 'g', 'h', 'i', 'j', 'k', 'l', 'm', 'n', 'o', 'p', 'q', 'r', 's', 't', 'u', 'v', 'w', 'x', 'y', 'z']\n",
      "['a', 'b', 'c', 'd', 'e', 'f', 'g', 'h', 'i', 'j', 'k', 'l', 'm', 'n', 'o', 'p', 'q', 'r', 's', 't', 'u', 'v', 'w', 'x', 'y', 'z']\n",
      "['a', 'b', 'c', 'd', 'e', 'f', 'g', 'h', 'i', 'j', 'k', 'l', 'm', 'n', 'o', 'p', 'q', 'r', 's', 't', 'u', 'v', 'w', 'x', 'y', 'z']\n",
      "['a', 'b', 'c', 'd', 'e', 'f', 'g', 'h', 'i', 'j', 'k', 'l', 'm', 'n', 'o', 'p', 'q', 'r', 's', 't', 'u', 'v', 'w', 'x', 'y', 'z']\n"
     ]
    }
   ],
   "source": [
    "#--------C-1.19-----------\n",
    "print(list(map(chr, range(97,123))))\n",
    "print([chr(i) for i in range(ord('a'),ord('z')+1)])\n",
    "print([chr(i) for i in range(97,123)])\n",
    "print([chr(97+x) for x in range(26)])"
   ]
  },
  {
   "cell_type": "code",
   "execution_count": 251,
   "id": "technological-fountain",
   "metadata": {},
   "outputs": [
    {
     "name": "stdout",
     "output_type": "stream",
     "text": [
      "[4, 5, 3]\n",
      "[7, 4, 1, 8]\n",
      "2 3\n",
      "0 2\n",
      "1 1\n",
      "0 0\n",
      "[8, 4, 7, 1]\n"
     ]
    }
   ],
   "source": [
    "#--------C-1.20-----------\n",
    "from random import randint\n",
    "#bootforce population of array\n",
    "def custom_shuffle(data):\n",
    "    new_list = [None]*len(data)\n",
    "    unique_index = set()\n",
    "    for i in range(len(data)):\n",
    "        append = False\n",
    "        while append == False:\n",
    "            k = randint(0,len(data)-1)\n",
    "            if k not in unique_index:\n",
    "                new_list[k] = data[i]\n",
    "                unique_index.add(k)\n",
    "                append = True    \n",
    "    return new_list\n",
    "\n",
    "data=[4,5,3]\n",
    "print(custom_shuffle(data))\n",
    "\n",
    "#simultaneous assignment inplace\n",
    "def custom_shuffle_swap(data):\n",
    "    l = len(data)\n",
    "    for i in range(l):\n",
    "        k=randint(0,l-1-i)\n",
    "        print(k,(l-1-i))\n",
    "        data[k], data[l-1-i] = data[l-1-i],data[k]\n",
    "        \n",
    "data=[7,4,1,8]\n",
    "print(data)\n",
    "custom_shuffle_swap(data)\n",
    "print(data)"
   ]
  },
  {
   "cell_type": "code",
   "execution_count": 254,
   "id": "relative-session",
   "metadata": {},
   "outputs": [
    {
     "name": "stdout",
     "output_type": "stream",
     "text": [
      "\n",
      "text\n",
      "to\n",
      "added\n",
      "important\n",
      "something\n"
     ]
    }
   ],
   "source": [
    "#--------C-1.21-----------\n",
    "#using file to simulate input\n",
    "def readinput(filepath):\n",
    "    fp = open(filepath)\n",
    "    result = []\n",
    "    while True:\n",
    "        try:\n",
    "            line = fp.readline()\n",
    "            if line == '':\n",
    "                raise EOFError\n",
    "            result.append(line[:-1])\n",
    "        except EOFError:\n",
    "            for line in reversed(result):\n",
    "                print(line)\n",
    "            return     \n",
    "\n",
    "            \n",
    "        \n",
    "readinput(r'SampleFiles/Chapter1ReadLines.txt')"
   ]
  },
  {
   "cell_type": "code",
   "execution_count": 265,
   "id": "stupid-partition",
   "metadata": {},
   "outputs": [
    {
     "name": "stdout",
     "output_type": "stream",
     "text": [
      "[15, 8, 7]\n",
      "[15, 8, 7]\n"
     ]
    },
    {
     "data": {
      "text/plain": [
       "(1.009858470002655, 0.8456178920023376)"
      ]
     },
     "execution_count": 265,
     "metadata": {},
     "output_type": "execute_result"
    }
   ],
   "source": [
    "#--------C-1.22-----------\n",
    "def arraymultiplication(a,b):\n",
    "    assert len(a) == len(b), 'Error, lengths must match'\n",
    "    #c=[None]*len(a)\n",
    "    c = []\n",
    "    for i in range(len(a)): \n",
    "        c.append(a[i]*b[i])\n",
    "    return c\n",
    "\n",
    "\n",
    "\n",
    "def arraymulzip(a,b):\n",
    "    c=[]\n",
    "    assert len(a) == len(b), 'Error, lengths must match'\n",
    "    for a,b in zip(a,b):\n",
    "        c.append(a*b)\n",
    "    return c    \n",
    "\n",
    "a=[5,4,7]\n",
    "b=[3,2,1]\n",
    "\n",
    "print(arraymultiplication(a,b))\n",
    "print(arraymulzip(a,b))\n",
    "\n",
    "Timer(lambda: arraymultiplication(a,b)).timeit(), Timer(lambda: arraymulzip(a,b)).timeit()        "
   ]
  },
  {
   "cell_type": "code",
   "execution_count": 269,
   "id": "direct-joining",
   "metadata": {},
   "outputs": [
    {
     "name": "stdout",
     "output_type": "stream",
     "text": [
      "Don’t try buffer overflow attacks in Python!\n",
      "None\n"
     ]
    }
   ],
   "source": [
    "#--------C-1.23-----------\n",
    "def arraymultiplication(a,b):\n",
    "    assert len(a) == len(b), 'Error, lengths must match'\n",
    "    #c=[None]*len(a)\n",
    "    c = []\n",
    "    try:\n",
    "        for i in range(len(a)+1): \n",
    "            c.append(a[i]*b[i])\n",
    "        return c\n",
    "    except IndexError:\n",
    "        print('Don’t try buffer overflow attacks in Python!')\n",
    "        \n",
    "a=[5,4,7]\n",
    "b=[3,2,1]\n",
    "\n",
    "print(arraymultiplication(a,b))"
   ]
  },
  {
   "cell_type": "code",
   "execution_count": 274,
   "id": "minute-berkeley",
   "metadata": {},
   "outputs": [
    {
     "name": "stdout",
     "output_type": "stream",
     "text": [
      "3\n"
     ]
    }
   ],
   "source": [
    "#--------C-1.24-----------\n",
    "def countvowels(data):\n",
    "    count = 0\n",
    "    vowels = {'a','e','i','o','u'}\n",
    "    for i in data.lower():\n",
    "        if i in vowels:\n",
    "            count += 1\n",
    "    return count\n",
    "\n",
    "data = 'cApital'\n",
    "print(countvowels(data))"
   ]
  },
  {
   "cell_type": "code",
   "execution_count": 282,
   "id": "moving-white",
   "metadata": {},
   "outputs": [
    {
     "name": "stdout",
     "output_type": "stream",
     "text": [
      "Let s try Mike\n",
      "Let s try Mike\n"
     ]
    }
   ],
   "source": [
    "#--------C-1.25-----------\n",
    "def removepunctuation(data):\n",
    "    punc = {'.', ',', '!', '?', ':', ';'}\n",
    "    new_data = []\n",
    "    for char in data:\n",
    "        if char not in punc:\n",
    "            new_data.append(char)\n",
    "    return ''.join(new_data)\n",
    "\n",
    "data = 'Let s try, Mike.'\n",
    "print(removepunctuation(data))\n",
    "\n",
    "def removebydel(data):\n",
    "    punc = {'.', ',', '!', '?', ':', ';'}\n",
    "    data_list = list(data)\n",
    "    for i in reversed(range(len(data_list))):\n",
    "        if data_list[i] in punc:\n",
    "            del data_list[i]\n",
    "    return ''.join(data_list)\n",
    "\n",
    "data = 'Let s try, Mike.'\n",
    "print(removebydel(data))"
   ]
  },
  {
   "cell_type": "code",
   "execution_count": 292,
   "id": "entertaining-piano",
   "metadata": {},
   "outputs": [
    {
     "name": "stdout",
     "output_type": "stream",
     "text": [
      "a+b = c, a * b == c\n"
     ]
    }
   ],
   "source": [
    "#--------C-1.26-----------\n",
    "def checkfunc(a,b,c):\n",
    "    if (a+b == c) & (a * b == c):\n",
    "        return 'a+b = c, a * b == c'\n",
    "    elif a+b == c:\n",
    "        return 'a+b=c'\n",
    "    elif a == b - c:\n",
    "        return 'a = b−c'\n",
    "    elif a * b == c:\n",
    "        return 'a∗b = c'\n",
    "    else:\n",
    "        return 'None of the formula'\n",
    "    \n",
    "a=2\n",
    "b=2\n",
    "c=4\n",
    "\n",
    "print(checkfunc(a,b,c))"
   ]
  },
  {
   "cell_type": "code",
   "execution_count": 300,
   "id": "loving-jimmy",
   "metadata": {},
   "outputs": [
    {
     "name": "stdout",
     "output_type": "stream",
     "text": [
      "1,100,2,50,4,25,5,20,10,Reached end of generator\n",
      "1,2,4,5,10,20,25,50,100,Reached end of generator\n"
     ]
    }
   ],
   "source": [
    "#--------C-1.26-----------\n",
    "#improve the efficiency by checking up to square root to n\n",
    "#original\n",
    "def factors1(n):\n",
    "    k=1\n",
    "    while k*k<n:\n",
    "        if n % k == 0:\n",
    "            yield k\n",
    "            yield n // k\n",
    "        k += 1\n",
    "        if k *k == n:\n",
    "            yield k\n",
    "        \n",
    "def factors2(n):\n",
    "    k=1\n",
    "    higher_factor = []\n",
    "    while k*k<n:\n",
    "        if n % k == 0:\n",
    "            yield k\n",
    "            higher_factor.append(n // k)\n",
    "        k += 1\n",
    "        if k *k == n:\n",
    "            yield k \n",
    "    for factor in reversed(higher_factor):\n",
    "        yield factor\n",
    "\n",
    "        \n",
    "def gen_tester(fun,n=100):\n",
    "    gen = fun(n)\n",
    "    for _ in range(n):\n",
    "        try:\n",
    "            print(next(gen),end=',')\n",
    "        except StopIteration as e:\n",
    "            print('Reached end of generator')\n",
    "            return    \n",
    "        \n",
    "gen_tester(factors1,100)\n",
    "gen_tester(factors2,100)"
   ]
  },
  {
   "cell_type": "code",
   "execution_count": 315,
   "id": "remarkable-regression",
   "metadata": {},
   "outputs": [
    {
     "name": "stdout",
     "output_type": "stream",
     "text": [
      "5.0\n",
      "5.0\n"
     ]
    }
   ],
   "source": [
    "#--------C-1.26-----------\n",
    "from math import sqrt\n",
    "def norm(v,p):\n",
    "    for i in range(len(v)):\n",
    "        v[i] = v[i]**p\n",
    "    return sqrt(sum(v))\n",
    "\n",
    "def norm2(v,p=2):\n",
    "    assert p!=0\n",
    "    sum=0\n",
    "    for num in v:\n",
    "        sum += num**p    \n",
    "    return sum**(1/p)  \n",
    "\n",
    "\n",
    "p=2\n",
    "print(norm([4,3],p))\n",
    "print(norm2([4,3],p))"
   ]
  }
 ],
 "metadata": {
  "kernelspec": {
   "display_name": "Python 3",
   "language": "python",
   "name": "python3"
  },
  "language_info": {
   "codemirror_mode": {
    "name": "ipython",
    "version": 3
   },
   "file_extension": ".py",
   "mimetype": "text/x-python",
   "name": "python",
   "nbconvert_exporter": "python",
   "pygments_lexer": "ipython3",
   "version": "3.7.4"
  }
 },
 "nbformat": 4,
 "nbformat_minor": 5
}
